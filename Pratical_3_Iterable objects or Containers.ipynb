{
 "cells": [
  {
   "cell_type": "markdown",
   "id": "d68c1dee",
   "metadata": {
    "id": "d68c1dee"
   },
   "source": [
    "# Practical_3: Iterable objects or Containers"
   ]
  },
  {
   "cell_type": "markdown",
   "id": "b13b4cec",
   "metadata": {
    "id": "bea983a3"
   },
   "source": [
    "\n",
    "### Exercise 1:\n",
    "Create a list of integers from 1 to 10."
   ]
  },
  {
   "cell_type": "code",
   "execution_count": 4,
   "id": "d70eacfc",
   "metadata": {
    "id": "bea983a3"
   },
   "outputs": [
    {
     "name": "stdout",
     "output_type": "stream",
     "text": [
      "[1, 2, 3, 4, 5, 6, 7, 8, 9, 10]\n"
     ]
    }
   ],
   "source": [
    "my_list = [1,2,3,4,5,6,7,8,9,10]\n",
    "print(my_list)"
   ]
  },
  {
   "cell_type": "markdown",
   "id": "b20c904a",
   "metadata": {
    "id": "bea983a3"
   },
   "source": [
    "\n",
    "### Exercise 2:\n",
    "Create a tuple containing the elements `\"apple\"`, `\"banana\"`, and `\"cherry\"`.\n",
    "\n"
   ]
  },
  {
   "cell_type": "code",
   "execution_count": 8,
   "id": "c260c29a",
   "metadata": {
    "id": "bea983a3"
   },
   "outputs": [
    {
     "name": "stdout",
     "output_type": "stream",
     "text": [
      "('apple', 'banana', 'cherry')\n"
     ]
    },
    {
     "data": {
      "text/plain": [
       "tuple"
      ]
     },
     "execution_count": 8,
     "metadata": {},
     "output_type": "execute_result"
    }
   ],
   "source": [
    " my_tuple = (\"apple\", \"banana\", \"cherry\")\n",
    "print(my_tuple)\n",
    "type(my_tuple)"
   ]
  },
  {
   "cell_type": "markdown",
   "id": "f3b8d323",
   "metadata": {
    "id": "bea983a3"
   },
   "source": [
    "### Exercise 3:\n",
    "Convert the list `numbers = [10, 20, 30, 40]` into a tuple.\n"
   ]
  },
  {
   "cell_type": "code",
   "execution_count": 10,
   "id": "2a85f608",
   "metadata": {
    "id": "bea983a3"
   },
   "outputs": [
    {
     "name": "stdout",
     "output_type": "stream",
     "text": [
      "(10, 20, 30, 40)\n"
     ]
    }
   ],
   "source": [
    "numbers = [10, 20, 30, 40]\n",
    "convert = tuple (numbers)\n",
    "print(convert)"
   ]
  },
  {
   "cell_type": "markdown",
   "id": "6db1eedd",
   "metadata": {
    "id": "bea983a3"
   },
   "source": [
    "### Exercise 4:\n",
    "Create a set containing the elements `1, 2, 3, 4, 5`.\n"
   ]
  },
  {
   "cell_type": "code",
   "execution_count": 11,
   "id": "27d6aca1",
   "metadata": {
    "id": "bea983a3"
   },
   "outputs": [
    {
     "data": {
      "text/plain": [
       "set"
      ]
     },
     "execution_count": 11,
     "metadata": {},
     "output_type": "execute_result"
    }
   ],
   "source": [
    "set_c = {1, 2, 3, 4, 5}\n",
    "type(set_c)"
   ]
  },
  {
   "cell_type": "markdown",
   "id": "e7ca3663",
   "metadata": {
    "id": "bea983a3"
   },
   "source": [
    "### Exercise 5:\n",
    "Create a dictionary `student` with the keys `\"name\"`, `\"age\"`, and `\"grade\"` and corresponding values `\"Alice\"`, `20`, and `\"A\"`."
   ]
  },
  {
   "cell_type": "code",
   "execution_count": 16,
   "id": "51ffb2e9",
   "metadata": {
    "id": "bea983a3"
   },
   "outputs": [
    {
     "name": "stdout",
     "output_type": "stream",
     "text": [
      "{'name': 'Alice', 'age': 20, 'grade': 'A'}\n"
     ]
    },
    {
     "data": {
      "text/plain": [
       "dict"
      ]
     },
     "execution_count": 16,
     "metadata": {},
     "output_type": "execute_result"
    }
   ],
   "source": [
    "student = {'name':\"Alice\",'age':20,'grade':\"A\"}\n",
    "print(student)\n",
    "type(student)"
   ]
  },
  {
   "cell_type": "markdown",
   "id": "94df90ba",
   "metadata": {
    "id": "bea983a3"
   },
   "source": [
    "### Exercise 6:\n",
    "Access the second element of the list `[10, 20, 30, 40, 50]` using indexing."
   ]
  },
  {
   "cell_type": "code",
   "execution_count": 17,
   "id": "6110cc0e",
   "metadata": {
    "id": "bea983a3"
   },
   "outputs": [
    {
     "name": "stdout",
     "output_type": "stream",
     "text": [
      "20\n"
     ]
    }
   ],
   "source": [
    "my_list = [10, 20, 30, 40, 50]\n",
    "print(my_list[1])"
   ]
  },
  {
   "cell_type": "markdown",
   "id": "f1bfe78e",
   "metadata": {
    "id": "bea983a3"
   },
   "source": [
    "### Exercise 7:\n",
    "Change the third element of the list `fruits = [\"apple\", \"banana\", \"cherry\", \"orange\"]` to `\"mango\"`."
   ]
  },
  {
   "cell_type": "code",
   "execution_count": 21,
   "id": "b8c2d731",
   "metadata": {
    "id": "bea983a3"
   },
   "outputs": [
    {
     "name": "stdout",
     "output_type": "stream",
     "text": [
      "['apple', 'banana', 'mango', 'orange']\n"
     ]
    }
   ],
   "source": [
    "fruits = [\"apple\", \"banana\", \"cherry\", \"orange\"]\n",
    "fruits[2] = \"mango\"\n",
    "print(fruits)"
   ]
  },
  {
   "cell_type": "markdown",
   "id": "6a7db2f3",
   "metadata": {
    "id": "bea983a3"
   },
   "source": [
    "### Exercise 8:\n",
    "Add the number `6` to the set `numbers = {1, 2, 3, 4, 5}`."
   ]
  },
  {
   "cell_type": "code",
   "execution_count": 24,
   "id": "8292d5a1",
   "metadata": {
    "id": "bea983a3"
   },
   "outputs": [
    {
     "name": "stdout",
     "output_type": "stream",
     "text": [
      "{1, 2, 3, 4, 5, 6}\n"
     ]
    }
   ],
   "source": [
    "numbers = {1, 2, 3, 4, 5}\n",
    "numbers.add(6)\n",
    "print(numbers)"
   ]
  },
  {
   "cell_type": "markdown",
   "id": "79510ef4",
   "metadata": {
    "id": "bea983a3"
   },
   "source": [
    "### Exercise 9:\n",
    "Remove the key `\"age\"` from the dictionary `person = {\"name\": \"John\", \"age\": 25, \"city\": \"New York\"}`."
   ]
  },
  {
   "cell_type": "code",
   "execution_count": 34,
   "id": "336dd512",
   "metadata": {
    "id": "bea983a3"
   },
   "outputs": [
    {
     "name": "stdout",
     "output_type": "stream",
     "text": [
      "{'name': 'John', 'city': 'New York'}\n"
     ]
    }
   ],
   "source": [
    "person = {\"name\": \"John\", \"age\": 25, \"city\": \"New York\"}\n",
    "person.pop(\"age\")\n",
    "print(person)\n",
    "#ou\n",
    "del person[\"age\"]\n",
    "print(person)\n"
   ]
  },
  {
   "cell_type": "markdown",
   "id": "a94a7f45",
   "metadata": {
    "id": "bea983a3"
   },
   "source": [
    "### Exercise 10:\n",
    "Create a range object starting from 0 to 9."
   ]
  },
  {
   "cell_type": "code",
   "execution_count": 1,
   "id": "c9c50058",
   "metadata": {
    "id": "bea983a3"
   },
   "outputs": [
    {
     "name": "stdout",
     "output_type": "stream",
     "text": [
      "range(0, 10)\n"
     ]
    },
    {
     "data": {
      "text/plain": [
       "range"
      ]
     },
     "execution_count": 1,
     "metadata": {},
     "output_type": "execute_result"
    }
   ],
   "source": [
    "rang = range(0,10)\n",
    "print(rang)\n",
    "type(rang)"
   ]
  },
  {
   "cell_type": "markdown",
   "id": "b548f421",
   "metadata": {
    "id": "bea983a3"
   },
   "source": [
    "### Exercise 11:\n",
    "Use a list comprehension to create a list of squares of numbers from 1 to 10."
   ]
  },
  {
   "cell_type": "code",
   "execution_count": 45,
   "id": "6f4df747",
   "metadata": {
    "id": "bea983a3"
   },
   "outputs": [
    {
     "name": "stdout",
     "output_type": "stream",
     "text": [
      "[1, 4, 9, 16, 25, 36, 49, 64, 81, 100]\n"
     ]
    }
   ],
   "source": [
    "a = [i**2 for i in range(1,11)]\n",
    "print(a)"
   ]
  },
  {
   "cell_type": "markdown",
   "id": "0aa5bb22",
   "metadata": {
    "id": "bea983a3"
   },
   "source": [
    "### Exercise 12:\n",
    "Create a tuple of even numbers between 2 and 10 using a tuple comprehension."
   ]
  },
  {
   "cell_type": "code",
   "execution_count": 46,
   "id": "9e392c04",
   "metadata": {
    "id": "bea983a3"
   },
   "outputs": [
    {
     "data": {
      "text/plain": [
       "[2, 4, 6, 8, 10]"
      ]
     },
     "execution_count": 46,
     "metadata": {},
     "output_type": "execute_result"
    }
   ],
   "source": [
    "even = [] \n",
    "list_numbers = [2,3,4,5,6,7,8,9,10]\n",
    "\n",
    "for i in list_numbers :\n",
    "    if i%2 ==0:\n",
    "        even.append(i)\n",
    "even"
   ]
  },
  {
   "cell_type": "markdown",
   "id": "4c448075",
   "metadata": {
    "id": "bea983a3"
   },
   "source": [
    "### Exercise 13:\n",
    "Use a for loop to iterate through the list `fruits = [\"apple\", \"banana\", \"cherry\"]` and print each element."
   ]
  },
  {
   "cell_type": "code",
   "execution_count": 48,
   "id": "089add47",
   "metadata": {
    "id": "bea983a3"
   },
   "outputs": [
    {
     "name": "stdout",
     "output_type": "stream",
     "text": [
      "apple\n",
      "banana\n",
      "cherry\n"
     ]
    }
   ],
   "source": [
    "fruits = [\"apple\", \"banana\", \"cherry\"]\n",
    "for i  in fruits :\n",
    "    print(i)"
   ]
  },
  {
   "cell_type": "markdown",
   "id": "33c259cf",
   "metadata": {
    "id": "bea983a3"
   },
   "source": [
    "### Exercise 14:\n",
    "Check if the value `3` exists in the set `numbers = {1, 2, 3, 4, 5}`."
   ]
  },
  {
   "cell_type": "code",
   "execution_count": 49,
   "id": "b2d538e6",
   "metadata": {
    "id": "bea983a3"
   },
   "outputs": [
    {
     "name": "stdout",
     "output_type": "stream",
     "text": [
      "la valeur 3 est dans l ensemble\n"
     ]
    }
   ],
   "source": [
    "numbers = {1, 2, 3, 4, 5}\n",
    "if 3 in numbers:\n",
    "    print(\"la valeur 3 est dans l ensemble\")\n",
    "else:\n",
    "    print(\"la valeur 3 n est pas dans l ensemble\")"
   ]
  },
  {
   "cell_type": "markdown",
   "id": "f43a6cc3",
   "metadata": {
    "id": "bea983a3"
   },
   "source": [
    "### Exercise 15:\n",
    "Use the `len()` function to find the length of the tuple `numbers = (10, 20, 30)`."
   ]
  },
  {
   "cell_type": "code",
   "execution_count": 51,
   "id": "6c7b39d3",
   "metadata": {
    "id": "bea983a3"
   },
   "outputs": [
    {
     "data": {
      "text/plain": [
       "3"
      ]
     },
     "execution_count": 51,
     "metadata": {},
     "output_type": "execute_result"
    }
   ],
   "source": [
    "numbers = (10, 20, 30)\n",
    "len(numbers)\n"
   ]
  },
  {
   "cell_type": "markdown",
   "id": "f2e4c810",
   "metadata": {
    "id": "bea983a3"
   },
   "source": [
    "### Exercise 16:\n",
    "Add the value `100` at the end of the list `scores = [80, 85, 90, 95]`."
   ]
  },
  {
   "cell_type": "code",
   "execution_count": 60,
   "id": "7b9709ec",
   "metadata": {
    "id": "bea983a3"
   },
   "outputs": [
    {
     "name": "stdout",
     "output_type": "stream",
     "text": [
      "[80, 85, 90, 95, 100]\n"
     ]
    }
   ],
   "source": [
    "scores = [80, 85, 90, 95]\n",
    "scores.append(100)\n",
    "print(scores)"
   ]
  },
  {
   "cell_type": "markdown",
   "id": "dc456f4d",
   "metadata": {
    "id": "bea983a3"
   },
   "source": [
    "### Exercise 17:\n",
    "Write a function that takes a list as input and returns the sum of all elements in the list.\n"
   ]
  },
  {
   "cell_type": "code",
   "execution_count": 16,
   "id": "9f4e37e9",
   "metadata": {
    "id": "bea983a3"
   },
   "outputs": [],
   "source": [
    "def sum_list(liste):\n",
    "    summ = 0\n",
    "    for i in range(len(liste)) :\n",
    "        summ += liste[i]\n",
    "    return summ"
   ]
  },
  {
   "cell_type": "code",
   "execution_count": 17,
   "id": "6fea43b5",
   "metadata": {
    "id": "bea983a3"
   },
   "outputs": [
    {
     "data": {
      "text/plain": [
       "450"
      ]
     },
     "execution_count": 17,
     "metadata": {},
     "output_type": "execute_result"
    }
   ],
   "source": [
    "liste=[80, 85, 90, 95, 100]\n",
    "sum_list(liste)"
   ]
  },
  {
   "cell_type": "markdown",
   "id": "1e159308",
   "metadata": {
    "id": "bea983a3"
   },
   "source": [
    "### Exercise 18:\n",
    "Create a set containing the unique elements of the list `numbers = [1, 2, 2, 3, 4, 4, 5]`.\n"
   ]
  },
  {
   "cell_type": "code",
   "execution_count": 21,
   "id": "7f734eed",
   "metadata": {
    "id": "bea983a3"
   },
   "outputs": [
    {
     "name": "stdout",
     "output_type": "stream",
     "text": [
      "{1, 2, 3, 4, 5}\n"
     ]
    }
   ],
   "source": [
    "numbers = [1, 2, 2, 3, 4, 4, 5]\n",
    "set_u = set(numbers)\n",
    "print(set_u)"
   ]
  },
  {
   "cell_type": "markdown",
   "id": "79f1a786",
   "metadata": {
    "id": "bea983a3"
   },
   "source": [
    "### Exercise 19:\n",
    "Convert the string `\"hello\"` into a list of characters."
   ]
  },
  {
   "cell_type": "code",
   "execution_count": 23,
   "id": "2fc3728e",
   "metadata": {
    "id": "bea983a3"
   },
   "outputs": [
    {
     "name": "stdout",
     "output_type": "stream",
     "text": [
      "['h', 'e', 'l', 'l', 'o']\n"
     ]
    },
    {
     "data": {
      "text/plain": [
       "list"
      ]
     },
     "execution_count": 23,
     "metadata": {},
     "output_type": "execute_result"
    }
   ],
   "source": [
    "string = \"hello\"\n",
    "liste = list(string)\n",
    "print(liste)"
   ]
  },
  {
   "cell_type": "code",
   "execution_count": 26,
   "id": "525d7319",
   "metadata": {},
   "outputs": [
    {
     "data": {
      "text/plain": [
       "['hello']"
      ]
     },
     "execution_count": 26,
     "metadata": {},
     "output_type": "execute_result"
    }
   ],
   "source": [
    "string = [\"hello\"]#liste d un seul element\n",
    "string\n"
   ]
  },
  {
   "cell_type": "markdown",
   "id": "ed6fba5d",
   "metadata": {
    "id": "bea983a3"
   },
   "source": [
    "### Exercise 20:\n",
    "Write a Python function that reverses a tuple `(1, 2, 3, 4)`.\n"
   ]
  },
  {
   "cell_type": "code",
   "execution_count": 30,
   "id": "df683cfc",
   "metadata": {
    "id": "bea983a3"
   },
   "outputs": [
    {
     "data": {
      "text/plain": [
       "(4, 3, 2, 1)"
      ]
     },
     "execution_count": 30,
     "metadata": {},
     "output_type": "execute_result"
    }
   ],
   "source": [
    "def reverse_tuple(liste):\n",
    "    liste = liste[::-1]\n",
    "    return liste\n",
    "liste = (1, 2, 3, 4)\n",
    "reverse_tuple(liste)"
   ]
  },
  {
   "cell_type": "code",
   "execution_count": 52,
   "id": "f71163c5",
   "metadata": {
    "id": "bea983a3"
   },
   "outputs": [
    {
     "data": {
      "text/plain": [
       "[7, 5, 4, 4, 3, 2, 1]"
      ]
     },
     "execution_count": 52,
     "metadata": {},
     "output_type": "execute_result"
    }
   ],
   "source": [
    "def reverse_t(liste):#la meme question en utilisant la boucle\n",
    "    revers=[]\n",
    "    for i in range(len(liste)):\n",
    "        revers.append(liste[len(liste)-1-i])\n",
    "    return revers\n",
    "reverse_t([1, 2, 3,4, 4,5,7]) \n",
    "    "
   ]
  },
  {
   "cell_type": "markdown",
   "id": "196cea7d",
   "metadata": {
    "id": "bea983a3"
   },
   "source": [
    "### Exercise 21:\n",
    "Merge two dictionaries `dict1 = {\"a\": 1, \"b\": 2}` and `dict2 = {\"c\": 3, \"d\": 4}` into a single dictionary.\n"
   ]
  },
  {
   "cell_type": "code",
   "execution_count": 66,
   "id": "6ebbdbae",
   "metadata": {
    "id": "bea983a3"
   },
   "outputs": [
    {
     "name": "stdout",
     "output_type": "stream",
     "text": [
      "{'a': 1, 'b': 2, 'c': 3, 'd': 4}\n"
     ]
    }
   ],
   "source": [
    "dict1 = {\"a\": 1, \"b\": 2}\n",
    "dict2 = {\"c\": 3, \"d\": 4}\n",
    "dict1.update(dict2)\n",
    "print(dict1)"
   ]
  },
  {
   "cell_type": "code",
   "execution_count": 17,
   "id": "0b6d18fb",
   "metadata": {},
   "outputs": [
    {
     "name": "stdout",
     "output_type": "stream",
     "text": [
      "{'a': 1, 'b': 2, 'c': 3, 'd': 4}\n"
     ]
    }
   ],
   "source": [
    "dict1 = {\"a\": 1, \"b\": 2}\n",
    "dict2 = {\"c\": 3,\"d\": 4}\n",
    "\n",
    "merged_dict = {**dict1, **dict2}\n",
    "print(merged_dict)\n"
   ]
  },
  {
   "cell_type": "code",
   "execution_count": 18,
   "id": "6b52cd35",
   "metadata": {
    "id": "bea983a3"
   },
   "outputs": [
    {
     "name": "stdout",
     "output_type": "stream",
     "text": [
      "{'a': 1, 'b': 2, 'c': 3, 'd': 4}\n"
     ]
    }
   ],
   "source": [
    "dict1 = {\"a\": 1, \"b\": 2}\n",
    "dict2 = {\"c\": 3, \"d\": 4}\n",
    "merged_dict = dict1 | dict2\n",
    "print(merged_dict)"
   ]
  },
  {
   "cell_type": "code",
   "execution_count": 19,
   "id": "fefd001d",
   "metadata": {
    "id": "bea983a3"
   },
   "outputs": [
    {
     "name": "stdout",
     "output_type": "stream",
     "text": [
      "{'c': 3, 'd': 4, 'a': 1, 'b': 2}\n"
     ]
    }
   ],
   "source": [
    "dict1 = {\"a\": 1, \"b\": 2}\n",
    "dict2 = {\"c\": 3, \"d\": 4}\n",
    "dict2.update(dict1)\n",
    "print(dict2)"
   ]
  },
  {
   "cell_type": "markdown",
   "id": "2dce4abf",
   "metadata": {
    "id": "bea983a3"
   },
   "source": [
    "### Exercise 22:\n",
    "Create a dictionary where keys are numbers from 1 to 5, and values are their squares.\n"
   ]
  },
  {
   "cell_type": "code",
   "execution_count": 32,
   "id": "5f00530a",
   "metadata": {},
   "outputs": [
    {
     "name": "stdout",
     "output_type": "stream",
     "text": [
      "{1: 1, 2: 4, 3: 9, 4: 16, 5: 25}\n"
     ]
    }
   ],
   "source": [
    "squares = {i: i**2 for i in range(1, 6)}\n",
    "print(squares)\n",
    "\n"
   ]
  },
  {
   "cell_type": "code",
   "execution_count": null,
   "id": "a7fabe2a",
   "metadata": {},
   "outputs": [],
   "source": [
    "\n",
    "    "
   ]
  },
  {
   "cell_type": "markdown",
   "id": "d569f47a",
   "metadata": {
    "id": "bea983a3"
   },
   "source": [
    "### Exercise 23:\n",
    "Write a Python program to iterate through a dictionary and print each key-value pair."
   ]
  },
  {
   "cell_type": "code",
   "execution_count": 33,
   "id": "7111ebb9",
   "metadata": {
    "id": "bea983a3"
   },
   "outputs": [
    {
     "name": "stdout",
     "output_type": "stream",
     "text": [
      "Key: a, Value: 1\n",
      "Key: b, Value: 2\n",
      "Key: c, Value: 3\n"
     ]
    }
   ],
   "source": [
    "# Sample dictionary\n",
    "my_dict = {\"a\": 1, \"b\": 2, \"c\": 3}\n",
    "\n",
    "# Iterate and print each key-value pair\n",
    "for key, value in my_dict.items():\n",
    "    print(f\"Key: {key}, Value: {value}\")\n"
   ]
  },
  {
   "cell_type": "markdown",
   "id": "fca0948a",
   "metadata": {
    "id": "bea983a3"
   },
   "source": [
    "### Exercise 24:\n",
    "Create a list of the first 5 letters of the alphabet using the `chr()` function."
   ]
  },
  {
   "cell_type": "code",
   "execution_count": 40,
   "id": "52a245ea",
   "metadata": {
    "id": "bea983a3"
   },
   "outputs": [
    {
     "name": "stdout",
     "output_type": "stream",
     "text": [
      "['a', 'b', 'c', 'd', 'e']\n"
     ]
    }
   ],
   "source": [
    "letters = [chr(i) for i in range(ord('a'), ord('a') + 5)]\n",
    "print(letters)\n"
   ]
  },
  {
   "cell_type": "markdown",
   "id": "1eec1659",
   "metadata": {
    "id": "bea983a3"
   },
   "source": [
    "### Exercise 25:\n",
    "Use the `zip()` function to combine two lists `[1, 2, 3]` and `[\"a\", \"b\", \"c\"]` into a list of tuples."
   ]
  },
  {
   "cell_type": "code",
   "execution_count": 41,
   "id": "d60c79fb",
   "metadata": {
    "id": "bea983a3"
   },
   "outputs": [
    {
     "name": "stdout",
     "output_type": "stream",
     "text": [
      "[(1, 'a'), (2, 'b'), (3, 'c')]\n"
     ]
    }
   ],
   "source": [
    "list1 = [1, 2, 3]\n",
    "list2 = [\"a\", \"b\", \"c\"]\n",
    "\n",
    "combined = list(zip(list1, list2))\n",
    "print(combined)\n"
   ]
  },
  {
   "cell_type": "code",
   "execution_count": null,
   "id": "9dfc5c9e",
   "metadata": {
    "id": "bea983a3"
   },
   "outputs": [],
   "source": [
    "### Exercise 26:\n",
    "Find the index of the value `50` in the list `[10, 20, 30, 40, 50]`."
   ]
  },
  {
   "cell_type": "code",
   "execution_count": 42,
   "id": "d1dc152b",
   "metadata": {
    "id": "bea983a3"
   },
   "outputs": [
    {
     "name": "stdout",
     "output_type": "stream",
     "text": [
      "4\n"
     ]
    }
   ],
   "source": [
    "numbers = [10, 20, 30, 40, 50]\n",
    "index_50 = numbers.index(50)\n",
    "print(index_50)\n"
   ]
  },
  {
   "cell_type": "markdown",
   "id": "ca7096b1",
   "metadata": {
    "id": "bea983a3"
   },
   "source": [
    "### Exercise 27:\n",
    "Sort the list `names = [\"Alice\", \"Bob\", \"Charlie\", \"David\"]` in alphabetical order."
   ]
  },
  {
   "cell_type": "code",
   "execution_count": 47,
   "id": "f48ddc2b",
   "metadata": {
    "id": "bea983a3"
   },
   "outputs": [
    {
     "name": "stdout",
     "output_type": "stream",
     "text": [
      "['Alice', 'Bob', 'Charlie', 'David']\n"
     ]
    }
   ],
   "source": [
    "names = [\"Alice\", \"Charlie\" ,\"Bob\", \"David\"]\n",
    "sorted_names = sorted(names)\n",
    "print(sorted_names)\n"
   ]
  },
  {
   "cell_type": "code",
   "execution_count": 44,
   "id": "f644a735",
   "metadata": {},
   "outputs": [
    {
     "name": "stdout",
     "output_type": "stream",
     "text": [
      "['Alice', 'Bob', 'Charlie', 'David']\n"
     ]
    }
   ],
   "source": [
    "names = [\"Alice\", \"Bob\", \"Charlie\", \"David\"]\n",
    "names.sort()\n",
    "print(names)\n"
   ]
  },
  {
   "cell_type": "markdown",
   "id": "addb29b6",
   "metadata": {
    "id": "bea983a3"
   },
   "source": [
    "### Exercise 28:\n",
    "Write a Python function that takes a list of integers as input and returns the largest number."
   ]
  },
  {
   "cell_type": "code",
   "execution_count": 48,
   "id": "7671ae7d",
   "metadata": {
    "id": "bea983a3"
   },
   "outputs": [],
   "source": [
    "def find_largest(numbers):\n",
    "    if not numbers:\n",
    "        return None  \n",
    "    return max(numbers)\n"
   ]
  },
  {
   "cell_type": "code",
   "execution_count": 49,
   "id": "7953fb42",
   "metadata": {},
   "outputs": [
    {
     "name": "stdout",
     "output_type": "stream",
     "text": [
      "Largest number: 54\n"
     ]
    }
   ],
   "source": [
    "nums = [3, 17, 54, 8, 29]\n",
    "largest = find_largest(nums)\n",
    "print(\"Largest number:\", largest)\n"
   ]
  },
  {
   "cell_type": "markdown",
   "id": "b81de8cc",
   "metadata": {
    "id": "bea983a3"
   },
   "source": [
    "### Exercise 29:\n",
    "Use the `count()` method to count how many times `\"apple\"` appears in the list `fruits = [\"apple\", \"banana\", \"apple\", \"orange\"]`."
   ]
  },
  {
   "cell_type": "code",
   "execution_count": 50,
   "id": "7d28aa6f",
   "metadata": {
    "id": "bea983a3"
   },
   "outputs": [
    {
     "name": "stdout",
     "output_type": "stream",
     "text": [
      "2\n"
     ]
    }
   ],
   "source": [
    "fruits = [\"apple\", \"banana\", \"apple\", \"orange\"]\n",
    "apple_count = fruits.count(\"apple\")\n",
    "print(apple_count)\n"
   ]
  },
  {
   "cell_type": "markdown",
   "id": "852745fb",
   "metadata": {
    "id": "bea983a3"
   },
   "source": [
    "### Exercise 30:\n",
    "Create a dictionary `person` where keys are `\"name\"`, `\"age\"`, and `\"city\"`, and values are `\"Alice\"`, `25`, and `\"New York\"` respectively. Then access the value of the `\"city\"` key."
   ]
  },
  {
   "cell_type": "code",
   "execution_count": 51,
   "id": "c83106d3",
   "metadata": {
    "id": "bea983a3"
   },
   "outputs": [
    {
     "name": "stdout",
     "output_type": "stream",
     "text": [
      "New York\n"
     ]
    }
   ],
   "source": [
    "# Create the dictionary\n",
    "person = {\n",
    "    \"name\": \"Alice\",\n",
    "    \"age\": 25,\n",
    "    \"city\": \"New York\"\n",
    "}\n",
    "\n",
    "# Access the value of the \"city\" key\n",
    "print(person[\"city\"])\n"
   ]
  },
  {
   "cell_type": "markdown",
   "id": "99cdf0d6",
   "metadata": {
    "id": "bea983a3"
   },
   "source": [
    "### Exercise 31:\n",
    "Write a Python function that takes a list as input and returns a new list with all duplicates removed."
   ]
  },
  {
   "cell_type": "code",
   "execution_count": 55,
   "id": "f4aff854",
   "metadata": {
    "id": "bea983a3"
   },
   "outputs": [
    {
     "name": "stdout",
     "output_type": "stream",
     "text": [
      "[1, 2, 3, 4, 5]\n"
     ]
    }
   ],
   "source": [
    "def remove_duplicates(input_list):\n",
    "    return list(set(input_list))\n",
    "input_list = [1, 2, 2, 3, 4, 4, 5,5,5,1]\n",
    "unique_list = remove_duplicates(input_list)\n",
    "print(unique_list)\n",
    "\n"
   ]
  },
  {
   "cell_type": "markdown",
   "id": "4056a287",
   "metadata": {
    "id": "bea983a3"
   },
   "source": [
    "### Exercise 32:\n",
    "Write a Python function that takes two lists and returns their intersection."
   ]
  },
  {
   "cell_type": "code",
   "execution_count": 57,
   "id": "913b9564",
   "metadata": {
    "id": "bea983a3"
   },
   "outputs": [
    {
     "name": "stdout",
     "output_type": "stream",
     "text": [
      "Intersection: [3, 4]\n"
     ]
    }
   ],
   "source": [
    "def list_intersection(list1, list2):\n",
    "    return list(set(list1) & set(list2))\n",
    "a = [1, 2, 3, 4]\n",
    "b = [3, 4, 5, 6]\n",
    "common = list_intersection(a, b)\n",
    "print(\"Intersection:\", common)\n",
    "\n"
   ]
  },
  {
   "cell_type": "markdown",
   "id": "454a7d52",
   "metadata": {
    "id": "bea983a3"
   },
   "source": [
    "### Exercise 33:\n",
    "Create a generator that yields the squares of numbers from 1 to 10."
   ]
  },
  {
   "cell_type": "code",
   "execution_count": 64,
   "id": "384f8d1c",
   "metadata": {
    "id": "bea983a3"
   },
   "outputs": [
    {
     "name": "stdout",
     "output_type": "stream",
     "text": [
      "1\n",
      "4\n",
      "9\n",
      "16\n",
      "25\n",
      "36\n",
      "49\n",
      "64\n",
      "81\n",
      "100\n"
     ]
    }
   ],
   "source": [
    "def square_generator():\n",
    "    for i in range(1, 11):\n",
    "        yield i ** 2\n",
    "for square in square_generator():\n",
    "    print(square)\n",
    "\n"
   ]
  },
  {
   "cell_type": "markdown",
   "id": "23acb58d",
   "metadata": {
    "id": "bea983a3"
   },
   "source": [
    "### Exercise 34:\n",
    "Write a Python function that takes a dictionary as input and returns the sum of all its values."
   ]
  },
  {
   "cell_type": "code",
   "execution_count": 65,
   "id": "8a6946d2",
   "metadata": {
    "id": "bea983a3"
   },
   "outputs": [
    {
     "name": "stdout",
     "output_type": "stream",
     "text": [
      "Sum of values: 60\n"
     ]
    }
   ],
   "source": [
    "def sum_dict_values(my_dict):\n",
    "    return sum(my_dict.values())\n",
    "my_dict = {\"a\": 10, \"b\": 20, \"c\": 30}\n",
    "total = sum_dict_values(my_dict)\n",
    "print(\"Sum of values:\", total)\n",
    "\n"
   ]
  },
  {
   "cell_type": "markdown",
   "id": "d545bff1",
   "metadata": {
    "id": "bea983a3"
   },
   "source": [
    "### Exercise 35:\n",
    "Use the `sorted()` function to sort the list `[3, 1, 4, 1, 5, 9]` in ascending order."
   ]
  },
  {
   "cell_type": "code",
   "execution_count": 66,
   "id": "80772013",
   "metadata": {
    "id": "bea983a3"
   },
   "outputs": [
    {
     "name": "stdout",
     "output_type": "stream",
     "text": [
      "[1, 1, 3, 4, 5, 9]\n"
     ]
    }
   ],
   "source": [
    "numbers = [3, 1, 4, 1, 5, 9]\n",
    "sorted_numbers = sorted(numbers)\n",
    "print(sorted_numbers)\n"
   ]
  },
  {
   "cell_type": "code",
   "execution_count": 67,
   "id": "8259a935",
   "metadata": {},
   "outputs": [
    {
     "name": "stdout",
     "output_type": "stream",
     "text": [
      "[1, 1, 3, 4, 5, 9]\n"
     ]
    }
   ],
   "source": [
    "numbers = [3, 1, 4, 1, 5, 9]\n",
    "numbers.sort()\n",
    "print(numbers)"
   ]
  },
  {
   "cell_type": "markdown",
   "id": "ab1de79f",
   "metadata": {
    "id": "bea983a3"
   },
   "source": [
    "### Exercise 36:\n",
    "Write a Python function that takes a list of strings as input and returns the longest string."
   ]
  },
  {
   "cell_type": "code",
   "execution_count": 69,
   "id": "83acd8f3",
   "metadata": {
    "id": "bea983a3"
   },
   "outputs": [
    {
     "name": "stdout",
     "output_type": "stream",
     "text": [
      "Longest string: pineapple\n"
     ]
    }
   ],
   "source": [
    "def find_longest_string(strings):\n",
    "    if not strings:\n",
    "        return None  # Handle empty list\n",
    "    return max(strings, key=len)\n",
    "strings = [\"apple\", \"banana\", \"cherry\", \"pineapple\"]\n",
    "longest = find_longest_string(strings)\n",
    "print(\"Longest string:\", longest)\n",
    "\n"
   ]
  },
  {
   "cell_type": "markdown",
   "id": "b8e4b737",
   "metadata": {
    "id": "bea983a3"
   },
   "source": [
    "### Exercise 37:\n",
    "Check if all the elements in the list `[1, 2, 3, 4, 5]` are greater than 0 using the `all()` function."
   ]
  },
  {
   "cell_type": "code",
   "execution_count": 72,
   "id": "2a37848c",
   "metadata": {
    "id": "bea983a3"
   },
   "outputs": [
    {
     "name": "stdout",
     "output_type": "stream",
     "text": [
      "True\n"
     ]
    }
   ],
   "source": [
    "list_numbers = [1, 2, 3, 4, 5]\n",
    "all_positive = all(n > 0 for n in list_numbers)\n",
    "print(all_positive)"
   ]
  },
  {
   "cell_type": "markdown",
   "id": "007d33b3",
   "metadata": {
    "id": "bea983a3"
   },
   "source": [
    "### Exercise 38:\n",
    "Create a list of tuples where each tuple contains a number and its square for numbers from 1 to 5."
   ]
  },
  {
   "cell_type": "code",
   "execution_count": 73,
   "id": "2c839159",
   "metadata": {
    "id": "bea983a3"
   },
   "outputs": [
    {
     "name": "stdout",
     "output_type": "stream",
     "text": [
      "[(1, 1), (2, 4), (3, 9), (4, 16), (5, 25)]\n"
     ]
    }
   ],
   "source": [
    "squares = [(i, i**2) for i in range(1, 6)]\n",
    "print(squares)\n"
   ]
  },
  {
   "cell_type": "markdown",
   "id": "488179fd",
   "metadata": {
    "id": "bea983a3"
   },
   "source": [
    "### Exercise 39:\n",
    "Write a Python function that takes a list of tuples and returns a list of the second elements from each tuple."
   ]
  },
  {
   "cell_type": "code",
   "execution_count": 74,
   "id": "44ef402b",
   "metadata": {
    "id": "bea983a3"
   },
   "outputs": [
    {
     "name": "stdout",
     "output_type": "stream",
     "text": [
      "['a', 'b', 'c']\n"
     ]
    }
   ],
   "source": [
    "def get_second_elements(tuples_list):\n",
    "    return [t[1] for t in tuples_list]\n",
    "tuples_list = [(1, 'a'), (2, 'b'), (3, 'c')]\n",
    "second_elements = get_second_elements(tuples_list)\n",
    "print(second_elements)\n"
   ]
  },
  {
   "cell_type": "markdown",
   "id": "4be8e3ce",
   "metadata": {
    "id": "bea983a3"
   },
   "source": [
    "### Exercise 40:\n",
    "Write a Python function that flattens a list of lists into a single list.\n",
    "\n",
    "`"
   ]
  },
  {
   "cell_type": "code",
   "execution_count": 76,
   "id": "7c28b390",
   "metadata": {
    "id": "bea983a3"
   },
   "outputs": [
    {
     "name": "stdout",
     "output_type": "stream",
     "text": [
      "[1, 2, 3, 4, 5]\n"
     ]
    }
   ],
   "source": [
    "def flatten_list(llist):\n",
    "    return [item for sublist in llist for item in sublist]\n",
    "llist = [[1, 2], [3, 4], [5]]\n",
    "flat = flatten_list(llist)\n",
    "print(flat)\n",
    "\n"
   ]
  },
  {
   "cell_type": "markdown",
   "id": "1cd2eb6b",
   "metadata": {
    "id": "bea983a3"
   },
   "source": [
    "### Exercise 41:\n",
    "Use the `enumerate()` function to iterate through the list `[\"apple\", \"banana\", \"cherry\"]` and print the index and value."
   ]
  },
  {
   "cell_type": "code",
   "execution_count": 77,
   "id": "6b700c4c",
   "metadata": {
    "id": "bea983a3"
   },
   "outputs": [
    {
     "name": "stdout",
     "output_type": "stream",
     "text": [
      "Index: 0, Value: apple\n",
      "Index: 1, Value: banana\n",
      "Index: 2, Value: cherry\n"
     ]
    }
   ],
   "source": [
    "fruits = [\"apple\", \"banana\", \"cherry\"]\n",
    "\n",
    "for index, value in enumerate(fruits):\n",
    "    print(f\"Index: {index}, Value: {value}\")\n"
   ]
  },
  {
   "cell_type": "markdown",
   "id": "d6bedde6",
   "metadata": {
    "id": "bea983a3"
   },
   "source": [
    "### Exercise 42:\n",
    "Write a Python program that checks if a tuple is empty."
   ]
  },
  {
   "cell_type": "code",
   "execution_count": 78,
   "id": "71f1fa63",
   "metadata": {
    "id": "bea983a3"
   },
   "outputs": [
    {
     "name": "stdout",
     "output_type": "stream",
     "text": [
      "The tuple is empty.\n"
     ]
    }
   ],
   "source": [
    "def is_tuple_empty(t):\n",
    "    return len(t) == 0\n",
    "\n",
    "# Example usage\n",
    "my_tuple = ()\n",
    "if is_tuple_empty(my_tuple):\n",
    "    print(\"The tuple is empty.\")\n",
    "else:\n",
    "    print(\"The tuple is not empty.\")\n"
   ]
  },
  {
   "cell_type": "markdown",
   "id": "96983b02",
   "metadata": {
    "id": "bea983a3"
   },
   "source": [
    "### Exercise 43:\n",
    "Create a list of even numbers between 1 and 20 using the `range()` function."
   ]
  },
  {
   "cell_type": "code",
   "execution_count": 79,
   "id": "618fce06",
   "metadata": {
    "id": "bea983a3"
   },
   "outputs": [
    {
     "name": "stdout",
     "output_type": "stream",
     "text": [
      "[2, 4, 6, 8, 10, 12, 14, 16, 18, 20]\n"
     ]
    }
   ],
   "source": [
    "even_numbers = list(range(2, 21, 2))\n",
    "print(even_numbers)\n"
   ]
  },
  {
   "cell_type": "markdown",
   "id": "f8d3c8cc",
   "metadata": {
    "id": "bea983a3"
   },
   "source": [
    "### Exercise 44:\n",
    "Write a Python function that takes a list of numbers as input and returns the list in reverse order."
   ]
  },
  {
   "cell_type": "code",
   "execution_count": 81,
   "id": "db65dff9",
   "metadata": {
    "id": "bea983a3"
   },
   "outputs": [
    {
     "name": "stdout",
     "output_type": "stream",
     "text": [
      "[5, 4, 3, 2, 1]\n"
     ]
    }
   ],
   "source": [
    "def reverse_list(my_list):\n",
    "    return my_list[::-1]\n",
    "my_list = [1, 2, 3, 4, 5]\n",
    "reversed_list = reverse_list(my_list)\n",
    "print(reversed_list)\n",
    "\n"
   ]
  },
  {
   "cell_type": "markdown",
   "id": "dd321508",
   "metadata": {
    "id": "bea983a3"
   },
   "source": [
    "### Exercise 45:\n",
    "Create a dictionary comprehension that maps numbers from 1 to 5 to their cubes."
   ]
  },
  {
   "cell_type": "code",
   "execution_count": 82,
   "id": "68e4a318",
   "metadata": {
    "id": "bea983a3"
   },
   "outputs": [
    {
     "name": "stdout",
     "output_type": "stream",
     "text": [
      "{1: 1, 2: 8, 3: 27, 4: 64, 5: 125}\n"
     ]
    }
   ],
   "source": [
    "cubes = {x: x**3 for x in range(1, 6)}\n",
    "print(cubes)\n"
   ]
  },
  {
   "cell_type": "markdown",
   "id": "1c44303f",
   "metadata": {
    "id": "bea983a3"
   },
   "source": [
    "### Exercise 46:\n",
    "Write a Python program that creates a new list containing only the unique elements of the list `[1, 2, 2, 3, 4, 4, 5]`."
   ]
  },
  {
   "cell_type": "code",
   "execution_count": 83,
   "id": "a5ae3982",
   "metadata": {
    "id": "bea983a3"
   },
   "outputs": [
    {
     "name": "stdout",
     "output_type": "stream",
     "text": [
      "[1, 2, 3, 4, 5]\n"
     ]
    }
   ],
   "source": [
    "original_list = [1, 2, 2, 3, 4, 4, 5]\n",
    "unique_list = list(set(original_list))\n",
    "print(unique_list)\n"
   ]
  },
  {
   "cell_type": "code",
   "execution_count": 84,
   "id": "7a4e7192",
   "metadata": {},
   "outputs": [
    {
     "name": "stdout",
     "output_type": "stream",
     "text": [
      "[1, 2, 3, 4, 5]\n"
     ]
    }
   ],
   "source": [
    "original_list = [1, 2, 2, 3, 4, 4, 5]\n",
    "unique_list = []\n",
    "for item in original_list:\n",
    "    if item not in unique_list:\n",
    "        unique_list.append(item)\n",
    "print(unique_list)\n",
    "\n"
   ]
  },
  {
   "cell_type": "markdown",
   "id": "786c6143",
   "metadata": {
    "id": "bea983a3"
   },
   "source": [
    "### Exercise 47:\n",
    "Write a Python function that takes a list of dictionaries and returns a list of the values for a given key."
   ]
  },
  {
   "cell_type": "code",
   "execution_count": 85,
   "id": "17bf11be",
   "metadata": {
    "id": "bea983a3"
   },
   "outputs": [
    {
     "name": "stdout",
     "output_type": "stream",
     "text": [
      "['Alice', 'Bob', 'Charlie']\n"
     ]
    }
   ],
   "source": [
    "def extract_values(dict_list, key):\n",
    "    return [d[key] for d in dict_list if key in d]\n",
    "dict_list = [\n",
    "    {\"name\": \"Alice\", \"age\": 25},\n",
    "    {\"name\": \"Bob\", \"age\": 30},\n",
    "    {\"name\": \"Charlie\", \"city\": \"New York\"}\n",
    "]\n",
    "\n",
    "names = extract_values(dict_list, \"name\")\n",
    "print(names)\n"
   ]
  },
  {
   "cell_type": "markdown",
   "id": "b6a29628",
   "metadata": {
    "id": "bea983a3"
   },
   "source": [
    "### Exercise 48:\n",
    "Write a Python function that uses a generator to yield the Fibonacci sequence up to `n` terms."
   ]
  },
  {
   "cell_type": "code",
   "execution_count": 86,
   "id": "18472172",
   "metadata": {
    "id": "bea983a3"
   },
   "outputs": [
    {
     "name": "stdout",
     "output_type": "stream",
     "text": [
      "0\n",
      "1\n",
      "1\n",
      "2\n",
      "3\n",
      "5\n",
      "8\n",
      "13\n",
      "21\n",
      "34\n"
     ]
    }
   ],
   "source": [
    "def fibonacci_generator(n):\n",
    "    a, b = 0, 1\n",
    "    for _ in range(n):\n",
    "        yield a\n",
    "        a, b = b, a + b\n",
    "for num in fibonacci_generator(10):\n",
    "    print(num)\n"
   ]
  },
  {
   "cell_type": "markdown",
   "id": "0ab7b717",
   "metadata": {
    "id": "bea983a3"
   },
   "source": [
    "### Exercise 49:\n",
    "Write a Python function that takes a string and returns a list of all unique characters in the string."
   ]
  },
  {
   "cell_type": "code",
   "execution_count": 88,
   "id": "be2ee64c",
   "metadata": {
    "id": "bea983a3"
   },
   "outputs": [
    {
     "name": "stdout",
     "output_type": "stream",
     "text": [
      "['l', 'd', 'e', 'o', 'h', 'r', ' ', 'w']\n"
     ]
    }
   ],
   "source": [
    "def unique_characters(s):\n",
    "    return list(set(s))\n",
    "text = \"hello world\"\n",
    "unique_chars = unique_characters(text)\n",
    "print(unique_chars)\n",
    "\n"
   ]
  },
  {
   "cell_type": "markdown",
   "id": "89dab235",
   "metadata": {
    "id": "bea983a3"
   },
   "source": [
    "### Exercise 50:\n",
    "Write a Python function that merges two sorted lists into a single sorted list."
   ]
  },
  {
   "cell_type": "code",
   "execution_count": 90,
   "id": "e44e9eb0",
   "metadata": {
    "id": "bea983a3"
   },
   "outputs": [
    {
     "name": "stdout",
     "output_type": "stream",
     "text": [
      "[1, 2, 3, 4, 5, 6]\n"
     ]
    }
   ],
   "source": [
    "def merge_sorted_lists(list1, list2):\n",
    "    merged = []\n",
    "    i, j = 0, 0\n",
    "\n",
    "    # Merge elements from both lists in order\n",
    "    while i < len(list1) and j < len(list2):\n",
    "        if list1[i] < list2[j]:\n",
    "            merged.append(list1[i])\n",
    "            i += 1\n",
    "        else:\n",
    "            merged.append(list2[j])\n",
    "            j += 1\n",
    "\n",
    "    # Append remaining elements from either list\n",
    "    merged.extend(list1[i:])\n",
    "    merged.extend(list2[j:])\n",
    "    \n",
    "    return merged\n",
    "a = [1, 3, 5]\n",
    "b = [2, 4, 6]\n",
    "result = merge_sorted_lists(a, b)\n",
    "print(result)\n",
    "\n"
   ]
  },
  {
   "cell_type": "markdown",
   "id": "3b20ffdb",
   "metadata": {
    "id": "bea983a3"
   },
   "source": [
    "### Exercise 51:\n",
    "Use the\n",
    "\n",
    " `filter()` function to filter out odd numbers from the list `[1, 2, 3, 4, 5, 6]`.\n"
   ]
  },
  {
   "cell_type": "code",
   "execution_count": 92,
   "id": "3521ae68",
   "metadata": {
    "id": "bea983a3"
   },
   "outputs": [
    {
     "name": "stdout",
     "output_type": "stream",
     "text": [
      "[2, 4, 6]\n"
     ]
    }
   ],
   "source": [
    "numbers = [1, 2, 3, 4, 5, 6]\n",
    "odd_numbers = list(filter(lambda x: x % 2 == 0, numbers))\n",
    "print(odd_numbers)\n"
   ]
  },
  {
   "cell_type": "markdown",
   "id": "6a5a4196",
   "metadata": {
    "id": "bea983a3"
   },
   "source": [
    "### Exercise 52:\n",
    "Write a Python program that converts a list of tuples `[(1, 2), (3, 4), (5, 6)]` into a dictionary.\n"
   ]
  },
  {
   "cell_type": "code",
   "execution_count": 93,
   "id": "09f62acc",
   "metadata": {
    "id": "bea983a3"
   },
   "outputs": [
    {
     "name": "stdout",
     "output_type": "stream",
     "text": [
      "{1: 2, 3: 4, 5: 6}\n"
     ]
    }
   ],
   "source": [
    "# List of tuples\n",
    "tuple_list = [(1, 2), (3, 4), (5, 6)]\n",
    "\n",
    "# Convert to dictionary\n",
    "result_dict = dict(tuple_list)\n",
    "\n",
    "# Print the result\n",
    "print(result_dict)\n"
   ]
  },
  {
   "cell_type": "markdown",
   "id": "f6ab022d",
   "metadata": {
    "id": "bea983a3"
   },
   "source": [
    "### Exercise 53:\n",
    "Write a Python function that takes two sets and returns their symmetric difference.\n"
   ]
  },
  {
   "cell_type": "code",
   "execution_count": 94,
   "id": "6a94ef06",
   "metadata": {
    "id": "bea983a3"
   },
   "outputs": [
    {
     "name": "stdout",
     "output_type": "stream",
     "text": [
      "{1, 2, 4, 5}\n"
     ]
    }
   ],
   "source": [
    "def symmetric_difference(set1, set2):\n",
    "    return set1.symmetric_difference(set2)\n",
    "a = {1, 2, 3}\n",
    "b = {3, 4, 5}\n",
    "result = symmetric_difference(a, b)\n",
    "print(result)\n"
   ]
  },
  {
   "cell_type": "markdown",
   "id": "205527bd",
   "metadata": {
    "id": "bea983a3"
   },
   "source": [
    "### Exercise 54:\n",
    "Write a Python program that finds the common elements in three lists `list1`, `list2`, and `list3`.\n"
   ]
  },
  {
   "cell_type": "code",
   "execution_count": 95,
   "id": "8d2779bb",
   "metadata": {
    "id": "bea983a3"
   },
   "outputs": [
    {
     "name": "stdout",
     "output_type": "stream",
     "text": [
      "Common elements: [2, 3]\n"
     ]
    }
   ],
   "source": [
    "def find_common_elements(list1, list2, list3):\n",
    "    return list(set(list1) & set(list2) & set(list3))\n",
    "\n",
    "# Example usage\n",
    "list1 = [1, 2, 3, 4]\n",
    "list2 = [2, 3, 5, 6]\n",
    "list3 = [0, 2, 3, 7]\n",
    "\n",
    "common = find_common_elements(list1, list2, list3)\n",
    "print(\"Common elements:\", common)\n"
   ]
  },
  {
   "cell_type": "markdown",
   "id": "3c52c116",
   "metadata": {
    "id": "bea983a3"
   },
   "source": [
    "### Exercise 55:\n",
    "Write a Python function that returns the factorial of a number using recursion."
   ]
  },
  {
   "cell_type": "code",
   "execution_count": 96,
   "id": "2e731b14",
   "metadata": {
    "id": "bea983a3"
   },
   "outputs": [
    {
     "name": "stdout",
     "output_type": "stream",
     "text": [
      "120\n"
     ]
    }
   ],
   "source": [
    "def factorial(n):\n",
    "    if n < 0:\n",
    "        raise ValueError(\"Factorial is not defined for negative numbers.\")\n",
    "    if n == 0 or n == 1:\n",
    "        return 1\n",
    "    return n * factorial(n - 1)\n",
    "print(factorial(5))  \n"
   ]
  },
  {
   "cell_type": "markdown",
   "id": "9359ed4a",
   "metadata": {
    "id": "bea983a3"
   },
   "source": [
    "### Exercise 56:\n",
    "Write a Python program that removes all empty strings from the list `[\"apple\", \"\", \"banana\", \"\", \"cherry\"]`.\n"
   ]
  },
  {
   "cell_type": "code",
   "execution_count": 1,
   "id": "306bf6aa",
   "metadata": {
    "id": "bea983a3"
   },
   "outputs": [
    {
     "name": "stdout",
     "output_type": "stream",
     "text": [
      "['apple', 'banana', 'cherry']\n"
     ]
    }
   ],
   "source": [
    "fruits = [\"apple\", \"\", \"banana\", \"\", \"cherry\"]\n",
    "remov_empty_fruits = [fruit for fruit in fruits if fruit != \"\"]\n",
    "print(remov_empty_fruits)\n"
   ]
  },
  {
   "cell_type": "markdown",
   "id": "045aada4",
   "metadata": {
    "id": "bea983a3"
   },
   "source": [
    "### Exercise 57:\n",
    "Write a Python function that takes a dictionary and returns a new dictionary with the keys and values swapped.\n"
   ]
  },
  {
   "cell_type": "markdown",
   "id": "a7e7d9fc",
   "metadata": {},
   "source": [
    "def swap_dict_keys_values(my_dict):\n",
    "    swapped_dict = {value: key for key, value in my_dict.items()}\n",
    "    return swapped_dict\n",
    "\n",
    "my_dict = {'a': 1, 'b': 2, 'c': 3,'d':4,'e':5}\n",
    "swapped = swap_dict_keys_values(my_dict)\n",
    "print(swapped)\n"
   ]
  },
  {
   "cell_type": "markdown",
   "id": "efd5e0f0",
   "metadata": {
    "id": "bea983a3"
   },
   "source": [
    "### Exercise 58:\n",
    "Write a Python function that takes a list of integers and returns a new list with only the even numbers."
   ]
  },
  {
   "cell_type": "code",
   "execution_count": 7,
   "id": "67efd263",
   "metadata": {},
   "outputs": [
    {
     "name": "stdout",
     "output_type": "stream",
     "text": [
      "[2, 4, 6, 8, 10]\n"
     ]
    }
   ],
   "source": [
    "def even_numbers(my_list):\n",
    "    return[num for num in my_list if num % 2==0 ]\n",
    "my_list = [1,2,3,4,5,6,7,8,9,10]\n",
    "my_even_list = even_numbers(my_list)\n",
    "print(my_even_list)\n",
    "    "
   ]
  },
  {
   "cell_type": "markdown",
   "id": "e38bb318",
   "metadata": {
    "id": "bea983a3"
   },
   "source": [
    "### Exercise 59:\n",
    "Write a Python function that takes a list of tuples and returns a list of the first elements of each tuple."
   ]
  },
  {
   "cell_type": "code",
   "execution_count": 9,
   "id": "72d40382",
   "metadata": {
    "id": "bea983a3"
   },
   "outputs": [
    {
     "name": "stdout",
     "output_type": "stream",
     "text": [
      "[1, 2, 3]\n"
     ]
    }
   ],
   "source": [
    "def get_first_elements(tuple_list):\n",
    "    return [t[0] for t in tuple_list]\n",
    "\n",
    "my_tuples = [(1, 'a'), (2, 'b'), (3, 'c')]\n",
    "first_elements = get_first_elements(my_tuples)\n",
    "print(first_elements)\n"
   ]
  },
  {
   "cell_type": "markdown",
   "id": "6e32aa85",
   "metadata": {
    "id": "bea983a3"
   },
   "source": [
    "### Exercise 60:\n",
    "Write a Python program that removes duplicates from a list without changing the order of elements."
   ]
  },
  {
   "cell_type": "code",
   "execution_count": 13,
   "id": "e2d90823",
   "metadata": {
    "id": "bea983a3"
   },
   "outputs": [
    {
     "name": "stdout",
     "output_type": "stream",
     "text": [
      "[2, 3, 1, 4, 5]\n"
     ]
    }
   ],
   "source": [
    "def remove_duplicates(my_list):\n",
    "    ens = set()\n",
    "    result = []\n",
    "    for item in my_list:\n",
    "        if item not in ens:\n",
    "            ens.add(item)\n",
    "            result.append(item)\n",
    "    return result\n",
    "\n",
    "my_list = [ 2, 2, 3, 1, 4, 3,1,5]\n",
    "not_duplicate = remove_duplicates(my_list)\n",
    "print(not_duplicate)\n",
    "\n"
   ]
  },
  {
   "cell_type": "markdown",
   "id": "dea18db1",
   "metadata": {
    "id": "bea983a3"
   },
   "source": [
    "### Exercise 61:\n",
    "Use the `map()` function to convert a list of strings to a list of their lengths."
   ]
  },
  {
   "cell_type": "code",
   "execution_count": 2,
   "id": "2f98e3ee",
   "metadata": {},
   "outputs": [
    {
     "name": "stdout",
     "output_type": "stream",
     "text": [
      "[5, 7, 5]\n"
     ]
    }
   ],
   "source": [
    "my_list = [\"fatou\", \"binetou\", \"mbaye\"]\n",
    "lengths = list(map(len, my_list))\n",
    "print(lengths)\n"
   ]
  },
  {
   "cell_type": "markdown",
   "id": "dbed6314",
   "metadata": {
    "id": "bea983a3"
   },
   "source": [
    "### Exercise 62:\n",
    "Write a Python program that calculates the average of a list of numbers."
   ]
  },
  {
   "cell_type": "code",
   "execution_count": 6,
   "id": "b571fe0d",
   "metadata": {
    "id": "bea983a3"
   },
   "outputs": [
    {
     "name": "stdout",
     "output_type": "stream",
     "text": [
      "The average = 30.0\n"
     ]
    }
   ],
   "source": [
    "my_list = [10, 20, 30, 40, 50]\n",
    "\n",
    "if my_list:\n",
    "    average = sum(my_list) / len(my_list)\n",
    "    print(\"The average =\", average)\n",
    "else:\n",
    "    print(\"The list is empty.\")\n"
   ]
  },
  {
   "cell_type": "markdown",
   "id": "4a8fd600",
   "metadata": {
    "id": "bea983a3"
   },
   "source": [
    "### Exercise 63:\n",
    "Write a Python function that generates a list of the first `n` Fibonacci numbers."
   ]
  },
  {
   "cell_type": "code",
   "execution_count": 7,
   "id": "8ccf6b68",
   "metadata": {
    "id": "bea983a3"
   },
   "outputs": [
    {
     "name": "stdout",
     "output_type": "stream",
     "text": [
      "[0, 1, 1, 2, 3, 5, 8, 13, 21, 34]\n"
     ]
    }
   ],
   "source": [
    "def n_fibonacci(n):\n",
    "    fib_sequence = []\n",
    "    a, b = 0, 1\n",
    "    for _ in range(n):\n",
    "        fib_sequence.append(a)\n",
    "        a, b = b, a + b\n",
    "    return fib_sequence\n",
    "\n",
    "# Example usage:\n",
    "print(n_fibonacci(10))\n"
   ]
  },
  {
   "cell_type": "markdown",
   "id": "6c468454",
   "metadata": {
    "id": "bea983a3"
   },
   "source": [
    "### Exercise 64:\n",
    "Write a Python program that counts how many times each element appears in the list `[\"apple\", \"banana\", \"apple\", \"cherry\"]`."
   ]
  },
  {
   "cell_type": "code",
   "execution_count": 9,
   "id": "542e9f35",
   "metadata": {},
   "outputs": [
    {
     "name": "stdout",
     "output_type": "stream",
     "text": [
      "{'apple': 2, 'banana': 1, 'cherry': 1}\n"
     ]
    }
   ],
   "source": [
    "fruits = [\"apple\", \"banana\", \"apple\", \"cherry\"]\n",
    "\n",
    "count_dict = {}\n",
    "\n",
    "for f in fruits:\n",
    "    if f in count_dict:\n",
    "        count_dict[f] += 1\n",
    "    else:\n",
    "        count_dict[f] = 1\n",
    "\n",
    "# Print the result\n",
    "print(count_dict)\n"
   ]
  },
  {
   "cell_type": "markdown",
   "id": "2356dab7",
   "metadata": {
    "id": "bea983a3"
   },
   "source": [
    "### Exercise 65:\n",
    "Write a Python program that removes all occurrences of a specific value from a list."
   ]
  },
  {
   "cell_type": "code",
   "execution_count": 10,
   "id": "a6103312",
   "metadata": {
    "id": "bea983a3"
   },
   "outputs": [
    {
     "name": "stdout",
     "output_type": "stream",
     "text": [
      "Updated list: ['banana', 'cherry']\n"
     ]
    }
   ],
   "source": [
    "def remove_occ(liste, value):\n",
    "    return [item for item in liste if item != value]\n",
    "\n",
    "my_list = [\"apple\", \"banana\", \"apple\", \"cherry\", \"apple\"]\n",
    "value_to_remove = \"apple\"\n",
    "\n",
    "filtered_list = remove_occ(my_list, value_to_remove)\n",
    "print(\"Updated list:\", filtered_list)\n"
   ]
  },
  {
   "cell_type": "markdown",
   "id": "72a5ec3c",
   "metadata": {
    "id": "bea983a3"
   },
   "source": [
    "### Exercise 66:\n",
    "Write a Python function that takes a list of strings and returns a list of the strings that start with a vowel."
   ]
  },
  {
   "cell_type": "code",
   "execution_count": 12,
   "id": "55c42d9a",
   "metadata": {
    "id": "bea983a3"
   },
   "outputs": [
    {
     "name": "stdout",
     "output_type": "stream",
     "text": [
      "['apple', 'orange']\n"
     ]
    }
   ],
   "source": [
    "def starts_vowel(words):\n",
    "    vowels = ('a', 'e', 'i', 'o', 'u')\n",
    "    return [word for word in words if word and word[0].lower() in vowels]\n",
    "\n",
    "words_list = [\"apple\", \"banana\", \"orange\", \"pineapple\", \"fraise\"]\n",
    "vowel_words = starts_vowel(words_list)\n",
    "print(vowel_words)\n"
   ]
  },
  {
   "cell_type": "markdown",
   "id": "2a74d046",
   "metadata": {
    "id": "bea983a3"
   },
   "source": [
    "### Exercise 67:\n",
    "Write a Python program that finds the intersection of two sets `set1` and `set2`."
   ]
  },
  {
   "cell_type": "code",
   "execution_count": 13,
   "id": "a59770f6",
   "metadata": {
    "id": "bea983a3"
   },
   "outputs": [
    {
     "name": "stdout",
     "output_type": "stream",
     "text": [
      "Intersection: {'binetou', 'samba'}\n"
     ]
    }
   ],
   "source": [
    "set1 = {\"fatou\", \"binetou\", \"mbaye\",\"samba\"}\n",
    "set2 = {\"binetou\", \"samba\", \"papa\", \"daouda\"}\n",
    "\n",
    "intersection = set1 & set2\n",
    "\n",
    "print(\"Intersection:\", intersection)\n"
   ]
  },
  {
   "cell_type": "markdown",
   "id": "8b2a1f24",
   "metadata": {
    "id": "bea983a3"
   },
   "source": [
    "### Exercise 68:\n",
    "Write a Python function that flattens a nested list."
   ]
  },
  {
   "cell_type": "code",
   "execution_count": 18,
   "id": "20e38a66",
   "metadata": {
    "id": "bea983a3"
   },
   "outputs": [
    {
     "name": "stdout",
     "output_type": "stream",
     "text": [
      "[10, 20, 30, 40, 50, 60, 70, 80]\n"
     ]
    }
   ],
   "source": [
    "def flattens_liste(nested_liste):\n",
    "    flat_list = []\n",
    "    for item in nested_liste:\n",
    "        if isinstance(item, list):\n",
    "            flat_list.extend(flattens_liste(item)) \n",
    "        else:\n",
    "            flat_list.append(item)\n",
    "    return flat_list\n",
    "\n",
    "nested = [10, [20, [30, 40], 50], 60, [70, 80]]\n",
    "flattened = flattens_liste(nested)\n",
    "print(flattened)\n"
   ]
  },
  {
   "cell_type": "markdown",
   "id": "f9849439",
   "metadata": {
    "id": "bea983a3"
   },
   "source": [
    "### Exercise 69:\n",
    "Write a Python program that checks if all the elements in a list are unique."
   ]
  },
  {
   "cell_type": "code",
   "execution_count": 21,
   "id": "e62d45a5",
   "metadata": {
    "id": "bea983a3"
   },
   "outputs": [
    {
     "name": "stdout",
     "output_type": "stream",
     "text": [
      "False\n"
     ]
    }
   ],
   "source": [
    "def all_unique(liste):\n",
    "    return len(liste) == len(set(liste))\n",
    "\n",
    "\n",
    "my_list = [1, 2,2, 3, 4, 5]\n",
    "unik = all_unique(my_list)\n",
    "print(unik)"
   ]
  },
  {
   "cell_type": "markdown",
   "id": "5f651a45",
   "metadata": {
    "id": "bea983a3"
   },
   "source": [
    "### Exercise 70:\n",
    "Use the `reduce()` function from the `functools` module to multiply all elements in a list."
   ]
  },
  {
   "cell_type": "code",
   "execution_count": 22,
   "id": "d3d7528f",
   "metadata": {
    "id": "bea983a3"
   },
   "outputs": [
    {
     "name": "stdout",
     "output_type": "stream",
     "text": [
      "Product of all elements: 120\n"
     ]
    }
   ],
   "source": [
    "from functools import reduce\n",
    "\n",
    "numbers = [2, 3, 4, 5]\n",
    "product = reduce(lambda x, y: x * y, numbers)\n",
    "\n",
    "print(\"Product of all elements:\", product)\n"
   ]
  },
  {
   "cell_type": "markdown",
   "id": "ff37d91c",
   "metadata": {
    "id": "bea983a3"
   },
   "source": [
    "### Exercise 71:\n",
    "Write a Python function that takes a list of strings and returns a dictionary where keys are strings and values are their lengths."
   ]
  },
  {
   "cell_type": "code",
   "execution_count": 23,
   "id": "38f13b6f",
   "metadata": {
    "id": "bea983a3"
   },
   "outputs": [
    {
     "name": "stdout",
     "output_type": "stream",
     "text": [
      "{'apple': 5, 'banana': 6, 'pineapple': 9}\n"
     ]
    }
   ],
   "source": [
    "def strings_to_length_dict(strings):\n",
    "    return {s: len(s) for s in strings}\n",
    "\n",
    "words = [\"apple\", \"banana\", \"pineapple\"]\n",
    "result = strings_to_length_dict(words)\n",
    "print(result)\n"
   ]
  },
  {
   "cell_type": "markdown",
   "id": "c040de53",
   "metadata": {
    "id": "bea983a3"
   },
   "source": [
    "### Exercise 72:\n",
    "Write a Python program that counts the number of vowels in a string."
   ]
  },
  {
   "cell_type": "code",
   "execution_count": 24,
   "id": "95bdc468",
   "metadata": {
    "id": "bea983a3"
   },
   "outputs": [
    {
     "name": "stdout",
     "output_type": "stream",
     "text": [
      "Enter a string: aaaaaabjhdg\n",
      "Number of vowels: 6\n"
     ]
    }
   ],
   "source": [
    "def count_vowels(texte):\n",
    "    vowels = \"aeiouAEIOU\"\n",
    "    count = 0\n",
    "    for char in texte:\n",
    "        if char in vowels:\n",
    "            count += 1\n",
    "    return count\n",
    "\n",
    "my_input = input(\"Enter a string: \")\n",
    "vowel_count = count_vowels(my_input)\n",
    "print(\"Number of vowels:\", vowel_count)\n"
   ]
  },
  {
   "cell_type": "markdown",
   "id": "01a9db3d",
   "metadata": {
    "id": "bea983a3"
   },
   "source": [
    "### Exercise 73:\n",
    "Create a list of tuples where each tuple contains a number from 1 to 5 and its factorial."
   ]
  },
  {
   "cell_type": "code",
   "execution_count": 25,
   "id": "4ebd1d8f",
   "metadata": {
    "id": "bea983a3"
   },
   "outputs": [
    {
     "name": "stdout",
     "output_type": "stream",
     "text": [
      "[(1, 1), (2, 2), (3, 6), (4, 24), (5, 120)]\n"
     ]
    }
   ],
   "source": [
    "import math\n",
    "\n",
    "factorial_tuples = [(n, math.factorial(n)) for n in range(1, 6)]\n",
    "print(factorial_tuples)\n"
   ]
  },
  {
   "cell_type": "markdown",
   "id": "310d86c5",
   "metadata": {
    "id": "bea983a3"
   },
   "source": [
    "### Exercise 74:\n",
    "Write a Python program that converts a list of dictionaries into a single dictionary by merging them."
   ]
  },
  {
   "cell_type": "code",
   "execution_count": 26,
   "id": "501b7916",
   "metadata": {
    "id": "bea983a3"
   },
   "outputs": [
    {
     "name": "stdout",
     "output_type": "stream",
     "text": [
      "{'a': 4, 'b': 2, 'c': 3}\n"
     ]
    }
   ],
   "source": [
    "def merge_dicts(dict_list):\n",
    "    merged = {}\n",
    "    for d in dict_list:\n",
    "        merged.update(d)\n",
    "    return merged\n",
    "\n",
    "dicts = [{\"a\": 1}, {\"b\": 2}, {\"c\": 3}, {\"a\": 4}]\n",
    "result = merge_dicts(dicts)\n",
    "print(result)\n"
   ]
  },
  {
   "cell_type": "markdown",
   "id": "210460fb",
   "metadata": {
    "id": "bea983a3"
   },
   "source": [
    "### Exercise 75:\n",
    "Write a Python function that checks if a set is a subset of another set."
   ]
  },
  {
   "cell_type": "code",
   "execution_count": 27,
   "id": "7ca14cbd",
   "metadata": {
    "id": "bea983a3"
   },
   "outputs": [
    {
     "name": "stdout",
     "output_type": "stream",
     "text": [
      "Is set_a a subset of set_b? True\n"
     ]
    }
   ],
   "source": [
    "def is_subset(subset, superset):\n",
    "    return subset.issubset(superset)\n",
    "\n",
    "set_a = {1, 2}\n",
    "set_b = {1, 2, 3, 4}\n",
    "\n",
    "print(\"Is set_a a subset of set_b?\", is_subset(set_a, set_b))\n"
   ]
  },
  {
   "cell_type": "markdown",
   "id": "31e3606c",
   "metadata": {
    "id": "bea983a3"
   },
   "source": [
    "### Exercise 76:\n",
    "Write a Python program that sorts a list of tuples based on the second element in each tuple."
   ]
  },
  {
   "cell_type": "code",
   "execution_count": 28,
   "id": "f3a41334",
   "metadata": {
    "id": "bea983a3"
   },
   "outputs": [
    {
     "name": "stdout",
     "output_type": "stream",
     "text": [
      "Sorted list: [('banana', 1), ('cherry', 2), ('date', 3)]\n"
     ]
    }
   ],
   "source": [
    "data = [(\"date\", 3), (\"banana\", 1), (\"cherry\", 2)]\n",
    "\n",
    "sorted_data = sorted(data, key=lambda x: x[1])\n",
    "\n",
    "# Print the result\n",
    "print(\"Sorted list:\", sorted_data)\n"
   ]
  },
  {
   "cell_type": "markdown",
   "id": "7b4dfff1",
   "metadata": {
    "id": "bea983a3"
   },
   "source": [
    "### Exercise 77:\n",
    "Write a Python function that takes a list of integers and returns a new list with only the positive integers."
   ]
  },
  {
   "cell_type": "code",
   "execution_count": 29,
   "id": "7aa3918a",
   "metadata": {
    "id": "bea983a3"
   },
   "outputs": [
    {
     "name": "stdout",
     "output_type": "stream",
     "text": [
      "Positive integers: [3, 7, 10]\n"
     ]
    }
   ],
   "source": [
    "def get_positive_integers(numbers):\n",
    "    return [num for num in numbers if num > 0]\n",
    "\n",
    "sample_list = [-5, 0, 3, -1, 7, -2, 10]\n",
    "positive_numbers = get_positive_integers(sample_list)\n",
    "print(\"Positive integers:\", positive_numbers)\n"
   ]
  },
  {
   "cell_type": "markdown",
   "id": "9bab2244",
   "metadata": {
    "id": "bea983a3"
   },
   "source": [
    "### Exercise 78:\n",
    "Write a Python function that takes two sets and returns their union."
   ]
  },
  {
   "cell_type": "code",
   "execution_count": 30,
   "id": "c03dc7db",
   "metadata": {
    "id": "bea983a3"
   },
   "outputs": [
    {
     "name": "stdout",
     "output_type": "stream",
     "text": [
      "Union of sets: {1, 2, 3, 4, 5}\n"
     ]
    }
   ],
   "source": [
    "def union_sets(set1, set2):\n",
    "    return set1.union(set2)\n",
    "\n",
    "a = {1, 2, 3}\n",
    "b = {3, 4, 5}\n",
    "result = union_sets(a, b)\n",
    "print(\"Union of sets:\", result)\n"
   ]
  },
  {
   "cell_type": "markdown",
   "id": "a0ab00ab",
   "metadata": {
    "id": "bea983a3"
   },
   "source": [
    "### Exercise 79:\n",
    "Write a Python function that takes a list of numbers and returns the product of all the numbers."
   ]
  },
  {
   "cell_type": "code",
   "execution_count": 31,
   "id": "f228f0a0",
   "metadata": {},
   "outputs": [
    {
     "name": "stdout",
     "output_type": "stream",
     "text": [
      "Product of all numbers: 24\n"
     ]
    }
   ],
   "source": [
    "from functools import reduce\n",
    "\n",
    "def product_of_list(numbers):\n",
    "    return reduce(lambda x, y: x * y, numbers, 1)\n",
    "\n",
    "nums = [2, 3, 4]\n",
    "result = product_of_list(nums)\n",
    "print(\"Product of all numbers:\", result)\n"
   ]
  },
  {
   "cell_type": "markdown",
   "id": "8a309754",
   "metadata": {
    "id": "bea983a3"
   },
   "source": [
    "### Exercise 80:\n",
    "Write a Python program that converts a list of characters into a string."
   ]
  },
  {
   "cell_type": "code",
   "execution_count": 32,
   "id": "1ed86361",
   "metadata": {
    "id": "bea983a3"
   },
   "outputs": [
    {
     "name": "stdout",
     "output_type": "stream",
     "text": [
      "Converted string: Hello\n"
     ]
    }
   ],
   "source": [
    "def list_to_string(char_list):\n",
    "    return ''.join(char_list)\n",
    "\n",
    "characters = ['H', 'e', 'l', 'l', 'o']\n",
    "result = list_to_string(characters)\n",
    "print(\"Converted string:\", result)\n"
   ]
  },
  {
   "cell_type": "markdown",
   "id": "21b80079",
   "metadata": {
    "id": "bea983a3"
   },
   "source": [
    "### Exercise 81:\n",
    "Write a Python program that finds the second largest number in a list of integers."
   ]
  },
  {
   "cell_type": "code",
   "execution_count": 33,
   "id": "8c3e3bb6",
   "metadata": {
    "id": "bea983a3"
   },
   "outputs": [
    {
     "name": "stdout",
     "output_type": "stream",
     "text": [
      "Second largest number: 10\n"
     ]
    }
   ],
   "source": [
    "def second_largest(numbers):\n",
    "    if len(numbers) < 2:\n",
    "        return None  \n",
    "    unique_numbers = list(set(numbers))  \n",
    "    unique_numbers.sort(reverse=True)    \n",
    "    return unique_numbers[1]             \n",
    "\n",
    "nums = [10, 5, 20, 8, 20, 3]\n",
    "result = second_largest(nums)\n",
    "print(\"Second largest number:\", result)\n"
   ]
  },
  {
   "cell_type": "markdown",
   "id": "4083f67f",
   "metadata": {
    "id": "bea983a3"
   },
   "source": [
    "### Exercise 82:\n",
    "Write a Python function that takes a dictionary and returns a list of its keys in sorted order."
   ]
  },
  {
   "cell_type": "code",
   "execution_count": 34,
   "id": "24c3cda7",
   "metadata": {
    "id": "bea983a3"
   },
   "outputs": [
    {
     "name": "stdout",
     "output_type": "stream",
     "text": [
      "Sorted keys: ['apple', 'banana', 'cherry']\n"
     ]
    }
   ],
   "source": [
    "def sorted_keys(d):\n",
    "    return sorted(d.keys())\n",
    "\n",
    "sample_dict = {\"banana\": 3, \"apple\": 5, \"cherry\": 2}\n",
    "result = sorted_keys(sample_dict)\n",
    "print(\"Sorted keys:\", result)\n"
   ]
  },
  {
   "cell_type": "markdown",
   "id": "bbea9155",
   "metadata": {
    "id": "bea983a3"
   },
   "source": [
    "### Exercise 83:\n",
    "Write a Python program that finds the most common element in a list."
   ]
  },
  {
   "cell_type": "code",
   "execution_count": 36,
   "id": "9428e9de",
   "metadata": {
    "id": "bea983a3"
   },
   "outputs": [
    {
     "name": "stdout",
     "output_type": "stream",
     "text": [
      "Most common element: 4\n"
     ]
    }
   ],
   "source": [
    "from collections import Counter\n",
    "\n",
    "def most_common_element(lst):\n",
    "    if not lst:\n",
    "        return None  \n",
    "    counter = Counter(lst)\n",
    "    return counter.most_common(1)[0][0]  \n",
    "\n",
    "numbers = [4, 1, 2, 2, 3, 4, 4, 5]\n",
    "result = most_common_element(numbers)\n",
    "print(\"Most common element:\", result)\n"
   ]
  },
  {
   "cell_type": "markdown",
   "id": "74b21bb1",
   "metadata": {
    "id": "bea983a3"
   },
   "source": [
    "### Exercise 84:\n",
    "Write a Python function that takes a list of tuples and returns a list of the tuples sorted by the first element."
   ]
  },
  {
   "cell_type": "code",
   "execution_count": 37,
   "id": "85dea0b1",
   "metadata": {
    "id": "bea983a3"
   },
   "outputs": [
    {
     "name": "stdout",
     "output_type": "stream",
     "text": [
      "Sorted tuples: [(1, 'banana'), (2, 'cherry'), (3, 'apple')]\n"
     ]
    }
   ],
   "source": [
    "def sort_by_first_element(tuples_list):\n",
    "    return sorted(tuples_list, key=lambda x: x[0])\n",
    "\n",
    "\n",
    "data = [(3, 'apple'), (1, 'banana'), (2, 'cherry')]\n",
    "sorted_data = sort_by_first_element(data)\n",
    "print(\"Sorted tuples:\", sorted_data)\n"
   ]
  },
  {
   "cell_type": "markdown",
   "id": "b269610a",
   "metadata": {
    "id": "bea983a3"
   },
   "source": [
    "### Exercise 85:\n",
    "Write a Python program that removes duplicates from a list of dictionaries."
   ]
  },
  {
   "cell_type": "code",
   "execution_count": 39,
   "id": "f50b2292",
   "metadata": {
    "id": "bea983a3"
   },
   "outputs": [
    {
     "name": "stdout",
     "output_type": "stream",
     "text": [
      "Unique dictionaries: [{'name': 'fatou', 'age': 27}, {'name': 'Bob', 'age': 25}]\n"
     ]
    }
   ],
   "source": [
    "def remove_duplicates(dict_list):\n",
    "    seen = set()\n",
    "    unique_dicts = []\n",
    "    for d in dict_list:\n",
    "      \n",
    "        dict_tuple = tuple(sorted(d.items()))\n",
    "        if dict_tuple not in seen:\n",
    "            seen.add(dict_tuple)\n",
    "            unique_dicts.append(d)\n",
    "    return unique_dicts\n",
    "\n",
    "\n",
    "data = [\n",
    "    {\"name\": \"fatou\", \"age\": 27},\n",
    "    {\"age\": 27, \"name\": \"fatou\"},  \n",
    "    {\"name\": \"Bob\", \"age\": 25},\n",
    "    {\"name\": \"fatou\", \"age\": 27}   \n",
    "]\n",
    "\n",
    "result = remove_duplicates(data)\n",
    "print(\"Unique dictionaries:\", result)\n"
   ]
  },
  {
   "cell_type": "markdown",
   "id": "68f4060a",
   "metadata": {
    "id": "bea983a3"
   },
   "source": [
    "### Exercise 86:\n",
    "Write a Python function that takes a list of numbers and returns the minimum and maximum numbers in the list."
   ]
  },
  {
   "cell_type": "code",
   "execution_count": 40,
   "id": "0ae630d2",
   "metadata": {
    "id": "bea983a3"
   },
   "outputs": [
    {
     "name": "stdout",
     "output_type": "stream",
     "text": [
      "Minimum: -3\n",
      "Maximum: 9\n"
     ]
    }
   ],
   "source": [
    "def find_min_max(numbers):\n",
    "    if not numbers:\n",
    "        return None, None  \n",
    "    return min(numbers), max(numbers)\n",
    "\n",
    "\n",
    "nums = [4, 1, 9, -3, 7]\n",
    "minimum, maximum = find_min_max(nums)\n",
    "print(\"Minimum:\", minimum)\n",
    "print(\"Maximum:\", maximum)\n"
   ]
  },
  {
   "cell_type": "markdown",
   "id": "b20d267b",
   "metadata": {
    "id": "bea983a3"
   },
   "source": [
    "### Exercise 87:\n",
    "Write a Python program that creates a list of tuples from two lists."
   ]
  },
  {
   "cell_type": "code",
   "execution_count": 41,
   "id": "b150d1f5",
   "metadata": {
    "id": "bea983a3"
   },
   "outputs": [
    {
     "name": "stdout",
     "output_type": "stream",
     "text": [
      "List of tuples: [('Alice', 85), ('Bob', 92), ('Charlie', 78)]\n"
     ]
    }
   ],
   "source": [
    "def create_tuples(list1, list2):\n",
    "    return list(zip(list1, list2))\n",
    "\n",
    "names = [\"Alice\", \"Bob\", \"Charlie\"]\n",
    "scores = [85, 92, 78]\n",
    "\n",
    "paired_list = create_tuples(names, scores)\n",
    "print(\"List of tuples:\", paired_list)\n"
   ]
  },
  {
   "cell_type": "markdown",
   "id": "9215e300",
   "metadata": {
    "id": "bea983a3"
   },
   "source": [
    "### Exercise 88:\n",
    "Write a Python function that takes a list of strings and returns a list of the strings in reverse order."
   ]
  },
  {
   "cell_type": "code",
   "execution_count": 42,
   "id": "228777c5",
   "metadata": {
    "id": "bea983a3"
   },
   "outputs": [
    {
     "name": "stdout",
     "output_type": "stream",
     "text": [
      "Reversed strings: ['olleh', 'dlrow', 'nohtyp']\n"
     ]
    }
   ],
   "source": [
    "def reverse_strings(string_list):\n",
    "    return [s[::-1] for s in string_list]\n",
    "\n",
    "\n",
    "words = [\"hello\", \"world\", \"python\"]\n",
    "reversed_words = reverse_strings(words)\n",
    "print(\"Reversed strings:\", reversed_words)\n"
   ]
  },
  {
   "cell_type": "markdown",
   "id": "c4754ca7",
   "metadata": {
    "id": "bea983a3"
   },
   "source": [
    "### Exercise 89:\n",
    "Write a Python function that takes a list of integers and returns the sum of all odd numbers."
   ]
  },
  {
   "cell_type": "code",
   "execution_count": 43,
   "id": "25a53877",
   "metadata": {
    "id": "bea983a3"
   },
   "outputs": [
    {
     "name": "stdout",
     "output_type": "stream",
     "text": [
      "Sum of odd numbers: 16\n"
     ]
    }
   ],
   "source": [
    "def sum_of_odds(numbers):\n",
    "    return sum(num for num in numbers if num % 2 != 0)\n",
    "\n",
    "\n",
    "nums = [1, 2, 3, 4, 5, 6, 7]\n",
    "result = sum_of_odds(nums)\n",
    "print(\"Sum of odd numbers:\", result)\n"
   ]
  },
  {
   "cell_type": "markdown",
   "id": "64a34638",
   "metadata": {
    "id": "bea983a3"
   },
   "source": [
    "### Exercise 90:\n",
    "Write a Python program that checks if a string is a palindrome.\n"
   ]
  },
  {
   "cell_type": "code",
   "execution_count": 44,
   "id": "f9bc90e3",
   "metadata": {
    "id": "bea983a3"
   },
   "outputs": [
    {
     "name": "stdout",
     "output_type": "stream",
     "text": [
      "Sum of odd numbers: 16\n"
     ]
    }
   ],
   "source": [
    "def sum_of_odds(numbers):\n",
    "    return sum(num for num in numbers if num % 2 != 0)\n",
    "\n",
    "\n",
    "nums = [1, 2, 3, 4, 5, 6, 7]\n",
    "result = sum_of_odds(nums)\n",
    "print(\"Sum of odd numbers:\", result)\n"
   ]
  },
  {
   "cell_type": "markdown",
   "id": "3f0d6993",
   "metadata": {
    "id": "bea983a3"
   },
   "source": [
    "### Exercise 91:\n",
    "Write a Python program that finds the median of a list of numbers."
   ]
  },
  {
   "cell_type": "code",
   "execution_count": 45,
   "id": "606e84a7",
   "metadata": {
    "id": "bea983a3"
   },
   "outputs": [
    {
     "name": "stdout",
     "output_type": "stream",
     "text": [
      "Median: 4\n"
     ]
    }
   ],
   "source": [
    "def find_median(numbers):\n",
    "    if not numbers:\n",
    "        return None  \n",
    "    sorted_numbers = sorted(numbers)\n",
    "    n = len(sorted_numbers)\n",
    "    mid = n // 2\n",
    "\n",
    "    if n % 2 == 0:\n",
    "        \n",
    "        median = (sorted_numbers[mid - 1] + sorted_numbers[mid]) / 2\n",
    "    else:\n",
    "        \n",
    "        median = sorted_numbers[mid]\n",
    "    \n",
    "    return median\n",
    "\n",
    "data = [7, 3, 1, 4, 9]\n",
    "result = find_median(data)\n",
    "print(\"Median:\", result)\n"
   ]
  },
  {
   "cell_type": "markdown",
   "id": "ec46dabd",
   "metadata": {
    "id": "bea983a3"
   },
   "source": [
    "### Exercise 92:\n",
    "Write a Python function that takes a list of dictionaries and returns a dictionary with the total value for each key."
   ]
  },
  {
   "cell_type": "code",
   "execution_count": 46,
   "id": "4ce877cf",
   "metadata": {
    "id": "bea983a3"
   },
   "outputs": [
    {
     "name": "stdout",
     "output_type": "stream",
     "text": [
      "Total values by key: {'apples': 13, 'bananas': 7, 'oranges': 12}\n"
     ]
    }
   ],
   "source": [
    "def sum_values_by_key(dict_list):\n",
    "    total_dict = {}\n",
    "    for d in dict_list:\n",
    "        for key, value in d.items():\n",
    "            total_dict[key] = total_dict.get(key, 0) + value\n",
    "    return total_dict\n",
    "\n",
    "\n",
    "data = [\n",
    "    {\"apples\": 10, \"bananas\": 5},\n",
    "    {\"apples\": 3, \"oranges\": 8},\n",
    "    {\"bananas\": 2, \"oranges\": 4}\n",
    "]\n",
    "\n",
    "result = sum_values_by_key(data)\n",
    "print(\"Total values by key:\", result)\n"
   ]
  },
  {
   "cell_type": "markdown",
   "id": "386b820c",
   "metadata": {
    "id": "bea983a3"
   },
   "source": [
    "### Exercise 93:\n",
    "Write a Python program that calculates the mode of a list of numbers."
   ]
  },
  {
   "cell_type": "code",
   "execution_count": 47,
   "id": "2402fd7d",
   "metadata": {
    "id": "bea983a3"
   },
   "outputs": [
    {
     "name": "stdout",
     "output_type": "stream",
     "text": [
      "Mode: [4, 2]\n"
     ]
    }
   ],
   "source": [
    "from collections import Counter\n",
    "\n",
    "def find_mode(numbers):\n",
    "    if not numbers:\n",
    "        return None  \n",
    "    counter = Counter(numbers)\n",
    "    max_count = max(counter.values())\n",
    "    modes = [num for num, count in counter.items() if count == max_count]\n",
    "    \n",
    "    return modes[0] if len(modes) == 1 else modes\n",
    "\n",
    "\n",
    "data = [4, 1, 2, 2, 3, 4, 4, 5, 2]\n",
    "result = find_mode(data)\n",
    "print(\"Mode:\", result)\n"
   ]
  },
  {
   "cell_type": "markdown",
   "id": "e83a8f0d",
   "metadata": {
    "id": "bea983a3"
   },
   "source": [
    "### Exercise 94:\n",
    "Write a Python function that takes a list of numbers and returns the sum of the squares of all the numbers."
   ]
  },
  {
   "cell_type": "code",
   "execution_count": 49,
   "id": "962b100d",
   "metadata": {
    "id": "bea983a3"
   },
   "outputs": [
    {
     "name": "stdout",
     "output_type": "stream",
     "text": [
      "Sum of squares: 30\n"
     ]
    }
   ],
   "source": [
    "def sum_of_squares(numbers):\n",
    "    return sum(num ** 2 for num in numbers)\n",
    "\n",
    "data = [1, 2, 3, 4]\n",
    "result = sum_of_squares(data)\n",
    "print(\"Sum of squares:\", result)\n"
   ]
  },
  {
   "cell_type": "markdown",
   "id": "7721fd6d",
   "metadata": {
    "id": "bea983a3"
   },
   "source": [
    "### Exercise 95:\n",
    "Write a Python program that creates a list of tuples, where each tuple contains a number and its cube for numbers from 1 to 5."
   ]
  },
  {
   "cell_type": "code",
   "execution_count": 50,
   "id": "e1fc7b05",
   "metadata": {
    "id": "bea983a3"
   },
   "outputs": [
    {
     "name": "stdout",
     "output_type": "stream",
     "text": [
      "Number and its cube: [(1, 1), (2, 8), (3, 27), (4, 64), (5, 125)]\n"
     ]
    }
   ],
   "source": [
    "def generate_cubes(n):\n",
    "    return [(x, x**3) for x in range(1, n+1)]\n",
    "\n",
    "result = generate_cubes(5)\n",
    "print(\"Number and its cube:\", result)\n"
   ]
  },
  {
   "cell_type": "markdown",
   "id": "b3dbf02d",
   "metadata": {
    "id": "bea983a3"
   },
   "source": [
    "### Exercise 96:\n",
    "Write a Python function that returns a list of all prime numbers up to `n`."
   ]
  },
  {
   "cell_type": "code",
   "execution_count": 51,
   "id": "7bdf5fe4",
   "metadata": {
    "id": "bea983a3"
   },
   "outputs": [
    {
     "name": "stdout",
     "output_type": "stream",
     "text": [
      "Primes up to 20: [2, 3, 5, 7, 11, 13, 17, 19]\n"
     ]
    }
   ],
   "source": [
    "def get_primes_up_to(n):\n",
    "    if n < 2:\n",
    "        return []\n",
    "    primes = []\n",
    "    for num in range(2, n + 1):\n",
    "        is_prime = True\n",
    "        for divisor in range(2, int(num ** 0.5) + 1):\n",
    "            if num % divisor == 0:\n",
    "                is_prime = False\n",
    "                break\n",
    "        if is_prime:\n",
    "            primes.append(num)\n",
    "    return primes\n",
    "\n",
    "print(\"Primes up to 20:\", get_primes_up_to(20))\n"
   ]
  },
  {
   "cell_type": "markdown",
   "id": "daf5bbc9",
   "metadata": {
    "id": "bea983a3"
   },
   "source": [
    "### Exercise 97:\n",
    "Write a Python program that finds the common keys between two dictionaries."
   ]
  },
  {
   "cell_type": "code",
   "execution_count": 52,
   "id": "21420454",
   "metadata": {
    "id": "bea983a3"
   },
   "outputs": [
    {
     "name": "stdout",
     "output_type": "stream",
     "text": [
      "Common keys: ['name', 'age']\n"
     ]
    }
   ],
   "source": [
    "def common_keys(dict1, dict2):\n",
    "    return list(dict1.keys() & dict2.keys())\n",
    "\n",
    "a = {\"name\": \"Alice\", \"age\": 30, \"city\": \"Paris\"}\n",
    "b = {\"name\": \"Bob\", \"age\": 25, \"country\": \"France\"}\n",
    "\n",
    "result = common_keys(a, b)\n",
    "print(\"Common keys:\", result)\n"
   ]
  },
  {
   "cell_type": "markdown",
   "id": "c9a0654d",
   "metadata": {
    "id": "bea983a3"
   },
   "source": [
    "### Exercise 98:\n",
    "Write a Python function that takes a list of strings and returns a list of the strings that contain more than 5 characters."
   ]
  },
  {
   "cell_type": "code",
   "execution_count": 53,
   "id": "8df6da7c",
   "metadata": {
    "id": "bea983a3"
   },
   "outputs": [
    {
     "name": "stdout",
     "output_type": "stream",
     "text": [
      "Strings with more than 5 characters: ['banana', 'strawberry', 'grapes']\n"
     ]
    }
   ],
   "source": [
    "def filter_long_strings(strings):\n",
    "    return [s for s in strings if len(s) > 5]\n",
    "\n",
    "words = [\"apple\", \"banana\", \"kiwi\", \"strawberry\", \"fig\", \"grapes\"]\n",
    "result = filter_long_strings(words)\n",
    "print(\"Strings with more than 5 characters:\", result)\n"
   ]
  },
  {
   "cell_type": "markdown",
   "id": "b7af83c3",
   "metadata": {
    "id": "bea983a3"
   },
   "source": [
    "## Exercise 99:\n",
    "Write a Python program that converts a list of strings into a list of tuples, where each tuple contains the string and its length."
   ]
  },
  {
   "cell_type": "code",
   "execution_count": 54,
   "id": "b267cd10",
   "metadata": {
    "id": "bea983a3"
   },
   "outputs": [
    {
     "name": "stdout",
     "output_type": "stream",
     "text": [
      "List of tuples: [('apple', 5), ('banana', 6), ('kiwi', 4), ('strawberry', 10)]\n"
     ]
    }
   ],
   "source": [
    "def strings_with_lengths(string_list):\n",
    "    return [(s, len(s)) for s in string_list]\n",
    "\n",
    "words = [\"apple\", \"banana\", \"kiwi\", \"strawberry\"]\n",
    "result = strings_with_lengths(words)\n",
    "print(\"List of tuples:\", result)\n"
   ]
  },
  {
   "cell_type": "markdown",
   "id": "01470902",
   "metadata": {
    "id": "bea983a3"
   },
   "source": [
    "### Exercise 100:\n",
    "Write a Python function that takes a list of dictionaries and returns a new dictionary by summing the values of each key across all dictionaries.\n"
   ]
  },
  {
   "cell_type": "code",
   "execution_count": 55,
   "id": "470e51b5",
   "metadata": {
    "id": "bea983a3"
   },
   "outputs": [
    {
     "name": "stdout",
     "output_type": "stream",
     "text": [
      "Summed dictionary: {'a': 7, 'b': 7, 'c': 8, 'd': 6}\n"
     ]
    }
   ],
   "source": [
    "def sum_values_across_dicts(dict_list):\n",
    "    result = {}\n",
    "    for d in dict_list:\n",
    "        for key, value in d.items():\n",
    "            result[key] = result.get(key, 0) + value\n",
    "    return result\n",
    "\n",
    "data = [\n",
    "    {\"a\": 5, \"b\": 3},\n",
    "    {\"a\": 2, \"c\": 7},\n",
    "    {\"b\": 4, \"c\": 1, \"d\": 6}\n",
    "]\n",
    "\n",
    "summed = sum_values_across_dicts(data)\n",
    "print(\"Summed dictionary:\", summed)\n"
   ]
  },
  {
   "cell_type": "code",
   "execution_count": null,
   "id": "2df8f622",
   "metadata": {},
   "outputs": [],
   "source": []
  },
  {
   "cell_type": "code",
   "execution_count": null,
   "id": "d6bf58de",
   "metadata": {},
   "outputs": [],
   "source": []
  }
 ],
 "metadata": {
  "colab": {
   "provenance": []
  },
  "kernelspec": {
   "display_name": "Python 3 (ipykernel)",
   "language": "python",
   "name": "python3"
  },
  "language_info": {
   "codemirror_mode": {
    "name": "ipython",
    "version": 3
   },
   "file_extension": ".py",
   "mimetype": "text/x-python",
   "name": "python",
   "nbconvert_exporter": "python",
   "pygments_lexer": "ipython3",
   "version": "3.12.3"
  }
 },
 "nbformat": 4,
 "nbformat_minor": 5
}
