{
 "cells": [
  {
   "cell_type": "markdown",
   "id": "61dd7183",
   "metadata": {},
   "source": [
    "# TP1:Practical_1: Variables and Assignments"
   ]
  },
  {
   "cell_type": "markdown",
   "id": "83b617ec",
   "metadata": {},
   "source": [
    "Exercise 1:\n",
    "Declare a variable x and assign it the value 10."
   ]
  },
  {
   "cell_type": "code",
   "execution_count": null,
   "id": "0c4c93e0",
   "metadata": {},
   "outputs": [],
   "source": [
    "x = 10"
   ]
  },
  {
   "cell_type": "markdown",
   "id": "35ad2dba",
   "metadata": {},
   "source": [
    "Exercise 2: Assign the value True to a variable called is_valid."
   ]
  },
  {
   "cell_type": "code",
   "execution_count": null,
   "id": "fc388530",
   "metadata": {},
   "outputs": [],
   "source": [
    "is_valid = True"
   ]
  },
  {
   "cell_type": "markdown",
   "id": "fdf70fd4",
   "metadata": {},
   "source": [
    "Exercise 3:Create a string variable name with the value \"Python Programming\"."
   ]
  },
  {
   "cell_type": "code",
   "execution_count": 21,
   "id": "b6d4e8ef",
   "metadata": {},
   "outputs": [],
   "source": [
    "name = \"Python Programming\""
   ]
  },
  {
   "cell_type": "markdown",
   "id": "0e9f5b0f",
   "metadata": {},
   "source": [
    "Exercise 4:Assign the result of 5 + 3 to a variable sum_result."
   ]
  },
  {
   "cell_type": "code",
   "execution_count": 5,
   "id": "812fbfee",
   "metadata": {},
   "outputs": [],
   "source": [
    "sum_result = 5 + 3"
   ]
  },
  {
   "cell_type": "markdown",
   "id": "eceae0e7",
   "metadata": {},
   "source": [
    "Exercise 5:Assign multiple variables in one line: a = 5, b = 10, c = 15."
   ]
  },
  {
   "cell_type": "code",
   "execution_count": 6,
   "id": "f4c04a10",
   "metadata": {},
   "outputs": [],
   "source": [
    "a,b,c =(5,10,15)"
   ]
  },
  {
   "cell_type": "markdown",
   "id": "1e5bede0",
   "metadata": {},
   "source": [
    "Exercise 6:Assign the value of one variable x to another variable y"
   ]
  },
  {
   "cell_type": "code",
   "execution_count": 11,
   "id": "a5ebdfef",
   "metadata": {},
   "outputs": [],
   "source": [
    "x=12\n",
    "y=x"
   ]
  },
  {
   "cell_type": "markdown",
   "id": "aea8a85e",
   "metadata": {},
   "source": [
    "Exercise 7:Assign a floating-point number 9.8 to a variable gravity"
   ]
  },
  {
   "cell_type": "code",
   "execution_count": 13,
   "id": "91c985a4",
   "metadata": {},
   "outputs": [],
   "source": [
    "gravity = 9.8"
   ]
  },
  {
   "cell_type": "markdown",
   "id": "287bd5b2",
   "metadata": {},
   "source": [
    "Exercise 8:Create a variable country and assign it the string value of your favorite country.\n"
   ]
  },
  {
   "cell_type": "code",
   "execution_count": 14,
   "id": "5a16a8ce",
   "metadata": {},
   "outputs": [],
   "source": [
    "country = \"Senegal\""
   ]
  },
  {
   "cell_type": "markdown",
   "id": "35e387f0",
   "metadata": {},
   "source": [
    "Exercise 9:Change the value of variable age from 25 to 26 in two separate steps.\n"
   ]
  },
  {
   "cell_type": "code",
   "execution_count": 17,
   "id": "2c08ad95",
   "metadata": {},
   "outputs": [],
   "source": [
    "age = 25\n",
    "age = 26"
   ]
  },
  {
   "cell_type": "markdown",
   "id": "85b03c3d",
   "metadata": {},
   "source": [
    "Exercise 10:Use one variable to store the result of subtracting two numbers 20 - 7.\n"
   ]
  },
  {
   "cell_type": "code",
   "execution_count": 19,
   "id": "283fa51d",
   "metadata": {},
   "outputs": [],
   "source": [
    "sub = 20 -7"
   ]
  },
  {
   "cell_type": "markdown",
   "id": "4575831e",
   "metadata": {},
   "source": [
    "Exercise 11:Assign an integer value and a floating-point value to two different variables.\n"
   ]
  },
  {
   "cell_type": "code",
   "execution_count": 23,
   "id": "ce295627",
   "metadata": {},
   "outputs": [],
   "source": [
    "x_int = 32\n",
    "x_float = 32.4\n"
   ]
  },
  {
   "cell_type": "markdown",
   "id": "dc2e53db",
   "metadata": {},
   "source": [
    "Exercise 12:Assign a boolean value False to a variable is_completed.\n"
   ]
  },
  {
   "cell_type": "code",
   "execution_count": 20,
   "id": "3b765135",
   "metadata": {},
   "outputs": [],
   "source": [
    "is_completed = False"
   ]
  },
  {
   "cell_type": "markdown",
   "id": "b42b364b",
   "metadata": {},
   "source": [
    "Exercise 13:Swap the values of two variables x and y.\n"
   ]
  },
  {
   "cell_type": "code",
   "execution_count": 25,
   "id": "2ec18e2f",
   "metadata": {},
   "outputs": [],
   "source": [
    "x = 1\n",
    "y = 2\n",
    "x = x + y; y = x - y; x = x - y"
   ]
  },
  {
   "cell_type": "markdown",
   "id": "dddde2e9",
   "metadata": {},
   "source": [
    "Exercise 14:Assign a complex number 3 + 4j to a variable complex_num.\n"
   ]
  },
  {
   "cell_type": "code",
   "execution_count": 27,
   "id": "a0d3d796",
   "metadata": {},
   "outputs": [],
   "source": [
    "complex_num = complex(3, 4)\n"
   ]
  },
  {
   "cell_type": "markdown",
   "id": "c8d87484",
   "metadata": {},
   "source": [
    "Exercise 15:Reassign a variable from an integer to a string.\n"
   ]
  },
  {
   "cell_type": "code",
   "execution_count": null,
   "id": "8cdeecda",
   "metadata": {},
   "outputs": [],
   "source": [
    "x = 3\n",
    "s = str(x)"
   ]
  },
  {
   "cell_type": "markdown",
   "id": "e6ae1156",
   "metadata": {},
   "source": [
    "Exercise 16:Create two variables first_name and last_name, and assign them your first and last names.\n"
   ]
  },
  {
   "cell_type": "code",
   "execution_count": 3,
   "id": "473f0dcd",
   "metadata": {},
   "outputs": [],
   "source": [
    "first_name =  'Fatou Binetou'\n",
    "last_name =  'Mbaye'"
   ]
  },
  {
   "cell_type": "code",
   "execution_count": 5,
   "id": "82081c1b",
   "metadata": {},
   "outputs": [
    {
     "name": "stdout",
     "output_type": "stream",
     "text": [
      "Fatou Binetou Mbaye\n"
     ]
    }
   ],
   "source": [
    "print(first_name,last_name)"
   ]
  },
  {
   "cell_type": "markdown",
   "id": "1da205a2",
   "metadata": {},
   "source": [
    "Exercise 17:Create a variable temperature and assign it the value of 35.5.\n"
   ]
  },
  {
   "cell_type": "code",
   "execution_count": 6,
   "id": "05d1b037",
   "metadata": {},
   "outputs": [],
   "source": [
    "temperature = 35.5"
   ]
  },
  {
   "cell_type": "code",
   "execution_count": 7,
   "id": "b6d46744",
   "metadata": {},
   "outputs": [
    {
     "name": "stdout",
     "output_type": "stream",
     "text": [
      "35.5\n"
     ]
    }
   ],
   "source": [
    "print(temperature)"
   ]
  },
  {
   "cell_type": "markdown",
   "id": "a41482bc",
   "metadata": {},
   "source": [
    "Exercise 18:Assign the result of the multiplication of two numbers 8 * 6 to a variable product.\n"
   ]
  },
  {
   "cell_type": "code",
   "execution_count": 8,
   "id": "f4518855",
   "metadata": {},
   "outputs": [],
   "source": [
    "product = 8*6"
   ]
  },
  {
   "cell_type": "markdown",
   "id": "5b78ec67",
   "metadata": {},
   "source": [
    "Exercise 19:Assign a sentence of your choice to a variable sentence.\n"
   ]
  },
  {
   "cell_type": "code",
   "execution_count": 10,
   "id": "1330096a",
   "metadata": {},
   "outputs": [],
   "source": [
    "sentence = 'je suis une femme mariée'"
   ]
  },
  {
   "cell_type": "markdown",
   "id": "c73c0ef1",
   "metadata": {},
   "source": [
    "Exercise 20:Use an assignment to convert a string '50' into an integer variable int_value.\n"
   ]
  },
  {
   "cell_type": "code",
   "execution_count": 12,
   "id": "964017c2",
   "metadata": {},
   "outputs": [],
   "source": [
    "int_value = int('50')"
   ]
  },
  {
   "cell_type": "markdown",
   "id": "dc62bc48",
   "metadata": {},
   "source": [
    "Exercise 21:Assign the result of dividing 144 by 12 to a variable quotient.\n"
   ]
  },
  {
   "cell_type": "code",
   "execution_count": 17,
   "id": "e3ac8a24",
   "metadata": {},
   "outputs": [],
   "source": [
    "quotient = 144 /12"
   ]
  },
  {
   "cell_type": "markdown",
   "id": "67eb731a",
   "metadata": {},
   "source": [
    "Exercise 22:Assign the remainder of 47 divided by 5 to a variable remainder.\n"
   ]
  },
  {
   "cell_type": "code",
   "execution_count": 18,
   "id": "8b8f6267",
   "metadata": {},
   "outputs": [],
   "source": [
    "remainder = ((47/5)*5)-47"
   ]
  },
  {
   "cell_type": "markdown",
   "id": "81d81ccd",
   "metadata": {},
   "source": [
    "Exercise 23:Create a variable is_student and assign it the value True.\n"
   ]
  },
  {
   "cell_type": "code",
   "execution_count": 20,
   "id": "e4831bd3",
   "metadata": {},
   "outputs": [],
   "source": [
    "is_student = True"
   ]
  },
  {
   "cell_type": "markdown",
   "id": "14873d57",
   "metadata": {},
   "source": [
    "Exercise 24:Use a variable to store the result of a modulo operation: 45 % 4.\n"
   ]
  },
  {
   "cell_type": "code",
   "execution_count": 21,
   "id": "2250a6fe",
   "metadata": {},
   "outputs": [],
   "source": [
    "st = 45 % 4"
   ]
  },
  {
   "cell_type": "markdown",
   "id": "c60c2925",
   "metadata": {},
   "source": [
    "Exercise 25:Create a variable pi and assign it the value 3.14159.\n"
   ]
  },
  {
   "cell_type": "code",
   "execution_count": null,
   "id": "f4346d77",
   "metadata": {},
   "outputs": [],
   "source": [
    "pi = 3.14159"
   ]
  },
  {
   "cell_type": "markdown",
   "id": "be8ef010",
   "metadata": {},
   "source": [
    "Exercise 26:Create two variables length and width, assign them values, and calculate the area of a rectangle.\n"
   ]
  },
  {
   "cell_type": "code",
   "execution_count": 24,
   "id": "72107d4b",
   "metadata": {},
   "outputs": [],
   "source": [
    "length = 6\n",
    "width = 5\n",
    "area = 6*5"
   ]
  },
  {
   "cell_type": "markdown",
   "id": "69223bc5",
   "metadata": {},
   "source": [
    "Exercise 27:Assign a negative number to a variable negative_value.\n"
   ]
  },
  {
   "cell_type": "code",
   "execution_count": 25,
   "id": "fcacb785",
   "metadata": {},
   "outputs": [],
   "source": [
    "negative_value = -2"
   ]
  },
  {
   "cell_type": "markdown",
   "id": "9f6972f9",
   "metadata": {},
   "source": [
    "Exercise 28:Assign a string containing a special character (e.g., \"Hello, World!\") to a variable greeting.\n"
   ]
  },
  {
   "cell_type": "code",
   "execution_count": 26,
   "id": "4bfab239",
   "metadata": {},
   "outputs": [],
   "source": [
    "greeting = \"Hello, World!\""
   ]
  },
  {
   "cell_type": "markdown",
   "id": "a364be8d",
   "metadata": {},
   "source": [
    "Exercise 29:Create a variable population and assign it a large integer value (in billions).\n"
   ]
  },
  {
   "cell_type": "code",
   "execution_count": 27,
   "id": "ad930b31",
   "metadata": {},
   "outputs": [],
   "source": [
    "population = 4556677888876543"
   ]
  },
  {
   "cell_type": "markdown",
   "id": "0d3ea287",
   "metadata": {},
   "source": [
    "Exercise 30:Use a variable to store the result of raising 2 to the power of 8.\n"
   ]
  },
  {
   "cell_type": "code",
   "execution_count": 28,
   "id": "2703907d",
   "metadata": {},
   "outputs": [],
   "source": [
    "p = 2**8"
   ]
  },
  {
   "cell_type": "markdown",
   "id": "e95b504c",
   "metadata": {},
   "source": [
    "Exercise 31:Assign a list of your favorite fruits to a variable fruits.\n"
   ]
  },
  {
   "cell_type": "code",
   "execution_count": 31,
   "id": "a33e2453",
   "metadata": {},
   "outputs": [],
   "source": [
    "fruit = {'apple','orange','banana'}"
   ]
  },
  {
   "cell_type": "markdown",
   "id": "8476cd1f",
   "metadata": {},
   "source": [
    "Exercise 32:Assign a tuple of three numbers to a variable coordinates.\n"
   ]
  },
  {
   "cell_type": "code",
   "execution_count": 33,
   "id": "7263d935",
   "metadata": {},
   "outputs": [],
   "source": [
    "coordinates = {4,5,8}"
   ]
  },
  {
   "cell_type": "markdown",
   "id": "1d6cbdd7",
   "metadata": {},
   "source": [
    "Exercise 33:Assign a dictionary with keys name and age to a variable person.\n"
   ]
  },
  {
   "cell_type": "code",
   "execution_count": 40,
   "id": "bc33cf78",
   "metadata": {},
   "outputs": [],
   "source": [
    "person = {'name':[\"Fatou Binetou\",\"Mbaye\"],'age' :[25]}"
   ]
  },
  {
   "cell_type": "markdown",
   "id": "250ce264",
   "metadata": {},
   "source": [
    "Exercise 34:Use variables to store the sum of two floating-point numbers.\n"
   ]
  },
  {
   "cell_type": "code",
   "execution_count": null,
   "id": "93c1f2e9",
   "metadata": {},
   "outputs": [],
   "source": [
    "a=float(input(\"first_number=\"))\n",
    "b=float(input(\"first_number=\"))\n",
    "result = a + b\n",
    "print(result)"
   ]
  },
  {
   "cell_type": "markdown",
   "id": "e05b7ef9",
   "metadata": {},
   "source": [
    "Exercise 35:Create a variable is_sunny and assign it the result of a comparison 10 > 5.\n"
   ]
  },
  {
   "cell_type": "code",
   "execution_count": 1,
   "id": "bd706fec",
   "metadata": {},
   "outputs": [],
   "source": [
    "is_sunny = 10 > 5"
   ]
  },
  {
   "cell_type": "markdown",
   "id": "35924c8f",
   "metadata": {},
   "source": [
    "Exercise 36:Assign a string and an integer to two different variables, then print both on one line.\n"
   ]
  },
  {
   "cell_type": "code",
   "execution_count": 3,
   "id": "7eaae890",
   "metadata": {},
   "outputs": [
    {
     "name": "stdout",
     "output_type": "stream",
     "text": [
      "Fatou Binetou Mbaye 27\n"
     ]
    }
   ],
   "source": [
    "name =\"Fatou Binetou Mbaye\"\n",
    "age = 27\n",
    "print(name,age)"
   ]
  },
  {
   "cell_type": "markdown",
   "id": "e2cfccaa",
   "metadata": {},
   "source": [
    "Exercise 37:Reassign a variable that originally held a number to a boolean value.\n"
   ]
  },
  {
   "cell_type": "code",
   "execution_count": 4,
   "id": "179cea9e",
   "metadata": {},
   "outputs": [
    {
     "name": "stdout",
     "output_type": "stream",
     "text": [
      "True\n"
     ]
    }
   ],
   "source": [
    "d=34\n",
    "d=True\n",
    "print(d)"
   ]
  },
  {
   "cell_type": "markdown",
   "id": "19aaac90",
   "metadata": {},
   "source": [
    "Exercise 38:Create a variable is_weekend and assign it the result of False.\n"
   ]
  },
  {
   "cell_type": "code",
   "execution_count": 5,
   "id": "1da8d1d3",
   "metadata": {},
   "outputs": [],
   "source": [
    "is_weekend = False"
   ]
  },
  {
   "cell_type": "markdown",
   "id": "81044985",
   "metadata": {},
   "source": [
    "Exercise 39:Assign a multi-line string to a variable description.\n"
   ]
  },
  {
   "cell_type": "code",
   "execution_count": 6,
   "id": "e74ea763",
   "metadata": {},
   "outputs": [],
   "source": [
    "description =\"\"\"the TP is very long\n",
    "I have problem of connexion \"\"\""
   ]
  },
  {
   "cell_type": "markdown",
   "id": "340be484",
   "metadata": {},
   "source": [
    "Exercise 40:Use variables to store the result of the absolute value of -25.\n"
   ]
  },
  {
   "cell_type": "code",
   "execution_count": 9,
   "id": "fc3060f0",
   "metadata": {},
   "outputs": [],
   "source": [
    "num = -25\n",
    "result = abs(num)\n"
   ]
  },
  {
   "cell_type": "markdown",
   "id": "8d017a14",
   "metadata": {},
   "source": [
    "Exercise 41:Assign the result of a floor division 100 // 6 to a variable floor_div_result.\n"
   ]
  },
  {
   "cell_type": "code",
   "execution_count": 11,
   "id": "ecab3e0e",
   "metadata": {},
   "outputs": [],
   "source": [
    "floor_div_result =100 // 6\n"
   ]
  },
  {
   "cell_type": "markdown",
   "id": "af588355",
   "metadata": {},
   "source": [
    "Exercise 42:Assign the result of adding a floating-point number to an integer to a variable mixed_sum.\n"
   ]
  },
  {
   "cell_type": "code",
   "execution_count": null,
   "id": "768c6ab6",
   "metadata": {},
   "outputs": [],
   "source": [
    "mixed_sum = float(input(\"num_1=\")) + int(input(\"num_2=\"))\n",
    "print(mixed_sum)"
   ]
  },
  {
   "cell_type": "markdown",
   "id": "86b2eb18",
   "metadata": {},
   "source": [
    "Exercise 43:Assign a boolean value based on the comparison of two variables a = 10 and b = 15.\n"
   ]
  },
  {
   "cell_type": "code",
   "execution_count": 1,
   "id": "3e115051",
   "metadata": {},
   "outputs": [
    {
     "name": "stdout",
     "output_type": "stream",
     "text": [
      "True\n"
     ]
    }
   ],
   "source": [
    "a = 10\n",
    "b = 15\n",
    "is_greater = a < b\n",
    "print(is_greater)"
   ]
  },
  {
   "cell_type": "markdown",
   "id": "50b3d883",
   "metadata": {},
   "source": [
    "Exercise 44:Assign a long sentence to a variable and count its characters using len().\n"
   ]
  },
  {
   "cell_type": "code",
   "execution_count": 4,
   "id": "b705f178",
   "metadata": {},
   "outputs": [
    {
     "data": {
      "text/plain": [
       "16"
      ]
     },
     "execution_count": 4,
     "metadata": {},
     "output_type": "execute_result"
    }
   ],
   "source": [
    "long_sent =\"I love my family\"\n",
    "len(long_sent)"
   ]
  },
  {
   "cell_type": "markdown",
   "id": "b353a281",
   "metadata": {},
   "source": [
    "Exercise 45:Assign a fractional result 7 / 3 to a variable division_result.\n"
   ]
  },
  {
   "cell_type": "code",
   "execution_count": 7,
   "id": "4b6fcf84",
   "metadata": {},
   "outputs": [],
   "source": [
    "division_result = 7/3"
   ]
  },
  {
   "cell_type": "markdown",
   "id": "aec05e36",
   "metadata": {},
   "source": [
    "Exercise 46:Create a variable speed and assign it the value of 100 kilometers per hour.\n"
   ]
  },
  {
   "cell_type": "code",
   "execution_count": 10,
   "id": "32439721",
   "metadata": {},
   "outputs": [
    {
     "name": "stdout",
     "output_type": "stream",
     "text": [
      "100 km/h\n"
     ]
    }
   ],
   "source": [
    "speed  = \"100 km/h\"\n",
    "print(speed)"
   ]
  },
  {
   "cell_type": "markdown",
   "id": "05b54f81",
   "metadata": {},
   "source": [
    "Exercise 47:Assign a multi-variable equation like y = 3x + 5 where x = 4 to a variable y.\n"
   ]
  },
  {
   "cell_type": "code",
   "execution_count": 14,
   "id": "846702c3",
   "metadata": {},
   "outputs": [],
   "source": [
    "x = 4\n",
    "y = 3*x + 5\n"
   ]
  },
  {
   "cell_type": "markdown",
   "id": "9c4672cf",
   "metadata": {},
   "source": [
    "Exercise 48:Use variables to calculate and store the average of three numbers.\n"
   ]
  },
  {
   "cell_type": "code",
   "execution_count": 20,
   "id": "e18f4fd0",
   "metadata": {},
   "outputs": [],
   "source": [
    "num1 = 3\n",
    "num2 = 3\n",
    "num3 = 3\n",
    "average = (num1 + num2 + num3) / 3 \n"
   ]
  }
 ],
 "metadata": {
  "kernelspec": {
   "display_name": "Python 3 (ipykernel)",
   "language": "python",
   "name": "python3"
  },
  "language_info": {
   "codemirror_mode": {
    "name": "ipython",
    "version": 3
   },
   "file_extension": ".py",
   "mimetype": "text/x-python",
   "name": "python",
   "nbconvert_exporter": "python",
   "pygments_lexer": "ipython3",
   "version": "3.12.3"
  }
 },
 "nbformat": 4,
 "nbformat_minor": 5
}
