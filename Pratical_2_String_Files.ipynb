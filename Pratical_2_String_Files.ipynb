{
 "cells": [
  {
   "cell_type": "markdown",
   "id": "c1cd8d37",
   "metadata": {},
   "source": [
    "### Exercise 1:\n",
    "Create a string variable `text` and assign it the value `\"Python is amazing!\"`.\n"
   ]
  },
  {
   "cell_type": "code",
   "execution_count": 3,
   "id": "b28f65d5",
   "metadata": {},
   "outputs": [],
   "source": [
    "text = str (\"Python is amazing!\")\n"
   ]
  },
  {
   "cell_type": "markdown",
   "id": "ebf9fa01",
   "metadata": {},
   "source": [
    "### Exercise 2:\n",
    "Find the length of the string `\"Hello, World!\"` and store it in a variable `length`.\n"
   ]
  },
  {
   "cell_type": "code",
   "execution_count": 5,
   "id": "c3de0557",
   "metadata": {},
   "outputs": [],
   "source": [
    "lenght = len(\"Hello, World!\")"
   ]
  },
  {
   "cell_type": "markdown",
   "id": "d0b71593",
   "metadata": {},
   "source": [
    "### Exercise 3:\n",
    "Convert the string `\"python programming\"` to uppercase and store it in a variable `upper_text`.\n"
   ]
  },
  {
   "cell_type": "code",
   "execution_count": 3,
   "id": "26986f96",
   "metadata": {},
   "outputs": [],
   "source": [
    "upper_text = \"python programming\".upper()\n"
   ]
  },
  {
   "cell_type": "markdown",
   "id": "f4c2fbce",
   "metadata": {},
   "source": [
    "### Exercise 4:\n",
    "Extract the first 5 characters from the string `\"Artificial Intelligence\"`.\n"
   ]
  },
  {
   "cell_type": "code",
   "execution_count": 10,
   "id": "a63e5817",
   "metadata": {},
   "outputs": [],
   "source": [
    "first_five = \"Artificial Intelligence\"[:5]\n"
   ]
  },
  {
   "cell_type": "markdown",
   "id": "4ed8f4b8",
   "metadata": {},
   "source": [
    "### Exercise 5:\n",
    "Concatenate the strings `\"Hello\"` and `\"World\"` with a space in between.\n"
   ]
  },
  {
   "cell_type": "code",
   "execution_count": 14,
   "id": "26086a00",
   "metadata": {},
   "outputs": [],
   "source": [
    "salutation = \"Hello\" + \" \" + \"World\"\n"
   ]
  },
  {
   "cell_type": "markdown",
   "id": "306b7df2",
   "metadata": {},
   "source": [
    "### Exercise 6:\n",
    "Replace the word `\"dog\"` with `\"cat\"` in the string `\"The quick brown dog jumps over the lazy dog.\"`.\n"
   ]
  },
  {
   "cell_type": "code",
   "execution_count": 16,
   "id": "a5f6c893",
   "metadata": {},
   "outputs": [],
   "source": [
    "new_text = \"The quick brown dog jumps over the lazy dog.\".replace(\"dog\",\"cat\")\n"
   ]
  },
  {
   "cell_type": "markdown",
   "id": "0b4c96af",
   "metadata": {},
   "source": [
    "### Exercise 7:\n",
    "Split the string `\"apple,banana,orange\"` by commas and store the result in a list `fruits_list`.\n"
   ]
  },
  {
   "cell_type": "code",
   "execution_count": 18,
   "id": "51bcdb3e",
   "metadata": {},
   "outputs": [
    {
     "name": "stdout",
     "output_type": "stream",
     "text": [
      "['apple', 'banana', 'orange']\n"
     ]
    }
   ],
   "source": [
    "fruits_list =\"apple,banana,orange\".split(\",\")\n",
    "print(fruits_list)"
   ]
  },
  {
   "cell_type": "markdown",
   "id": "cf84c48b",
   "metadata": {},
   "source": [
    "### Exercise 8:\n",
    "Use string formatting to create the sentence `\"My name is Alice and I am 25 years old.\"`, where the name and age are variables.\n"
   ]
  },
  {
   "cell_type": "code",
   "execution_count": 23,
   "id": "0443c6b5",
   "metadata": {},
   "outputs": [],
   "source": [
    "name = \"Alice\"\n",
    "age = 25\n",
    "sentence = f\"My name is {name} and I am {age} years old.\"\n"
   ]
  },
  {
   "cell_type": "markdown",
   "id": "eed55d80",
   "metadata": {},
   "source": [
    "### Exercise 9:\n",
    "Check if the string `\"python\"` is present in the sentence `\"I love python programming\"`.\n"
   ]
  },
  {
   "cell_type": "code",
   "execution_count": 31,
   "id": "2c2d20f9",
   "metadata": {},
   "outputs": [
    {
     "name": "stdout",
     "output_type": "stream",
     "text": [
      "yes\n"
     ]
    }
   ],
   "source": [
    "if \"python\" in \"I love python programming\":\n",
    "    print(\"yes\")\n",
    "else:\n",
    "    print(\"no\")"
   ]
  },
  {
   "cell_type": "markdown",
   "id": "2cba3f3d",
   "metadata": {},
   "source": [
    "### Exercise 10:\n",
    "Count the number of occurrences of the letter `\"e\"` in the string `\"Elephant is an elegant animal\"`.\n"
   ]
  },
  {
   "cell_type": "code",
   "execution_count": 35,
   "id": "a9e72868",
   "metadata": {},
   "outputs": [
    {
     "name": "stdout",
     "output_type": "stream",
     "text": [
      "3\n"
     ]
    }
   ],
   "source": [
    "count_e = \"Elephant is an elegant animal\".count(\"e\")\n",
    "print(count_e)"
   ]
  },
  {
   "cell_type": "markdown",
   "id": "372c49e5",
   "metadata": {},
   "source": [
    "### Exercise 11:\n",
    "Remove any leading and trailing spaces from the string `\"   Data Science   \"`.\n"
   ]
  },
  {
   "cell_type": "code",
   "execution_count": 33,
   "id": "741a7ca5",
   "metadata": {},
   "outputs": [
    {
     "name": "stdout",
     "output_type": "stream",
     "text": [
      "Data Science\n"
     ]
    }
   ],
   "source": [
    "rem = \"   Data Science   \".strip()\n",
    "print(rem)"
   ]
  },
  {
   "cell_type": "markdown",
   "id": "f7be9342",
   "metadata": {},
   "source": [
    "### Exercise 12:\n",
    "Convert the string `\"100\"` into an integer and store it in a variable `int_value`.\n"
   ]
  },
  {
   "cell_type": "code",
   "execution_count": 34,
   "id": "1405a715",
   "metadata": {},
   "outputs": [
    {
     "name": "stdout",
     "output_type": "stream",
     "text": [
      "100\n"
     ]
    }
   ],
   "source": [
    "int_value = int(\"100\")\n",
    "print(int_value)"
   ]
  },
  {
   "cell_type": "markdown",
   "id": "69936590",
   "metadata": {},
   "source": [
    "### Exercise 13:\n",
    "Extract the substring `\"pro\"` from the string `\"programming\"`.\n",
    "\n"
   ]
  },
  {
   "cell_type": "code",
   "execution_count": 36,
   "id": "8b3a9e2d",
   "metadata": {},
   "outputs": [
    {
     "name": "stdout",
     "output_type": "stream",
     "text": [
      "pro\n"
     ]
    }
   ],
   "source": [
    "substring = \"programming\"[0:3]\n",
    "print(substring)"
   ]
  },
  {
   "cell_type": "markdown",
   "id": "6de19597",
   "metadata": {},
   "source": [
    "### Exercise 14:\n",
    "Check if the string `\"data\"` starts with `\"da\"` and ends with `\"ta\"`.\n"
   ]
  },
  {
   "cell_type": "code",
   "execution_count": 39,
   "id": "6cdd130d",
   "metadata": {},
   "outputs": [
    {
     "name": "stdout",
     "output_type": "stream",
     "text": [
      "yes\n"
     ]
    }
   ],
   "source": [
    "if \"data\".startswith(\"da\") and \"data\".endswith(\"ta\"):\n",
    "    print(\"yes\")\n",
    "else: \n",
    "    print(\"no\")"
   ]
  },
  {
   "cell_type": "markdown",
   "id": "1ac47be4",
   "metadata": {},
   "source": [
    "### Exercise 15:\n",
    "Reverse the string `\"machine learning\"` and store the result in `reversed_text`.\n"
   ]
  },
  {
   "cell_type": "code",
   "execution_count": 40,
   "id": "7e26f4c4",
   "metadata": {},
   "outputs": [
    {
     "name": "stdout",
     "output_type": "stream",
     "text": [
      "gninrael enihcam\n"
     ]
    }
   ],
   "source": [
    "reverse = \"machine learning\"[::-1]\n",
    "print(reverse)"
   ]
  },
  {
   "cell_type": "markdown",
   "id": "16689512",
   "metadata": {},
   "source": [
    "### Exercise 16:\n",
    "Convert the first letter of each word in the string `\"machine learning is fun\"` to uppercase.\n"
   ]
  },
  {
   "cell_type": "code",
   "execution_count": 41,
   "id": "ac7f8b37",
   "metadata": {},
   "outputs": [
    {
     "name": "stdout",
     "output_type": "stream",
     "text": [
      "Machine Learning Is Fun\n"
     ]
    }
   ],
   "source": [
    "convert = \"machine learning is fun\".title()\n",
    "print(convert)"
   ]
  },
  {
   "cell_type": "markdown",
   "id": "3942fd22",
   "metadata": {},
   "source": [
    "### Exercise 17:\n",
    "Create a multiline string representing a poem and store it in a variable `poem`.\n"
   ]
  },
  {
   "cell_type": "code",
   "execution_count": 10,
   "id": "417d938b",
   "metadata": {},
   "outputs": [],
   "source": [
    "poem =\"\"\"je vais à l ecole chaque jour \n",
    "i love my mum and my dad \n",
    "my family is my all\"\"\"\n"
   ]
  },
  {
   "cell_type": "markdown",
   "id": "dc409da5",
   "metadata": {},
   "source": [
    "### Exercise 18:\n",
    "Write a string to a file named `\"output.txt\"`.\n"
   ]
  },
  {
   "cell_type": "code",
   "execution_count": 8,
   "id": "4d154d44",
   "metadata": {},
   "outputs": [
    {
     "name": "stdout",
     "output_type": "stream",
     "text": [
      "done\n"
     ]
    }
   ],
   "source": [
    "my_string = \"string \"\n",
    "\n",
    "with open(\"output.txt\",\"w\") as file:\n",
    "    file.write(my_string)\n",
    "print(\"done\")"
   ]
  },
  {
   "cell_type": "markdown",
   "id": "274e9d1c",
   "metadata": {},
   "source": [
    "### Exercise 19:\n",
    "Read the contents of a file named `\"data.txt\"` and print it line by line.\n"
   ]
  },
  {
   "cell_type": "code",
   "execution_count": 1,
   "id": "c5d7b209",
   "metadata": {},
   "outputs": [
    {
     "ename": "FileNotFoundError",
     "evalue": "[Errno 2] No such file or directory: 'data.txt'",
     "output_type": "error",
     "traceback": [
      "\u001b[0;31m---------------------------------------------------------------------------\u001b[0m",
      "\u001b[0;31mFileNotFoundError\u001b[0m                         Traceback (most recent call last)",
      "Cell \u001b[0;32mIn[1], line 1\u001b[0m\n\u001b[0;32m----> 1\u001b[0m \u001b[38;5;28;01mwith\u001b[39;00m \u001b[38;5;28;43mopen\u001b[39;49m\u001b[43m(\u001b[49m\u001b[38;5;124;43m\"\u001b[39;49m\u001b[38;5;124;43mdata.txt\u001b[39;49m\u001b[38;5;124;43m\"\u001b[39;49m\u001b[43m,\u001b[49m\u001b[38;5;124;43m\"\u001b[39;49m\u001b[38;5;124;43mr\u001b[39;49m\u001b[38;5;124;43m\"\u001b[39;49m\u001b[43m)\u001b[49m \u001b[38;5;28;01mas\u001b[39;00m file:\n\u001b[1;32m      2\u001b[0m     \u001b[38;5;28;01mfor\u001b[39;00m line \u001b[38;5;129;01min\u001b[39;00m file:\n\u001b[1;32m      3\u001b[0m         \u001b[38;5;28mprint\u001b[39m(line\u001b[38;5;241m.\u001b[39mstrip())\n",
      "File \u001b[0;32m/usr/lib/python3/dist-packages/IPython/core/interactiveshell.py:310\u001b[0m, in \u001b[0;36m_modified_open\u001b[0;34m(file, *args, **kwargs)\u001b[0m\n\u001b[1;32m    303\u001b[0m \u001b[38;5;28;01mif\u001b[39;00m file \u001b[38;5;129;01min\u001b[39;00m {\u001b[38;5;241m0\u001b[39m, \u001b[38;5;241m1\u001b[39m, \u001b[38;5;241m2\u001b[39m}:\n\u001b[1;32m    304\u001b[0m     \u001b[38;5;28;01mraise\u001b[39;00m \u001b[38;5;167;01mValueError\u001b[39;00m(\n\u001b[1;32m    305\u001b[0m         \u001b[38;5;124mf\u001b[39m\u001b[38;5;124m\"\u001b[39m\u001b[38;5;124mIPython won\u001b[39m\u001b[38;5;124m'\u001b[39m\u001b[38;5;124mt let you open fd=\u001b[39m\u001b[38;5;132;01m{\u001b[39;00mfile\u001b[38;5;132;01m}\u001b[39;00m\u001b[38;5;124m by default \u001b[39m\u001b[38;5;124m\"\u001b[39m\n\u001b[1;32m    306\u001b[0m         \u001b[38;5;124m\"\u001b[39m\u001b[38;5;124mas it is likely to crash IPython. If you know what you are doing, \u001b[39m\u001b[38;5;124m\"\u001b[39m\n\u001b[1;32m    307\u001b[0m         \u001b[38;5;124m\"\u001b[39m\u001b[38;5;124myou can use builtins\u001b[39m\u001b[38;5;124m'\u001b[39m\u001b[38;5;124m open.\u001b[39m\u001b[38;5;124m\"\u001b[39m\n\u001b[1;32m    308\u001b[0m     )\n\u001b[0;32m--> 310\u001b[0m \u001b[38;5;28;01mreturn\u001b[39;00m \u001b[43mio_open\u001b[49m\u001b[43m(\u001b[49m\u001b[43mfile\u001b[49m\u001b[43m,\u001b[49m\u001b[43m \u001b[49m\u001b[38;5;241;43m*\u001b[39;49m\u001b[43margs\u001b[49m\u001b[43m,\u001b[49m\u001b[43m \u001b[49m\u001b[38;5;241;43m*\u001b[39;49m\u001b[38;5;241;43m*\u001b[39;49m\u001b[43mkwargs\u001b[49m\u001b[43m)\u001b[49m\n",
      "\u001b[0;31mFileNotFoundError\u001b[0m: [Errno 2] No such file or directory: 'data.txt'"
     ]
    }
   ],
   "source": [
    "with open(\"data.txt\",\"r\") as file:\n",
    "    for line in file:\n",
    "        print(line.strip())"
   ]
  },
  {
   "cell_type": "code",
   "execution_count": 15,
   "id": "95ac8611",
   "metadata": {},
   "outputs": [
    {
     "name": "stdout",
     "output_type": "stream",
     "text": [
      "string\n"
     ]
    }
   ],
   "source": [
    "with open(\"output.txt\",\"r\") as file:\n",
    "    for line in file:\n",
    "        print(line.strip())"
   ]
  },
  {
   "cell_type": "markdown",
   "id": "95d574b0",
   "metadata": {},
   "source": [
    "### Exercise 20:\n",
    "Check if a file `\"example.txt\"` exists before opening it.\n"
   ]
  },
  {
   "cell_type": "code",
   "execution_count": 16,
   "id": "e095a95d",
   "metadata": {},
   "outputs": [
    {
     "name": "stdout",
     "output_type": "stream",
     "text": [
      "not exist\n"
     ]
    }
   ],
   "source": [
    "import os\n",
    "file_name = \"example.txt\"\n",
    "if os.path.exists(file_name):\n",
    "    with open(file_name,\"r\") as file:\n",
    "        print(\"find file\")\n",
    "        print(file.reaf())\n",
    "else:\n",
    "    print(\"not exist\")"
   ]
  },
  {
   "cell_type": "markdown",
   "id": "01b54f77",
   "metadata": {},
   "source": [
    "### Exercise 21:\n",
    "Append a new line `\"This is a new line\"` to an existing file `\"notes.txt\"`.\n"
   ]
  },
  {
   "cell_type": "code",
   "execution_count": 17,
   "id": "faa4519a",
   "metadata": {},
   "outputs": [
    {
     "name": "stdout",
     "output_type": "stream",
     "text": [
      "new line append successfully\n"
     ]
    }
   ],
   "source": [
    "new_line = \"This is a new line\"\n",
    "with open(\"notes.txt\",\"a\") as file:\n",
    "    file.write(\"/n\" +new_line)\n",
    "print(\"new line append successfully\")"
   ]
  },
  {
   "cell_type": "markdown",
   "id": "aff0049e",
   "metadata": {},
   "source": [
    "### Exercise 22:\n",
    "Read the contents of a file `\"log.txt\"` and store each line in a list `log_lines`.\n"
   ]
  },
  {
   "cell_type": "code",
   "execution_count": 18,
   "id": "66c01484",
   "metadata": {},
   "outputs": [
    {
     "ename": "FileNotFoundError",
     "evalue": "[Errno 2] No such file or directory: 'log.txt'",
     "output_type": "error",
     "traceback": [
      "\u001b[0;31m---------------------------------------------------------------------------\u001b[0m",
      "\u001b[0;31mFileNotFoundError\u001b[0m                         Traceback (most recent call last)",
      "Cell \u001b[0;32mIn[18], line 1\u001b[0m\n\u001b[0;32m----> 1\u001b[0m \u001b[38;5;28;01mwith\u001b[39;00m \u001b[38;5;28;43mopen\u001b[39;49m\u001b[43m(\u001b[49m\u001b[38;5;124;43m\"\u001b[39;49m\u001b[38;5;124;43mlog.txt\u001b[39;49m\u001b[38;5;124;43m\"\u001b[39;49m\u001b[43m,\u001b[49m\u001b[38;5;124;43m\"\u001b[39;49m\u001b[38;5;124;43mr\u001b[39;49m\u001b[38;5;124;43m\"\u001b[39;49m\u001b[43m)\u001b[49m \u001b[38;5;28;01mas\u001b[39;00m file:\n\u001b[1;32m      2\u001b[0m     log_lines \u001b[38;5;241m=\u001b[39m file\u001b[38;5;241m.\u001b[39mreadlines()\n\u001b[1;32m      3\u001b[0m \u001b[38;5;28mprint\u001b[39m(\u001b[38;5;124m\"\u001b[39m\u001b[38;5;124mline stored in the list:\u001b[39m\u001b[38;5;124m\"\u001b[39m)\n",
      "File \u001b[0;32m/usr/lib/python3/dist-packages/IPython/core/interactiveshell.py:310\u001b[0m, in \u001b[0;36m_modified_open\u001b[0;34m(file, *args, **kwargs)\u001b[0m\n\u001b[1;32m    303\u001b[0m \u001b[38;5;28;01mif\u001b[39;00m file \u001b[38;5;129;01min\u001b[39;00m {\u001b[38;5;241m0\u001b[39m, \u001b[38;5;241m1\u001b[39m, \u001b[38;5;241m2\u001b[39m}:\n\u001b[1;32m    304\u001b[0m     \u001b[38;5;28;01mraise\u001b[39;00m \u001b[38;5;167;01mValueError\u001b[39;00m(\n\u001b[1;32m    305\u001b[0m         \u001b[38;5;124mf\u001b[39m\u001b[38;5;124m\"\u001b[39m\u001b[38;5;124mIPython won\u001b[39m\u001b[38;5;124m'\u001b[39m\u001b[38;5;124mt let you open fd=\u001b[39m\u001b[38;5;132;01m{\u001b[39;00mfile\u001b[38;5;132;01m}\u001b[39;00m\u001b[38;5;124m by default \u001b[39m\u001b[38;5;124m\"\u001b[39m\n\u001b[1;32m    306\u001b[0m         \u001b[38;5;124m\"\u001b[39m\u001b[38;5;124mas it is likely to crash IPython. If you know what you are doing, \u001b[39m\u001b[38;5;124m\"\u001b[39m\n\u001b[1;32m    307\u001b[0m         \u001b[38;5;124m\"\u001b[39m\u001b[38;5;124myou can use builtins\u001b[39m\u001b[38;5;124m'\u001b[39m\u001b[38;5;124m open.\u001b[39m\u001b[38;5;124m\"\u001b[39m\n\u001b[1;32m    308\u001b[0m     )\n\u001b[0;32m--> 310\u001b[0m \u001b[38;5;28;01mreturn\u001b[39;00m \u001b[43mio_open\u001b[49m\u001b[43m(\u001b[49m\u001b[43mfile\u001b[49m\u001b[43m,\u001b[49m\u001b[43m \u001b[49m\u001b[38;5;241;43m*\u001b[39;49m\u001b[43margs\u001b[49m\u001b[43m,\u001b[49m\u001b[43m \u001b[49m\u001b[38;5;241;43m*\u001b[39;49m\u001b[38;5;241;43m*\u001b[39;49m\u001b[43mkwargs\u001b[49m\u001b[43m)\u001b[49m\n",
      "\u001b[0;31mFileNotFoundError\u001b[0m: [Errno 2] No such file or directory: 'log.txt'"
     ]
    }
   ],
   "source": [
    "with open(\"log.txt\",\"r\") as file:\n",
    "    log_lines = file.readlines()\n",
    "print(\"line stored in the list:\")\n",
    "print(log_lines)\n",
    "    "
   ]
  },
  {
   "cell_type": "markdown",
   "id": "4aa20a48",
   "metadata": {},
   "source": [
    "### Exercise 23:\n",
    "Create a new file `\"report.txt\"` and write the string `\"Data analysis report\"` to it.\n"
   ]
  },
  {
   "cell_type": "code",
   "execution_count": 21,
   "id": "1811a5b1",
   "metadata": {},
   "outputs": [
    {
     "name": "stdout",
     "output_type": "stream",
     "text": [
      "file create\n"
     ]
    }
   ],
   "source": [
    "new_str = \"Data analysis report\"\n",
    "with open(\"report.txt\",\"w\") as file:\n",
    "        file.write(new_str)\n",
    "print(\"file create\")"
   ]
  },
  {
   "cell_type": "markdown",
   "id": "57da07dd",
   "metadata": {},
   "source": [
    "### Exercise 24:\n",
    "Replace the word `\"error\"` with `\"issue\"` in a file `\"log.txt\"`.\n"
   ]
  },
  {
   "cell_type": "code",
   "execution_count": 23,
   "id": "1fd02a9b",
   "metadata": {},
   "outputs": [
    {
     "ename": "FileNotFoundError",
     "evalue": "[Errno 2] No such file or directory: 'log.txt'",
     "output_type": "error",
     "traceback": [
      "\u001b[0;31m---------------------------------------------------------------------------\u001b[0m",
      "\u001b[0;31mFileNotFoundError\u001b[0m                         Traceback (most recent call last)",
      "Cell \u001b[0;32mIn[23], line 1\u001b[0m\n\u001b[0;32m----> 1\u001b[0m \u001b[38;5;28;01mwith\u001b[39;00m \u001b[38;5;28;43mopen\u001b[39;49m\u001b[43m(\u001b[49m\u001b[38;5;124;43m\"\u001b[39;49m\u001b[38;5;124;43mlog.txt\u001b[39;49m\u001b[38;5;124;43m\"\u001b[39;49m\u001b[43m,\u001b[49m\u001b[38;5;124;43m\"\u001b[39;49m\u001b[38;5;124;43mr\u001b[39;49m\u001b[38;5;124;43m\"\u001b[39;49m\u001b[43m)\u001b[49m \u001b[38;5;28;01mas\u001b[39;00m file:\n\u001b[1;32m      2\u001b[0m     content \u001b[38;5;241m=\u001b[39m file\u001b[38;5;241m.\u001b[39mread()\n\u001b[1;32m      3\u001b[0m update_content \u001b[38;5;241m=\u001b[39m content\u001b[38;5;241m.\u001b[39mreplace(\u001b[38;5;124m\"\u001b[39m\u001b[38;5;124merror\u001b[39m\u001b[38;5;124m\"\u001b[39m,\u001b[38;5;124m\"\u001b[39m\u001b[38;5;124missue\u001b[39m\u001b[38;5;124m\"\u001b[39m)\n",
      "File \u001b[0;32m/usr/lib/python3/dist-packages/IPython/core/interactiveshell.py:310\u001b[0m, in \u001b[0;36m_modified_open\u001b[0;34m(file, *args, **kwargs)\u001b[0m\n\u001b[1;32m    303\u001b[0m \u001b[38;5;28;01mif\u001b[39;00m file \u001b[38;5;129;01min\u001b[39;00m {\u001b[38;5;241m0\u001b[39m, \u001b[38;5;241m1\u001b[39m, \u001b[38;5;241m2\u001b[39m}:\n\u001b[1;32m    304\u001b[0m     \u001b[38;5;28;01mraise\u001b[39;00m \u001b[38;5;167;01mValueError\u001b[39;00m(\n\u001b[1;32m    305\u001b[0m         \u001b[38;5;124mf\u001b[39m\u001b[38;5;124m\"\u001b[39m\u001b[38;5;124mIPython won\u001b[39m\u001b[38;5;124m'\u001b[39m\u001b[38;5;124mt let you open fd=\u001b[39m\u001b[38;5;132;01m{\u001b[39;00mfile\u001b[38;5;132;01m}\u001b[39;00m\u001b[38;5;124m by default \u001b[39m\u001b[38;5;124m\"\u001b[39m\n\u001b[1;32m    306\u001b[0m         \u001b[38;5;124m\"\u001b[39m\u001b[38;5;124mas it is likely to crash IPython. If you know what you are doing, \u001b[39m\u001b[38;5;124m\"\u001b[39m\n\u001b[1;32m    307\u001b[0m         \u001b[38;5;124m\"\u001b[39m\u001b[38;5;124myou can use builtins\u001b[39m\u001b[38;5;124m'\u001b[39m\u001b[38;5;124m open.\u001b[39m\u001b[38;5;124m\"\u001b[39m\n\u001b[1;32m    308\u001b[0m     )\n\u001b[0;32m--> 310\u001b[0m \u001b[38;5;28;01mreturn\u001b[39;00m \u001b[43mio_open\u001b[49m\u001b[43m(\u001b[49m\u001b[43mfile\u001b[49m\u001b[43m,\u001b[49m\u001b[43m \u001b[49m\u001b[38;5;241;43m*\u001b[39;49m\u001b[43margs\u001b[49m\u001b[43m,\u001b[49m\u001b[43m \u001b[49m\u001b[38;5;241;43m*\u001b[39;49m\u001b[38;5;241;43m*\u001b[39;49m\u001b[43mkwargs\u001b[49m\u001b[43m)\u001b[49m\n",
      "\u001b[0;31mFileNotFoundError\u001b[0m: [Errno 2] No such file or directory: 'log.txt'"
     ]
    }
   ],
   "source": [
    "with open(\"log.txt\",\"r\") as file:\n",
    "    content = file.read()\n",
    "update_content = content.replace(\"error\",\"issue\")\n",
    "with open(\"log.txt\",\"w\") as file:\n",
    "    file.read(update_content)\n",
    "print(\"error is replace with issue\")"
   ]
  },
  {
   "cell_type": "markdown",
   "id": "f0d144a6",
   "metadata": {},
   "source": [
    "### Exercise 25:\n",
    "Count the number of words in a text file `\"document.txt\"`.\n"
   ]
  },
  {
   "cell_type": "code",
   "execution_count": 24,
   "id": "a3c394bf",
   "metadata": {},
   "outputs": [
    {
     "ename": "FileNotFoundError",
     "evalue": "[Errno 2] No such file or directory: 'document.txt'",
     "output_type": "error",
     "traceback": [
      "\u001b[0;31m---------------------------------------------------------------------------\u001b[0m",
      "\u001b[0;31mFileNotFoundError\u001b[0m                         Traceback (most recent call last)",
      "Cell \u001b[0;32mIn[24], line 1\u001b[0m\n\u001b[0;32m----> 1\u001b[0m \u001b[38;5;28;01mwith\u001b[39;00m \u001b[38;5;28;43mopen\u001b[39;49m\u001b[43m(\u001b[49m\u001b[38;5;124;43m\"\u001b[39;49m\u001b[38;5;124;43mdocument.txt\u001b[39;49m\u001b[38;5;124;43m\"\u001b[39;49m\u001b[43m,\u001b[49m\u001b[38;5;124;43m\"\u001b[39;49m\u001b[38;5;124;43mr\u001b[39;49m\u001b[38;5;124;43m\"\u001b[39;49m\u001b[43m)\u001b[49m \u001b[38;5;28;01mas\u001b[39;00m file:\n\u001b[1;32m      2\u001b[0m     content \u001b[38;5;241m=\u001b[39m file\u001b[38;5;241m.\u001b[39mread()\n\u001b[1;32m      3\u001b[0m words \u001b[38;5;241m=\u001b[39m content\u001b[38;5;241m.\u001b[39msplit()\n",
      "File \u001b[0;32m/usr/lib/python3/dist-packages/IPython/core/interactiveshell.py:310\u001b[0m, in \u001b[0;36m_modified_open\u001b[0;34m(file, *args, **kwargs)\u001b[0m\n\u001b[1;32m    303\u001b[0m \u001b[38;5;28;01mif\u001b[39;00m file \u001b[38;5;129;01min\u001b[39;00m {\u001b[38;5;241m0\u001b[39m, \u001b[38;5;241m1\u001b[39m, \u001b[38;5;241m2\u001b[39m}:\n\u001b[1;32m    304\u001b[0m     \u001b[38;5;28;01mraise\u001b[39;00m \u001b[38;5;167;01mValueError\u001b[39;00m(\n\u001b[1;32m    305\u001b[0m         \u001b[38;5;124mf\u001b[39m\u001b[38;5;124m\"\u001b[39m\u001b[38;5;124mIPython won\u001b[39m\u001b[38;5;124m'\u001b[39m\u001b[38;5;124mt let you open fd=\u001b[39m\u001b[38;5;132;01m{\u001b[39;00mfile\u001b[38;5;132;01m}\u001b[39;00m\u001b[38;5;124m by default \u001b[39m\u001b[38;5;124m\"\u001b[39m\n\u001b[1;32m    306\u001b[0m         \u001b[38;5;124m\"\u001b[39m\u001b[38;5;124mas it is likely to crash IPython. If you know what you are doing, \u001b[39m\u001b[38;5;124m\"\u001b[39m\n\u001b[1;32m    307\u001b[0m         \u001b[38;5;124m\"\u001b[39m\u001b[38;5;124myou can use builtins\u001b[39m\u001b[38;5;124m'\u001b[39m\u001b[38;5;124m open.\u001b[39m\u001b[38;5;124m\"\u001b[39m\n\u001b[1;32m    308\u001b[0m     )\n\u001b[0;32m--> 310\u001b[0m \u001b[38;5;28;01mreturn\u001b[39;00m \u001b[43mio_open\u001b[49m\u001b[43m(\u001b[49m\u001b[43mfile\u001b[49m\u001b[43m,\u001b[49m\u001b[43m \u001b[49m\u001b[38;5;241;43m*\u001b[39;49m\u001b[43margs\u001b[49m\u001b[43m,\u001b[49m\u001b[43m \u001b[49m\u001b[38;5;241;43m*\u001b[39;49m\u001b[38;5;241;43m*\u001b[39;49m\u001b[43mkwargs\u001b[49m\u001b[43m)\u001b[49m\n",
      "\u001b[0;31mFileNotFoundError\u001b[0m: [Errno 2] No such file or directory: 'document.txt'"
     ]
    }
   ],
   "source": [
    "with open(\"document.txt\",\"r\") as file:\n",
    "    content = file.read()\n",
    "words = content.split()\n",
    "word_count = len(words)\n",
    "print(f\"the number of words in 'document.txt' is :{word_count}\")\n",
    "          "
   ]
  },
  {
   "cell_type": "markdown",
   "id": "92136e00",
   "metadata": {},
   "source": [
    "### Exercise 26:\n",
    "Write a Python script that reads a file `\"essay.txt\"` and prints the total number of lines, words, and characters.\n"
   ]
  },
  {
   "cell_type": "code",
   "execution_count": 1,
   "id": "cbd20ae7",
   "metadata": {},
   "outputs": [
    {
     "ename": "FileNotFoundError",
     "evalue": "[Errno 2] No such file or directory: 'essay.txt'",
     "output_type": "error",
     "traceback": [
      "\u001b[0;31m---------------------------------------------------------------------------\u001b[0m",
      "\u001b[0;31mFileNotFoundError\u001b[0m                         Traceback (most recent call last)",
      "Cell \u001b[0;32mIn[1], line 1\u001b[0m\n\u001b[0;32m----> 1\u001b[0m \u001b[38;5;28;01mwith\u001b[39;00m \u001b[38;5;28;43mopen\u001b[39;49m\u001b[43m(\u001b[49m\u001b[38;5;124;43m\"\u001b[39;49m\u001b[38;5;124;43messay.txt\u001b[39;49m\u001b[38;5;124;43m\"\u001b[39;49m\u001b[43m,\u001b[49m\u001b[43m \u001b[49m\u001b[38;5;124;43m\"\u001b[39;49m\u001b[38;5;124;43mr\u001b[39;49m\u001b[38;5;124;43m\"\u001b[39;49m\u001b[43m)\u001b[49m:\n\u001b[1;32m      2\u001b[0m     lines \u001b[38;5;241m=\u001b[39m file\u001b[38;5;241m.\u001b[39mreadlines()\n\u001b[1;32m      4\u001b[0m     \u001b[38;5;66;03m# Count lines\u001b[39;00m\n",
      "File \u001b[0;32m/usr/lib/python3/dist-packages/IPython/core/interactiveshell.py:310\u001b[0m, in \u001b[0;36m_modified_open\u001b[0;34m(file, *args, **kwargs)\u001b[0m\n\u001b[1;32m    303\u001b[0m \u001b[38;5;28;01mif\u001b[39;00m file \u001b[38;5;129;01min\u001b[39;00m {\u001b[38;5;241m0\u001b[39m, \u001b[38;5;241m1\u001b[39m, \u001b[38;5;241m2\u001b[39m}:\n\u001b[1;32m    304\u001b[0m     \u001b[38;5;28;01mraise\u001b[39;00m \u001b[38;5;167;01mValueError\u001b[39;00m(\n\u001b[1;32m    305\u001b[0m         \u001b[38;5;124mf\u001b[39m\u001b[38;5;124m\"\u001b[39m\u001b[38;5;124mIPython won\u001b[39m\u001b[38;5;124m'\u001b[39m\u001b[38;5;124mt let you open fd=\u001b[39m\u001b[38;5;132;01m{\u001b[39;00mfile\u001b[38;5;132;01m}\u001b[39;00m\u001b[38;5;124m by default \u001b[39m\u001b[38;5;124m\"\u001b[39m\n\u001b[1;32m    306\u001b[0m         \u001b[38;5;124m\"\u001b[39m\u001b[38;5;124mas it is likely to crash IPython. If you know what you are doing, \u001b[39m\u001b[38;5;124m\"\u001b[39m\n\u001b[1;32m    307\u001b[0m         \u001b[38;5;124m\"\u001b[39m\u001b[38;5;124myou can use builtins\u001b[39m\u001b[38;5;124m'\u001b[39m\u001b[38;5;124m open.\u001b[39m\u001b[38;5;124m\"\u001b[39m\n\u001b[1;32m    308\u001b[0m     )\n\u001b[0;32m--> 310\u001b[0m \u001b[38;5;28;01mreturn\u001b[39;00m \u001b[43mio_open\u001b[49m\u001b[43m(\u001b[49m\u001b[43mfile\u001b[49m\u001b[43m,\u001b[49m\u001b[43m \u001b[49m\u001b[38;5;241;43m*\u001b[39;49m\u001b[43margs\u001b[49m\u001b[43m,\u001b[49m\u001b[43m \u001b[49m\u001b[38;5;241;43m*\u001b[39;49m\u001b[38;5;241;43m*\u001b[39;49m\u001b[43mkwargs\u001b[49m\u001b[43m)\u001b[49m\n",
      "\u001b[0;31mFileNotFoundError\u001b[0m: [Errno 2] No such file or directory: 'essay.txt'"
     ]
    }
   ],
   "source": [
    "with open(\"essay.txt\", \"r\"):\n",
    "    lines = file.readlines()\n",
    "    \n",
    "    # Count lines\n",
    "    line_count = len(lines)\n",
    "\n",
    "    # Count words and characters\n",
    "    word_count = 0\n",
    "    char_count = 0\n",
    "\n",
    "    for line in lines:\n",
    "        word_count += len(line.split())\n",
    "        char_count += len(line)\n",
    "\n",
    "    # Print the results\n",
    "    print(\"Total Lines:\", line_count)\n",
    "    print(\"Total Words:\", word_count)\n",
    "    print(\"Total Characters:\", char_count)"
   ]
  },
  {
   "cell_type": "markdown",
   "id": "17d1b23f",
   "metadata": {},
   "source": [
    "### Exercise 27:\n",
    "Copy the contents of one file `\"source.txt\"` to another file `\"destination.txt\"`.\n",
    "\n"
   ]
  },
  {
   "cell_type": "code",
   "execution_count": 3,
   "id": "c1f0a0e3",
   "metadata": {},
   "outputs": [
    {
     "ename": "FileNotFoundError",
     "evalue": "[Errno 2] No such file or directory: 'source.txt'",
     "output_type": "error",
     "traceback": [
      "\u001b[0;31m---------------------------------------------------------------------------\u001b[0m",
      "\u001b[0;31mFileNotFoundError\u001b[0m                         Traceback (most recent call last)",
      "Cell \u001b[0;32mIn[3], line 1\u001b[0m\n\u001b[0;32m----> 1\u001b[0m \u001b[38;5;28;01mwith\u001b[39;00m \u001b[38;5;28;43mopen\u001b[39;49m\u001b[43m(\u001b[49m\u001b[38;5;124;43m\"\u001b[39;49m\u001b[38;5;124;43msource.txt\u001b[39;49m\u001b[38;5;124;43m\"\u001b[39;49m\u001b[43m,\u001b[49m\u001b[43m \u001b[49m\u001b[38;5;124;43m\"\u001b[39;49m\u001b[38;5;124;43mr\u001b[39;49m\u001b[38;5;124;43m\"\u001b[39;49m\u001b[43m)\u001b[49m \u001b[38;5;28;01mas\u001b[39;00m source_file:\n\u001b[1;32m      2\u001b[0m     content \u001b[38;5;241m=\u001b[39m source_file\u001b[38;5;241m.\u001b[39mread()\n\u001b[1;32m      4\u001b[0m \u001b[38;5;28;01mwith\u001b[39;00m \u001b[38;5;28mopen\u001b[39m(\u001b[38;5;124m\"\u001b[39m\u001b[38;5;124mdestination.txt\u001b[39m\u001b[38;5;124m\"\u001b[39m, \u001b[38;5;124m\"\u001b[39m\u001b[38;5;124mw\u001b[39m\u001b[38;5;124m\"\u001b[39m, encoding\u001b[38;5;241m=\u001b[39m\u001b[38;5;124m\"\u001b[39m\u001b[38;5;124mutf-8\u001b[39m\u001b[38;5;124m\"\u001b[39m) \u001b[38;5;28;01mas\u001b[39;00m destination_file:\n",
      "File \u001b[0;32m/usr/lib/python3/dist-packages/IPython/core/interactiveshell.py:310\u001b[0m, in \u001b[0;36m_modified_open\u001b[0;34m(file, *args, **kwargs)\u001b[0m\n\u001b[1;32m    303\u001b[0m \u001b[38;5;28;01mif\u001b[39;00m file \u001b[38;5;129;01min\u001b[39;00m {\u001b[38;5;241m0\u001b[39m, \u001b[38;5;241m1\u001b[39m, \u001b[38;5;241m2\u001b[39m}:\n\u001b[1;32m    304\u001b[0m     \u001b[38;5;28;01mraise\u001b[39;00m \u001b[38;5;167;01mValueError\u001b[39;00m(\n\u001b[1;32m    305\u001b[0m         \u001b[38;5;124mf\u001b[39m\u001b[38;5;124m\"\u001b[39m\u001b[38;5;124mIPython won\u001b[39m\u001b[38;5;124m'\u001b[39m\u001b[38;5;124mt let you open fd=\u001b[39m\u001b[38;5;132;01m{\u001b[39;00mfile\u001b[38;5;132;01m}\u001b[39;00m\u001b[38;5;124m by default \u001b[39m\u001b[38;5;124m\"\u001b[39m\n\u001b[1;32m    306\u001b[0m         \u001b[38;5;124m\"\u001b[39m\u001b[38;5;124mas it is likely to crash IPython. If you know what you are doing, \u001b[39m\u001b[38;5;124m\"\u001b[39m\n\u001b[1;32m    307\u001b[0m         \u001b[38;5;124m\"\u001b[39m\u001b[38;5;124myou can use builtins\u001b[39m\u001b[38;5;124m'\u001b[39m\u001b[38;5;124m open.\u001b[39m\u001b[38;5;124m\"\u001b[39m\n\u001b[1;32m    308\u001b[0m     )\n\u001b[0;32m--> 310\u001b[0m \u001b[38;5;28;01mreturn\u001b[39;00m \u001b[43mio_open\u001b[49m\u001b[43m(\u001b[49m\u001b[43mfile\u001b[49m\u001b[43m,\u001b[49m\u001b[43m \u001b[49m\u001b[38;5;241;43m*\u001b[39;49m\u001b[43margs\u001b[49m\u001b[43m,\u001b[49m\u001b[43m \u001b[49m\u001b[38;5;241;43m*\u001b[39;49m\u001b[38;5;241;43m*\u001b[39;49m\u001b[43mkwargs\u001b[49m\u001b[43m)\u001b[49m\n",
      "\u001b[0;31mFileNotFoundError\u001b[0m: [Errno 2] No such file or directory: 'source.txt'"
     ]
    }
   ],
   "source": [
    "\n",
    "    with open(\"source.txt\", \"r\") as source_file:\n",
    "        content = source_file.read()\n",
    "\n",
    "    with open(\"destination.txt\", \"w\", encoding=\"utf-8\") as destination_file:\n",
    "        destination_file.write(content)\n",
    "\n",
    "    print(\"File copied successfully.\")\n",
    "    print(\"Error: 'source.txt' not found.\")\n",
    "    print(\"An error occurred:\", e)\n"
   ]
  },
  {
   "cell_type": "markdown",
   "id": "2ec02296",
   "metadata": {},
   "source": [
    "### Exercise 29:\n",
    "Extract all the words from a text file `\"article.txt\"` that contain more than 5 characters.\n"
   ]
  },
  {
   "cell_type": "code",
   "execution_count": 6,
   "id": "bde323f1",
   "metadata": {},
   "outputs": [
    {
     "ename": "FileNotFoundError",
     "evalue": "[Errno 2] No such file or directory: 'article.txt'",
     "output_type": "error",
     "traceback": [
      "\u001b[0;31m---------------------------------------------------------------------------\u001b[0m",
      "\u001b[0;31mFileNotFoundError\u001b[0m                         Traceback (most recent call last)",
      "Cell \u001b[0;32mIn[6], line 1\u001b[0m\n\u001b[0;32m----> 1\u001b[0m \u001b[38;5;28;01mwith\u001b[39;00m \u001b[38;5;28;43mopen\u001b[39;49m\u001b[43m(\u001b[49m\u001b[38;5;124;43m\"\u001b[39;49m\u001b[38;5;124;43marticle.txt\u001b[39;49m\u001b[38;5;124;43m\"\u001b[39;49m\u001b[43m,\u001b[49m\u001b[43m \u001b[49m\u001b[38;5;124;43m\"\u001b[39;49m\u001b[38;5;124;43mr\u001b[39;49m\u001b[38;5;124;43m\"\u001b[39;49m\u001b[43m,\u001b[49m\u001b[43m \u001b[49m\u001b[43mencoding\u001b[49m\u001b[38;5;241;43m=\u001b[39;49m\u001b[38;5;124;43m\"\u001b[39;49m\u001b[38;5;124;43mutf-8\u001b[39;49m\u001b[38;5;124;43m\"\u001b[39;49m\u001b[43m)\u001b[49m \u001b[38;5;28;01mas\u001b[39;00m file:\n\u001b[1;32m      2\u001b[0m     text \u001b[38;5;241m=\u001b[39m file\u001b[38;5;241m.\u001b[39mread()\n\u001b[1;32m      4\u001b[0m \u001b[38;5;66;03m# Split text into words and filter those with more than 5 characters\u001b[39;00m\n",
      "File \u001b[0;32m/usr/lib/python3/dist-packages/IPython/core/interactiveshell.py:310\u001b[0m, in \u001b[0;36m_modified_open\u001b[0;34m(file, *args, **kwargs)\u001b[0m\n\u001b[1;32m    303\u001b[0m \u001b[38;5;28;01mif\u001b[39;00m file \u001b[38;5;129;01min\u001b[39;00m {\u001b[38;5;241m0\u001b[39m, \u001b[38;5;241m1\u001b[39m, \u001b[38;5;241m2\u001b[39m}:\n\u001b[1;32m    304\u001b[0m     \u001b[38;5;28;01mraise\u001b[39;00m \u001b[38;5;167;01mValueError\u001b[39;00m(\n\u001b[1;32m    305\u001b[0m         \u001b[38;5;124mf\u001b[39m\u001b[38;5;124m\"\u001b[39m\u001b[38;5;124mIPython won\u001b[39m\u001b[38;5;124m'\u001b[39m\u001b[38;5;124mt let you open fd=\u001b[39m\u001b[38;5;132;01m{\u001b[39;00mfile\u001b[38;5;132;01m}\u001b[39;00m\u001b[38;5;124m by default \u001b[39m\u001b[38;5;124m\"\u001b[39m\n\u001b[1;32m    306\u001b[0m         \u001b[38;5;124m\"\u001b[39m\u001b[38;5;124mas it is likely to crash IPython. If you know what you are doing, \u001b[39m\u001b[38;5;124m\"\u001b[39m\n\u001b[1;32m    307\u001b[0m         \u001b[38;5;124m\"\u001b[39m\u001b[38;5;124myou can use builtins\u001b[39m\u001b[38;5;124m'\u001b[39m\u001b[38;5;124m open.\u001b[39m\u001b[38;5;124m\"\u001b[39m\n\u001b[1;32m    308\u001b[0m     )\n\u001b[0;32m--> 310\u001b[0m \u001b[38;5;28;01mreturn\u001b[39;00m \u001b[43mio_open\u001b[49m\u001b[43m(\u001b[49m\u001b[43mfile\u001b[49m\u001b[43m,\u001b[49m\u001b[43m \u001b[49m\u001b[38;5;241;43m*\u001b[39;49m\u001b[43margs\u001b[49m\u001b[43m,\u001b[49m\u001b[43m \u001b[49m\u001b[38;5;241;43m*\u001b[39;49m\u001b[38;5;241;43m*\u001b[39;49m\u001b[43mkwargs\u001b[49m\u001b[43m)\u001b[49m\n",
      "\u001b[0;31mFileNotFoundError\u001b[0m: [Errno 2] No such file or directory: 'article.txt'"
     ]
    }
   ],
   "source": [
    "    with open(\"article.txt\", \"r\", encoding=\"utf-8\") as file:\n",
    "        text = file.read()\n",
    "\n",
    "    # Split text into words and filter those with more than 5 characters\n",
    "    words = text.split()\n",
    "    long_words = [word for word in words if len(word) > 5]\n",
    "\n",
    "    # Print the result\n",
    "    print(\"Words with more than 5 characters:\")\n",
    "    for word in long_words:\n",
    "        print(word)\n",
    "\n",
    "    print(\"Error: 'article.txt' not found.\")\n",
    "    print(\"An error occurred:\", e)\n"
   ]
  },
  {
   "cell_type": "markdown",
   "id": "4831fed6",
   "metadata": {},
   "source": [
    "### Exercise 30:\n",
    "Convert the contents of a file `\"notes.txt\"` to uppercase and save the result in another file `\"uppercase_notes.txt\"`.\n"
   ]
  },
  {
   "cell_type": "code",
   "execution_count": 7,
   "id": "586116fe",
   "metadata": {},
   "outputs": [
    {
     "name": "stdout",
     "output_type": "stream",
     "text": [
      "Contents converted to uppercase and saved to 'uppercase_notes.txt'.\n"
     ]
    }
   ],
   "source": [
    "try:\n",
    "    with open(\"notes.txt\", \"r\", encoding=\"utf-8\") as source_file:\n",
    "        content = source_file.read()\n",
    "\n",
    "    uppercase_content = content.upper()\n",
    "\n",
    "    with open(\"uppercase_notes.txt\", \"w\", encoding=\"utf-8\") as target_file:\n",
    "        target_file.write(uppercase_content)\n",
    "\n",
    "    print(\"Contents converted to uppercase and saved to 'uppercase_notes.txt'.\")\n",
    "except FileNotFoundError:\n",
    "    print(\"Error: 'notes.txt' not found.\")\n",
    "except Exception as e:\n",
    "    print(\"An error occurred:\", e)\n"
   ]
  },
  {
   "cell_type": "markdown",
   "id": "4f296bdb",
   "metadata": {},
   "source": [
    "### Exercise 28:\n",
    "Write a Python function that takes a filename as input and returns the number of lines in the file.\n"
   ]
  },
  {
   "cell_type": "code",
   "execution_count": 9,
   "id": "8f3b7c4a",
   "metadata": {},
   "outputs": [],
   "source": [
    "def count_lines(filename):\n",
    "    try:\n",
    "        with open(filename, 'r', encoding='utf-8') as file:\n",
    "            return sum(1 for _ in file)\n",
    "    except FileNotFoundError:\n",
    "        print(f\"Error: The file '{filename}' was not found.\")\n",
    "        return None\n",
    "    except Exception as e:\n",
    "        print(f\"An error occurred: {e}\")\n",
    "        return None\n"
   ]
  },
  {
   "cell_type": "code",
   "execution_count": 10,
   "id": "ec96c6d8",
   "metadata": {},
   "outputs": [
    {
     "name": "stdout",
     "output_type": "stream",
     "text": [
      "Error: The file 'example.txt' was not found.\n"
     ]
    }
   ],
   "source": [
    "lines = count_lines(\"example.txt\")\n",
    "if lines is not None:\n",
    "    print(f\"Total number of lines: {lines}\")\n"
   ]
  },
  {
   "cell_type": "markdown",
   "id": "e70418f5",
   "metadata": {},
   "source": [
    "### Exercise 31:\n",
    "Write a Python script that reads a file and removes all empty lines.\n"
   ]
  },
  {
   "cell_type": "code",
   "execution_count": 11,
   "id": "b6a6537c",
   "metadata": {},
   "outputs": [
    {
     "name": "stdout",
     "output_type": "stream",
     "text": [
      "Error: 'input.txt' not found.\n"
     ]
    }
   ],
   "source": [
    "try:\n",
    "    with open(\"input.txt\", \"r\", encoding=\"utf-8\") as infile:\n",
    "        lines = infile.readlines()\n",
    "\n",
    "    # Filter out empty lines (lines that are just whitespace or newline)\n",
    "    non_empty_lines = [line for line in lines if line.strip() != \"\"]\n",
    "\n",
    "    with open(\"output.txt\", \"w\", encoding=\"utf-8\") as outfile:\n",
    "        outfile.writelines(non_empty_lines)\n",
    "\n",
    "    print(\"Empty lines removed and saved to 'output.txt'.\")\n",
    "except FileNotFoundError:\n",
    "    print(\"Error: 'input.txt' not found.\")\n",
    "except Exception as e:\n",
    "    print(\"An error occurred:\", e)\n"
   ]
  },
  {
   "cell_type": "markdown",
   "id": "39a0a900",
   "metadata": {},
   "source": [
    "### Exercise 32:\n",
    "Open a file `\"config.txt\"` in both read and write mode.\n"
   ]
  },
  {
   "cell_type": "code",
   "execution_count": 12,
   "id": "884dac4e",
   "metadata": {},
   "outputs": [
    {
     "name": "stdout",
     "output_type": "stream",
     "text": [
      "Error: 'config.txt' not found.\n"
     ]
    }
   ],
   "source": [
    "try:\n",
    "    file = open(\"config.txt\", \"r+\", encoding=\"utf-8\")\n",
    "    # You can now read from and write to the file\n",
    "    content = file.read()\n",
    "    print(\"Current contents of config.txt:\")\n",
    "    print(content)\n",
    "\n",
    "    # Example: appending a line at the end\n",
    "    file.write(\"\\n# New configuration added\")\n",
    "\n",
    "    file.close()\n",
    "except FileNotFoundError:\n",
    "    print(\"Error: 'config.txt' not found.\")\n",
    "except Exception as e:\n",
    "    print(\"An error occurred:\", e)\n"
   ]
  },
  {
   "cell_type": "markdown",
   "id": "b83e0df9",
   "metadata": {},
   "source": [
    "### Exercise 33:\n",
    "Write a Python function that reads a file and prints the longest line in the file.\n"
   ]
  },
  {
   "cell_type": "code",
   "execution_count": 13,
   "id": "72e4d82e",
   "metadata": {},
   "outputs": [],
   "source": [
    "def print_longest_line(filename):\n",
    "    try:\n",
    "        with open(filename, 'r', encoding='utf-8') as file:\n",
    "            longest_line = ''\n",
    "            for line in file:\n",
    "                if len(line) > len(longest_line):\n",
    "                    longest_line = line\n",
    "\n",
    "        print(\"Longest line in the file:\")\n",
    "        print(longest_line.strip())\n",
    "    except FileNotFoundError:\n",
    "        print(f\"Error: The file '{filename}' was not found.\")\n",
    "    except Exception as e:\n",
    "        print(f\"An error occurred: {e}\")\n"
   ]
  },
  {
   "cell_type": "code",
   "execution_count": 14,
   "id": "15b992c4",
   "metadata": {},
   "outputs": [
    {
     "name": "stdout",
     "output_type": "stream",
     "text": [
      "Error: The file 'example.txt' was not found.\n"
     ]
    }
   ],
   "source": [
    "print_longest_line(\"example.txt\")\n"
   ]
  },
  {
   "cell_type": "markdown",
   "id": "472ae7cf",
   "metadata": {},
   "source": [
    "### Exercise 34:\n",
    "Write a Python script to count the frequency of each letter in a text file `\"message.txt\"`.\n",
    "\n"
   ]
  },
  {
   "cell_type": "code",
   "execution_count": 15,
   "id": "8a9e5623",
   "metadata": {},
   "outputs": [
    {
     "name": "stdout",
     "output_type": "stream",
     "text": [
      "Error: 'message.txt' not found.\n"
     ]
    }
   ],
   "source": [
    "from collections import Counter\n",
    "import string\n",
    "\n",
    "try:\n",
    "    with open(\"message.txt\", \"r\", encoding=\"utf-8\") as file:\n",
    "        text = file.read()\n",
    "\n",
    "    # Convert text to lowercase and filter only alphabetic characters\n",
    "    letters_only = [char.lower() for char in text if char.lower() in string.ascii_lowercase]\n",
    "\n",
    "    # Count frequency of each letter\n",
    "    letter_counts = Counter(letters_only)\n",
    "\n",
    "    # Print the results\n",
    "    print(\"Letter Frequency in 'message.txt':\")\n",
    "    for letter in sorted(letter_counts):\n",
    "        print(f\"{letter}: {letter_counts[letter]}\")\n",
    "\n",
    "except FileNotFoundError:\n",
    "    print(\"Error: 'message.txt' not found.\")\n",
    "except Exception as e:\n",
    "    print(\"An error occurred:\", e)\n"
   ]
  },
  {
   "cell_type": "markdown",
   "id": "38b645ff",
   "metadata": {},
   "source": [
    "### Exercise 35:\n",
    "Write a Python script that reads a file and prints the total number of characters, excluding spaces.\n"
   ]
  },
  {
   "cell_type": "code",
   "execution_count": 16,
   "id": "8426e598",
   "metadata": {},
   "outputs": [
    {
     "name": "stdout",
     "output_type": "stream",
     "text": [
      "Error: 'input.txt' not found.\n"
     ]
    }
   ],
   "source": [
    "try:\n",
    "    with open(\"input.txt\", \"r\", encoding=\"utf-8\") as file:\n",
    "        text = file.read()\n",
    "\n",
    "    # Remove spaces and count remaining characters\n",
    "    char_count = len(text.replace(\" \", \"\"))\n",
    "\n",
    "    print(\"Total number of characters (excluding spaces):\", char_count)\n",
    "\n",
    "except FileNotFoundError:\n",
    "    print(\"Error: 'input.txt' not found.\")\n",
    "except Exception as e:\n",
    "    print(\"An error occurred:\", e)\n"
   ]
  },
  {
   "cell_type": "markdown",
   "id": "fe657c9a",
   "metadata": {},
   "source": [
    "### Exercise 36:\n",
    "Create a Python script to check whether a file is empty or not.\n"
   ]
  },
  {
   "cell_type": "code",
   "execution_count": 17,
   "id": "4ce9a58f",
   "metadata": {},
   "outputs": [
    {
     "name": "stdout",
     "output_type": "stream",
     "text": [
      "Error: The file 'data.txt' was not found.\n"
     ]
    }
   ],
   "source": [
    "import os\n",
    "\n",
    "filename = \"data.txt\"\n",
    "\n",
    "try:\n",
    "    if os.path.getsize(filename) == 0:\n",
    "        print(f\"The file '{filename}' is empty.\")\n",
    "    else:\n",
    "        print(f\"The file '{filename}' is not empty.\")\n",
    "except FileNotFoundError:\n",
    "    print(f\"Error: The file '{filename}' was not found.\")\n",
    "except Exception as e:\n",
    "    print(\"An error occurred:\", e)\n"
   ]
  },
  {
   "cell_type": "markdown",
   "id": "8de9c7b7",
   "metadata": {},
   "source": [
    "### Exercise 37:\n",
    "Write a Python function that reads a file and removes all punctuation marks from the text.\n"
   ]
  },
  {
   "cell_type": "code",
   "execution_count": 18,
   "id": "6ed12fae",
   "metadata": {},
   "outputs": [],
   "source": [
    "import string\n",
    "\n",
    "def remove_punctuation(filename):\n",
    "    try:\n",
    "        with open(filename, 'r', encoding='utf-8') as file:\n",
    "            text = file.read()\n",
    "\n",
    "        # Remove punctuation using str.translate\n",
    "        cleaned_text = text.translate(str.maketrans('', '', string.punctuation))\n",
    "\n",
    "        print(\"Text without punctuation:\")\n",
    "        print(cleaned_text)\n",
    "    except FileNotFoundError:\n",
    "        print(f\"Error: The file '{filename}' was not found.\")\n",
    "    except Exception as e:\n",
    "        print(f\"An error occurred: {e}\")\n"
   ]
  },
  {
   "cell_type": "code",
   "execution_count": 19,
   "id": "f29b5152",
   "metadata": {},
   "outputs": [
    {
     "name": "stdout",
     "output_type": "stream",
     "text": [
      "Error: The file 'sample.txt' was not found.\n"
     ]
    }
   ],
   "source": [
    "remove_punctuation(\"sample.txt\")\n"
   ]
  },
  {
   "cell_type": "markdown",
   "id": "8bcece9c",
   "metadata": {},
   "source": [
    "### Exercise 38:\n",
    "Create a Python function that writes a list of strings to a file, each string on a new line.\n"
   ]
  },
  {
   "cell_type": "code",
   "execution_count": 20,
   "id": "b82ce747",
   "metadata": {},
   "outputs": [],
   "source": [
    "def write_lines_to_file(filename, lines):\n",
    "    try:\n",
    "        with open(filename, 'w', encoding='utf-8') as file:\n",
    "            for line in lines:\n",
    "                file.write(line + '\\n')\n",
    "        print(f\"Successfully wrote {len(lines)} lines to '{filename}'.\")\n",
    "    except Exception as e:\n",
    "        print(f\"An error occurred: {e}\")\n"
   ]
  },
  {
   "cell_type": "code",
   "execution_count": 21,
   "id": "ff7ddcbb",
   "metadata": {},
   "outputs": [
    {
     "name": "stdout",
     "output_type": "stream",
     "text": [
      "Successfully wrote 3 lines to 'output.txt'.\n"
     ]
    }
   ],
   "source": [
    "my_lines = [\"Hello, world!\", \"This is line two.\", \"Python makes file writing easy.\"]\n",
    "write_lines_to_file(\"output.txt\", my_lines)\n"
   ]
  },
  {
   "cell_type": "markdown",
   "id": "461214fe",
   "metadata": {},
   "source": [
    "### Exercise 39:\n",
    "Write a Python script to count the number of lines that start with a specific letter (e.g., \"A\") in a text file.\n"
   ]
  },
  {
   "cell_type": "code",
   "execution_count": 22,
   "id": "150278a4",
   "metadata": {},
   "outputs": [
    {
     "name": "stdout",
     "output_type": "stream",
     "text": [
      "Error: The file 'input.txt' was not found.\n"
     ]
    }
   ],
   "source": [
    "letter = \"A\"\n",
    "filename = \"input.txt\"\n",
    "\n",
    "try:\n",
    "    count = 0\n",
    "    with open(filename, \"r\", encoding=\"utf-8\") as file:\n",
    "        for line in file:\n",
    "            if line.strip().startswith(letter):\n",
    "                count += 1\n",
    "\n",
    "    print(f\"Number of lines starting with '{letter}': {count}\")\n",
    "except FileNotFoundError:\n",
    "    print(f\"Error: The file '{filename}' was not found.\")\n",
    "except Exception as e:\n",
    "    print(f\"An error occurred: {e}\")\n"
   ]
  },
  {
   "cell_type": "markdown",
   "id": "9a42cae2",
   "metadata": {},
   "source": [
    "### Exercise 40:\n",
    "Write a Python function that takes a string as input and writes it to a file `\"output.txt\"` in reverse order.\n"
   ]
  },
  {
   "cell_type": "code",
   "execution_count": 23,
   "id": "fedf9b56",
   "metadata": {},
   "outputs": [],
   "source": [
    "def write_reversed_to_file(text):\n",
    "    try:\n",
    "        reversed_text = text[::-1]\n",
    "        with open(\"output.txt\", \"w\", encoding=\"utf-8\") as file:\n",
    "            file.write(reversed_text)\n",
    "        print(\"Reversed text written to 'output.txt'.\")\n",
    "    except Exception as e:\n",
    "        print(f\"An error occurred: {e}\")\n"
   ]
  },
  {
   "cell_type": "code",
   "execution_count": 24,
   "id": "3a3abeaf",
   "metadata": {},
   "outputs": [
    {
     "name": "stdout",
     "output_type": "stream",
     "text": [
      "Reversed text written to 'output.txt'.\n"
     ]
    }
   ],
   "source": [
    "write_reversed_to_file(\"Hello, world!\")\n"
   ]
  },
  {
   "cell_type": "markdown",
   "id": "cee401c5",
   "metadata": {},
   "source": [
    "### Exercise 41:\n",
    "Write a Python script that reads a file and prints all the lines that contain the word `\"Python\"`.\n"
   ]
  },
  {
   "cell_type": "code",
   "execution_count": 25,
   "id": "a7a83b2b",
   "metadata": {},
   "outputs": [
    {
     "name": "stdout",
     "output_type": "stream",
     "text": [
      "Error: 'input.txt' not found.\n"
     ]
    }
   ],
   "source": [
    "try:\n",
    "    with open(\"input.txt\", \"r\", encoding=\"utf-8\") as file:\n",
    "        for line in file:\n",
    "            if \"Python\" in line:\n",
    "                print(line.strip())\n",
    "except FileNotFoundError:\n",
    "    print(\"Error: 'input.txt' not found.\")\n",
    "except Exception as e:\n",
    "    print(\"An error occurred:\", e)\n"
   ]
  },
  {
   "cell_type": "markdown",
   "id": "206ebb7f",
   "metadata": {},
   "source": [
    "### Exercise 42:\n",
    "Write a Python script that opens a file and removes all numeric digits from the file's content.\n"
   ]
  },
  {
   "cell_type": "code",
   "execution_count": 26,
   "id": "b4c52ea8",
   "metadata": {},
   "outputs": [
    {
     "name": "stdout",
     "output_type": "stream",
     "text": [
      "Error: 'input.txt' not found.\n"
     ]
    }
   ],
   "source": [
    "try:\n",
    "    with open(\"input.txt\", \"r\", encoding=\"utf-8\") as file:\n",
    "        content = file.read()\n",
    "\n",
    "    # Remove all digits from the content\n",
    "    cleaned_content = ''.join(char for char in content if not char.isdigit())\n",
    "\n",
    "    with open(\"no_digits.txt\", \"w\", encoding=\"utf-8\") as output_file:\n",
    "        output_file.write(cleaned_content)\n",
    "\n",
    "    print(\"Digits removed and saved to 'no_digits.txt'.\")\n",
    "except FileNotFoundError:\n",
    "    print(\"Error: 'input.txt' not found.\")\n",
    "except Exception as e:\n",
    "    print(\"An error occurred:\", e)\n"
   ]
  },
  {
   "cell_type": "markdown",
   "id": "e6cf4075",
   "metadata": {},
   "source": [
    "\n",
    "### Exercise 43:\n",
    "Write a Python script to find the most frequent word in a text file `\"book.txt\"`.\n"
   ]
  },
  {
   "cell_type": "code",
   "execution_count": 27,
   "id": "1c48871c",
   "metadata": {},
   "outputs": [
    {
     "name": "stdout",
     "output_type": "stream",
     "text": [
      "Error: 'book.txt' not found.\n"
     ]
    }
   ],
   "source": [
    "from collections import Counter\n",
    "import string\n",
    "\n",
    "try:\n",
    "    with open(\"book.txt\", \"r\", encoding=\"utf-8\") as file:\n",
    "        text = file.read()\n",
    "\n",
    "    # Remove punctuation and convert to lowercase\n",
    "    cleaned_text = text.translate(str.maketrans('', '', string.punctuation)).lower()\n",
    "\n",
    "    # Split into words\n",
    "    words = cleaned_text.split()\n",
    "\n",
    "    # Count word frequencies\n",
    "    word_counts = Counter(words)\n",
    "\n",
    "    # Find the most frequent word\n",
    "    most_common_word, frequency = word_counts.most_common(1)[0]\n",
    "\n",
    "    print(f\"The most frequent word is '{most_common_word}' with {frequency} occurrences.\")\n",
    "except FileNotFoundError:\n",
    "    print(\"Error: 'book.txt' not found.\")\n",
    "except Exception as e:\n",
    "    print(\"An error occurred:\", e)\n"
   ]
  },
  {
   "cell_type": "markdown",
   "id": "5f7ec5ad",
   "metadata": {},
   "source": [
    "### Exercise 44:\n",
    "Write a Python script that reads a file and prints all the lines that contain exactly 5 words.\n"
   ]
  },
  {
   "cell_type": "code",
   "execution_count": 28,
   "id": "0726d17a",
   "metadata": {},
   "outputs": [
    {
     "name": "stdout",
     "output_type": "stream",
     "text": [
      "Error: 'input.txt' not found.\n"
     ]
    }
   ],
   "source": [
    "try:\n",
    "    with open(\"input.txt\", \"r\", encoding=\"utf-8\") as file:\n",
    "        for line in file:\n",
    "            # Strip leading/trailing whitespace and split into words\n",
    "            words = line.strip().split()\n",
    "            if len(words) == 5:\n",
    "                print(line.strip())\n",
    "except FileNotFoundError:\n",
    "    print(\"Error: 'input.txt' not found.\")\n",
    "except Exception as e:\n",
    "    print(\"An error occurred:\", e)\n"
   ]
  },
  {
   "cell_type": "markdown",
   "id": "4b284ac0",
   "metadata": {},
   "source": [
    "### Exercise 45:\n",
    "Write a Python script to read a file and print the first and last line of the file.\n"
   ]
  },
  {
   "cell_type": "code",
   "execution_count": 29,
   "id": "b6d6c8f3",
   "metadata": {},
   "outputs": [
    {
     "name": "stdout",
     "output_type": "stream",
     "text": [
      "Error: 'input.txt' not found.\n"
     ]
    }
   ],
   "source": [
    "try:\n",
    "    with open(\"input.txt\", \"r\", encoding=\"utf-8\") as file:\n",
    "        lines = file.readlines()\n",
    "\n",
    "    if lines:\n",
    "        print(\"First line:\", lines[0].strip())\n",
    "        print(\"Last line:\", lines[-1].strip())\n",
    "    else:\n",
    "        print(\"The file is empty.\")\n",
    "except FileNotFoundError:\n",
    "    print(\"Error: 'input.txt' not found.\")\n",
    "except Exception as e:\n",
    "    print(\"An error occurred:\", e)\n"
   ]
  },
  {
   "cell_type": "markdown",
   "id": "7503e9e9",
   "metadata": {},
   "source": [
    "### Exercise 46:\n",
    "Write a Python script that checks if a file `\"students.txt\"` is writable.\n"
   ]
  },
  {
   "cell_type": "code",
   "execution_count": 30,
   "id": "5cfe54a5",
   "metadata": {},
   "outputs": [
    {
     "name": "stdout",
     "output_type": "stream",
     "text": [
      "The file 'students.txt' does not exist.\n"
     ]
    }
   ],
   "source": [
    "import os\n",
    "\n",
    "filename = \"students.txt\"\n",
    "\n",
    "try:\n",
    "    # Check if file exists\n",
    "    if os.path.exists(filename):\n",
    "        # Try opening the file in append mode to test writability\n",
    "        with open(filename, \"a\", encoding=\"utf-8\") as file:\n",
    "            pass\n",
    "        print(f\"The file '{filename}' is writable.\")\n",
    "    else:\n",
    "        print(f\"The file '{filename}' does not exist.\")\n",
    "except IOError:\n",
    "    print(f\"The file '{filename}' is not writable.\")\n",
    "except Exception as e:\n",
    "    print(f\"An error occurred: {e}\")\n"
   ]
  },
  {
   "cell_type": "markdown",
   "id": "828aac36",
   "metadata": {},
   "source": [
    "### Exercise 47:\n",
    "Create a Python function that opens a file and returns the number of unique words in the file.\n"
   ]
  },
  {
   "cell_type": "code",
   "execution_count": 31,
   "id": "1a249a8d",
   "metadata": {},
   "outputs": [],
   "source": [
    "import string\n",
    "\n",
    "def count_unique_words(filename):\n",
    "    try:\n",
    "        with open(filename, 'r', encoding='utf-8') as file:\n",
    "            text = file.read()\n",
    "\n",
    "        # Remove punctuation and convert to lowercase\n",
    "        cleaned_text = text.translate(str.maketrans('', '', string.punctuation)).lower()\n",
    "\n",
    "        # Split text into words\n",
    "        words = cleaned_text.split()\n",
    "\n",
    "        # Use a set to find unique words\n",
    "        unique_words = set(words)\n",
    "\n",
    "        return len(unique_words)\n",
    "\n",
    "    except FileNotFoundError:\n",
    "        print(f\"Error: The file '{filename}' was not found.\")\n",
    "        return None\n",
    "    except Exception as e:\n",
    "        print(f\"An error occurred: {e}\")\n",
    "        return None\n"
   ]
  },
  {
   "cell_type": "markdown",
   "id": "1d6f970e",
   "metadata": {},
   "source": [
    "### Exercise 48:\n",
    "Write a Python script that reads a file and prints all lines in reverse order.\n"
   ]
  },
  {
   "cell_type": "code",
   "execution_count": 32,
   "id": "219dbdec",
   "metadata": {},
   "outputs": [
    {
     "name": "stdout",
     "output_type": "stream",
     "text": [
      "Error: 'input.txt' not found.\n"
     ]
    }
   ],
   "source": [
    "try:\n",
    "    with open(\"input.txt\", \"r\", encoding=\"utf-8\") as file:\n",
    "        lines = file.readlines()\n",
    "\n",
    "    # Reverse the list of lines and print each one\n",
    "    for line in reversed(lines):\n",
    "        print(line.strip())\n",
    "except FileNotFoundError:\n",
    "    print(\"Error: 'input.txt' not found.\")\n",
    "except Exception as e:\n",
    "    print(\"An error occurred:\", e)\n"
   ]
  },
  {
   "cell_type": "markdown",
   "id": "26b5edae",
   "metadata": {},
   "source": [
    "### Exercise 49:\n",
    "Write a Python function that reads a file and returns the most common letter in the text.\n"
   ]
  },
  {
   "cell_type": "code",
   "execution_count": 33,
   "id": "f2c3435a",
   "metadata": {},
   "outputs": [],
   "source": [
    "from collections import Counter\n",
    "import string\n",
    "\n",
    "def most_common_letter(filename):\n",
    "    try:\n",
    "        with open(filename, 'r', encoding='utf-8') as file:\n",
    "            text = file.read()\n",
    "\n",
    "        # Filter only alphabetic characters and convert to lowercase\n",
    "        letters = [char.lower() for char in text if char.lower() in string.ascii_lowercase]\n",
    "\n",
    "        # Count frequency of each letter\n",
    "        letter_counts = Counter(letters)\n",
    "\n",
    "        # Find the most common letter\n",
    "        most_common = letter_counts.most_common(1)\n",
    "        if most_common:\n",
    "            return most_common[0][0]  # Return the letter\n",
    "        else:\n",
    "            return None  # No letters found\n",
    "\n",
    "    except FileNotFoundError:\n",
    "        print(f\"Error: The file '{filename}' was not found.\")\n",
    "        return None\n",
    "    except Exception as e:\n",
    "        print(f\"An error occurred: {e}\")\n",
    "        return None\n"
   ]
  },
  {
   "cell_type": "code",
   "execution_count": 34,
   "id": "0c5c7baa",
   "metadata": {},
   "outputs": [
    {
     "name": "stdout",
     "output_type": "stream",
     "text": [
      "Error: The file 'sample.txt' was not found.\n",
      "No letters found in the file.\n"
     ]
    }
   ],
   "source": [
    "letter = most_common_letter(\"sample.txt\")\n",
    "if letter:\n",
    "    print(f\"The most common letter is: '{letter}'\")\n",
    "else:\n",
    "    print(\"No letters found in the file.\")\n"
   ]
  },
  {
   "cell_type": "markdown",
   "id": "d99705a5",
   "metadata": {},
   "source": [
    "### Exercise 50:\n",
    "Write a Python script that reads a file and replaces every occurrence of `\"Python\"` with `\"Java\"`.\n"
   ]
  },
  {
   "cell_type": "code",
   "execution_count": 35,
   "id": "fc547a11",
   "metadata": {},
   "outputs": [
    {
     "name": "stdout",
     "output_type": "stream",
     "text": [
      "Error: 'input.txt' not found.\n"
     ]
    }
   ],
   "source": [
    "try:\n",
    "    # Read the original content\n",
    "    with open(\"input.txt\", \"r\", encoding=\"utf-8\") as file:\n",
    "        content = file.read()\n",
    "\n",
    "    # Replace all occurrences of \"Python\" with \"Java\"\n",
    "    updated_content = content.replace(\"Python\", \"Java\")\n",
    "\n",
    "    # Write the updated content back to the file\n",
    "    with open(\"input.txt\", \"w\", encoding=\"utf-8\") as file:\n",
    "        file.write(updated_content)\n",
    "\n",
    "    print(\"All occurrences of 'Python' have been replaced with 'Java'.\")\n",
    "except FileNotFoundError:\n",
    "    print(\"Error: 'input.txt' not found.\")\n",
    "except Exception as e:\n",
    "    print(\"An error occurred:\", e)\n"
   ]
  }
 ],
 "metadata": {
  "kernelspec": {
   "display_name": "Python 3 (ipykernel)",
   "language": "python",
   "name": "python3"
  },
  "language_info": {
   "codemirror_mode": {
    "name": "ipython",
    "version": 3
   },
   "file_extension": ".py",
   "mimetype": "text/x-python",
   "name": "python",
   "nbconvert_exporter": "python",
   "pygments_lexer": "ipython3",
   "version": "3.12.3"
  }
 },
 "nbformat": 4,
 "nbformat_minor": 5
}
