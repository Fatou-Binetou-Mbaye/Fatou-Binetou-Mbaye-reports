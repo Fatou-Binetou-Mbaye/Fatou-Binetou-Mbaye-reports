{
 "cells": [
  {
   "cell_type": "markdown",
   "id": "d68c1dee",
   "metadata": {
    "id": "d68c1dee"
   },
   "source": [
    "# Practical_4: Flow control"
   ]
  },
  {
   "cell_type": "markdown",
   "id": "57bbf1ed",
   "metadata": {
    "id": "bea983a3"
   },
   "source": [
    "### Exercise 1:\n",
    "Write a Python program that checks if a number is positive or negative.\n"
   ]
  },
  {
   "cell_type": "code",
   "execution_count": 3,
   "id": "e5298ca4",
   "metadata": {
    "id": "bea983a3"
   },
   "outputs": [
    {
     "name": "stdout",
     "output_type": "stream",
     "text": [
      "Enter a number: -3\n",
      "The number is negative.\n"
     ]
    }
   ],
   "source": [
    "def signe_number(number):\n",
    "    if number > 0:\n",
    "        return \"The number is positive.\"\n",
    "    elif number < 0:\n",
    "        return \"The number is negative.\"\n",
    "    else:\n",
    "        return \"The number is zero.\"\n",
    "\n",
    "number = float(input(\"Enter a number: \"))\n",
    "result = signe_number(number)\n",
    "print(result)\n"
   ]
  },
  {
   "cell_type": "markdown",
   "id": "5ed26643",
   "metadata": {
    "id": "bea983a3"
   },
   "source": [
    "### Exercise 2:\n",
    "Write a Python function that checks if a string starts with a vowel.\n"
   ]
  },
  {
   "cell_type": "code",
   "execution_count": 4,
   "id": "618ecdbe",
   "metadata": {
    "id": "bea983a3"
   },
   "outputs": [
    {
     "name": "stdout",
     "output_type": "stream",
     "text": [
      "True\n",
      "False\n",
      "False\n"
     ]
    }
   ],
   "source": [
    "def StartsWithVowel(s):\n",
    "    if not s:\n",
    "        return False  \n",
    "    return s[0].lower() in 'aeiou'\n",
    "\n",
    "print(StartsWithVowel(\"ananas\"))     \n",
    "print(StartsWithVowel(\"date\"))    \n",
    "print(StartsWithVowel(\"\"))          \n"
   ]
  },
  {
   "cell_type": "markdown",
   "id": "cbf2d57d",
   "metadata": {
    "id": "bea983a3"
   },
   "source": [
    "### Exercise 3:\n",
    "Write a Python program that takes a list of integers and prints \"Even\" for each even number and \"Odd\" for each odd number."
   ]
  },
  {
   "cell_type": "code",
   "execution_count": 5,
   "id": "ee5eb3ff",
   "metadata": {
    "id": "bea983a3"
   },
   "outputs": [
    {
     "name": "stdout",
     "output_type": "stream",
     "text": [
      "10 is Even\n",
      "3 is Odd\n",
      "4 is Even\n",
      "7 is Odd\n",
      "8 is Even\n",
      "11 is Odd\n"
     ]
    }
   ],
   "source": [
    "def even_or_odd(numbers):\n",
    "    for num in numbers:\n",
    "        if num % 2 == 0:\n",
    "            print(f\"{num} is Even\")\n",
    "        else:\n",
    "            print(f\"{num} is Odd\")\n",
    "\n",
    "nums = [10, 3, 4, 7, 8, 11]\n",
    "even_or_odd(nums)\n"
   ]
  },
  {
   "cell_type": "markdown",
   "id": "c3a1eb73",
   "metadata": {
    "id": "bea983a3"
   },
   "source": [
    "### Exercise 4:\n",
    "Write a Python program that checks if a given year is a leap year."
   ]
  },
  {
   "cell_type": "code",
   "execution_count": 7,
   "id": "f3436887",
   "metadata": {
    "id": "bea983a3"
   },
   "outputs": [
    {
     "name": "stdout",
     "output_type": "stream",
     "text": [
      "Enter a year: 2022\n",
      "2022 is not a leap year.\n"
     ]
    }
   ],
   "source": [
    "def IsLeapYear(year):\n",
    "    if (year % 4 == 0 and year % 100 != 0) or (year % 400 == 0):\n",
    "        return True\n",
    "    else:\n",
    "        return False\n",
    "\n",
    "year = int(input(\"Enter a year: \"))\n",
    "if IsLeapYear(year):\n",
    "    print(f\"{year} is a leap year.\")\n",
    "else:\n",
    "    print(f\"{year} is not a leap year.\")\n"
   ]
  },
  {
   "cell_type": "markdown",
   "id": "e29edfc8",
   "metadata": {
    "id": "bea983a3"
   },
   "source": [
    "### Exercise 5:\n",
    "Write a Python function that checks if a number is divisible by both 3 and 5."
   ]
  },
  {
   "cell_type": "code",
   "execution_count": 9,
   "id": "273dba76",
   "metadata": {
    "id": "bea983a3"
   },
   "outputs": [
    {
     "name": "stdout",
     "output_type": "stream",
     "text": [
      "25 is not divisible by both 3 and 5.\n"
     ]
    }
   ],
   "source": [
    "def divisible_by_3_and_5(num):\n",
    "    return num % 3 == 0 and num % 5 == 0\n",
    "\n",
    "number = 25\n",
    "if divisible_by_3_and_5(number):\n",
    "    print(f\"{number} is divisible by both 3 and 5.\")\n",
    "else:\n",
    "    print(f\"{number} is not divisible by both 3 and 5.\")\n"
   ]
  },
  {
   "cell_type": "markdown",
   "id": "0cbf3475",
   "metadata": {
    "id": "bea983a3"
   },
   "source": [
    "### Exercise 6:\n",
    "Write a Python program that prints \"Hot\" if the temperature is above 30, \"Warm\" if it is between 15 and 30, and \"Cold\" if it is below 15."
   ]
  },
  {
   "cell_type": "code",
   "execution_count": 10,
   "id": "cb36cc7a",
   "metadata": {
    "id": "bea983a3"
   },
   "outputs": [
    {
     "name": "stdout",
     "output_type": "stream",
     "text": [
      "Enter the temperature: -2\n",
      "Cold\n"
     ]
    }
   ],
   "source": [
    "def check_temperature(temp):\n",
    "    if temp > 30:\n",
    "        print(\"Hot\")\n",
    "    elif 15 <= temp <= 30:\n",
    "        print(\"Warm\")\n",
    "    else:\n",
    "        print(\"Cold\")\n",
    "\n",
    "temperature = float(input(\"Enter the temperature: \"))\n",
    "check_temperature(temperature)\n"
   ]
  },
  {
   "cell_type": "markdown",
   "id": "9b590e74",
   "metadata": {
    "id": "bea983a3"
   },
   "source": [
    "### Exercise 7:\n",
    "Write a Python program that checks if a string contains the letter 'a'."
   ]
  },
  {
   "cell_type": "code",
   "execution_count": 11,
   "id": "3209188b",
   "metadata": {
    "id": "bea983a3"
   },
   "outputs": [
    {
     "name": "stdout",
     "output_type": "stream",
     "text": [
      "Enter a string: aredghha\n",
      "The string contains the letter 'a'.\n"
     ]
    }
   ],
   "source": [
    "def contains_a(s):\n",
    "    return 'a' in s.lower()\n",
    "\n",
    "text = input(\"Enter a string: \")\n",
    "if contains_a(text):\n",
    "    print(\"The string contains the letter 'a'.\")\n",
    "else:\n",
    "    print(\"The string does not contain the letter 'a'.\")\n"
   ]
  },
  {
   "cell_type": "markdown",
   "id": "f6d251de",
   "metadata": {
    "id": "bea983a3"
   },
   "source": [
    "### Exercise 8:\n",
    "Write a Python function that checks if two numbers are equal, or which one is larger."
   ]
  },
  {
   "cell_type": "code",
   "execution_count": 12,
   "id": "3c76d5fe",
   "metadata": {
    "id": "bea983a3"
   },
   "outputs": [
    {
     "name": "stdout",
     "output_type": "stream",
     "text": [
      "20 is greater than 10.\n",
      "The numbers are equal.\n",
      "30 is greater than 5.\n"
     ]
    }
   ],
   "source": [
    "def compare_numbers(a, b):\n",
    "    if a == b:\n",
    "        return \"The numbers are equal.\"\n",
    "    elif a > b:\n",
    "        return f\"{a} is greater than {b}.\"\n",
    "    else:\n",
    "        return f\"{b} is greater than {a}.\"\n",
    "\n",
    "print(compare_numbers(10, 20))  \n",
    "print(compare_numbers(15, 15))  \n",
    "print(compare_numbers(30, 5))   \n"
   ]
  },
  {
   "cell_type": "markdown",
   "id": "57f8302f",
   "metadata": {
    "id": "bea983a3"
   },
   "source": [
    "### Exercise 9:\n",
    "Write a Python program that checks if a list is empty."
   ]
  },
  {
   "cell_type": "code",
   "execution_count": 13,
   "id": "609eb9c3",
   "metadata": {
    "id": "bea983a3"
   },
   "outputs": [
    {
     "name": "stdout",
     "output_type": "stream",
     "text": [
      "The list is empty.\n",
      "The list is not empty.\n"
     ]
    }
   ],
   "source": [
    "def is_list_empty(liste):\n",
    "    if not liste:\n",
    "        print(\"The list is empty.\")\n",
    "    else:\n",
    "        print(\"The list is not empty.\")\n",
    "\n",
    "my_list = []\n",
    "is_list_empty(my_list)\n",
    "\n",
    "my_list = [1, 2, 3]\n",
    "is_list_empty(my_list)\n"
   ]
  },
  {
   "cell_type": "markdown",
   "id": "df36de57",
   "metadata": {
    "id": "bea983a3"
   },
   "source": [
    "### Exercise 10:\n",
    "Write a Python function that takes two strings and checks if they are anagrams."
   ]
  },
  {
   "cell_type": "code",
   "execution_count": 15,
   "id": "d42320ec",
   "metadata": {
    "id": "bea983a3"
   },
   "outputs": [
    {
     "name": "stdout",
     "output_type": "stream",
     "text": [
      "True\n",
      "False\n",
      "True\n"
     ]
    }
   ],
   "source": [
    "def anagrams(str1, str2):\n",
    "    str1_clean = str1.replace(\" \", \"\").lower()\n",
    "    str2_clean = str2.replace(\" \", \"\").lower()\n",
    "    \n",
    "    return sorted(str1_clean) == sorted(str2_clean)\n",
    "\n",
    "print(anagrams(\"listen\", \"silent\"))       \n",
    "print(anagrams(\"good\", \"luck\"))         \n",
    "print(anagrams(\"Dormitory\", \"Dirty room\"))\n"
   ]
  },
  {
   "cell_type": "markdown",
   "id": "4be2bc4d",
   "metadata": {
    "id": "bea983a3"
   },
   "source": [
    "### Exercise 11:\n",
    "Write a Python program that checks if a number is prime."
   ]
  },
  {
   "cell_type": "code",
   "execution_count": 17,
   "id": "809079e5",
   "metadata": {
    "id": "bea983a3"
   },
   "outputs": [
    {
     "name": "stdout",
     "output_type": "stream",
     "text": [
      "Enter a number: 34\n",
      "34 is not a prime number.\n"
     ]
    }
   ],
   "source": [
    "def prime(n):\n",
    "    if n <= 1:\n",
    "        return False\n",
    "    if n == 2:\n",
    "        return True\n",
    "    if n % 2 == 0:\n",
    "        return False\n",
    "    for i in range(3, int(n**0.5) + 1, 2):\n",
    "        if n % i == 0:\n",
    "            return False\n",
    "    return True\n",
    "\n",
    "number = int(input(\"Enter a number: \"))\n",
    "if prime(number):\n",
    "    print(f\"{number} is a prime number.\")\n",
    "else:\n",
    "    print(f\"{number} is not a prime number.\")\n"
   ]
  },
  {
   "cell_type": "markdown",
   "id": "f09535a8",
   "metadata": {
    "id": "bea983a3"
   },
   "source": [
    "### Exercise 12:\n",
    "Write a Python program that checks if a list of numbers is sorted in ascending order."
   ]
  },
  {
   "cell_type": "code",
   "execution_count": 20,
   "id": "a3c2d1df",
   "metadata": {
    "id": "bea983a3"
   },
   "outputs": [
    {
     "name": "stdout",
     "output_type": "stream",
     "text": [
      "The list is not sorted in ascending order.\n"
     ]
    }
   ],
   "source": [
    "def ord_ascending(numbers):\n",
    "    return numbers == sorted(numbers)\n",
    "\n",
    "num_list = [1, 2, 5, 1, 9,4]\n",
    "if ord_ascending(num_list):\n",
    "    print(\"The list is sorted in ascending order.\")\n",
    "else:\n",
    "    print(\"The list is not sorted in ascending order.\")\n"
   ]
  },
  {
   "cell_type": "markdown",
   "id": "fca91554",
   "metadata": {
    "id": "bea983a3"
   },
   "source": [
    "### Exercise 13:\n",
    "Write a Python function that takes a character and checks if it is a digit."
   ]
  },
  {
   "cell_type": "code",
   "execution_count": 23,
   "id": "bb70fc4c",
   "metadata": {
    "id": "bea983a3"
   },
   "outputs": [
    {
     "name": "stdout",
     "output_type": "stream",
     "text": [
      "True\n",
      "False\n",
      "False\n"
     ]
    }
   ],
   "source": [
    "def is_digit(char):\n",
    "    return char.isdigit()\n",
    "\n",
    "print(is_digit('5'))   \n",
    "print(is_digit('a'))   \n",
    "print(is_digit(' '))   \n"
   ]
  },
  {
   "cell_type": "markdown",
   "id": "662b0d7d",
   "metadata": {
    "id": "bea983a3"
   },
   "source": [
    "### Exercise 14:\n",
    "Write a Python function that checks if a string contains only uppercase letters."
   ]
  },
  {
   "cell_type": "code",
   "execution_count": 25,
   "id": "e8a677eb",
   "metadata": {
    "id": "bea983a3"
   },
   "outputs": [
    {
     "name": "stdout",
     "output_type": "stream",
     "text": [
      "True\n",
      "False\n"
     ]
    }
   ],
   "source": [
    "def uppercase(s):\n",
    "    return s.isupper()\n",
    "\n",
    "print( uppercase(\"HELLO\"))   \n",
    "print( uppercase(\"Hello\"))   \n",
    "      \n"
   ]
  },
  {
   "cell_type": "markdown",
   "id": "508506cb",
   "metadata": {
    "id": "bea983a3"
   },
   "source": [
    "### Exercise 15:\n",
    "Write a Python program that checks if a number is a multiple of 10."
   ]
  },
  {
   "cell_type": "code",
   "execution_count": 26,
   "id": "648a8a8e",
   "metadata": {
    "id": "bea983a3"
   },
   "outputs": [
    {
     "name": "stdout",
     "output_type": "stream",
     "text": [
      "Enter a number: 10\n",
      "10 is a multiple of 10.\n"
     ]
    }
   ],
   "source": [
    "def  multiple_of_10(num):\n",
    "    return num % 10 == 0\n",
    "\n",
    "number = int(input(\"Enter a number: \"))\n",
    "if  multiple_of_10(number):\n",
    "    print(f\"{number} is a multiple of 10.\")\n",
    "else:\n",
    "    print(f\"{number} is not a multiple of 10.\")\n"
   ]
  },
  {
   "cell_type": "markdown",
   "id": "c7dc878f",
   "metadata": {
    "id": "bea983a3"
   },
   "source": [
    "### Exercise 16:\n",
    "Write a Python function that checks if a list contains any duplicates."
   ]
  },
  {
   "cell_type": "code",
   "execution_count": 27,
   "id": "5b44bb02",
   "metadata": {
    "id": "bea983a3"
   },
   "outputs": [
    {
     "name": "stdout",
     "output_type": "stream",
     "text": [
      "False\n",
      "True\n",
      "False\n"
     ]
    }
   ],
   "source": [
    "def duplicates(lst):\n",
    "    return len(lst) != len(set(lst))\n",
    "\n",
    "print( duplicates([1, 2, 3, 4]))       \n",
    "print( duplicates([1, 2, 2, 3, 4]))    \n",
    "print( duplicates([]))                \n"
   ]
  },
  {
   "cell_type": "markdown",
   "id": "ff7f4cfa",
   "metadata": {
    "id": "bea983a3"
   },
   "source": [
    "### Exercise 17:\n",
    "Write a Python program that prints \"Teenager\" if the age is between 13 and 19, otherwise it prints \"Not a teenager.\""
   ]
  },
  {
   "cell_type": "code",
   "execution_count": 28,
   "id": "a3d19705",
   "metadata": {
    "id": "bea983a3"
   },
   "outputs": [
    {
     "name": "stdout",
     "output_type": "stream",
     "text": [
      "Enter your age: 27\n",
      "Not a teenager.\n"
     ]
    }
   ],
   "source": [
    "def check_teenager(age):\n",
    "    if 13 <= age <= 19:\n",
    "        print(\"Teenager\")\n",
    "    else:\n",
    "        print(\"Not a teenager.\")\n",
    "\n",
    "age = int(input(\"Enter your age: \"))\n",
    "check_teenager(age)\n"
   ]
  },
  {
   "cell_type": "markdown",
   "id": "d8bc7539",
   "metadata": {
    "id": "bea983a3"
   },
   "source": [
    "### Exercise 18:\n",
    "Write a Python function that checks if a list contains an element greater than 100.\n"
   ]
  },
  {
   "cell_type": "code",
   "execution_count": 29,
   "id": "95a09c38",
   "metadata": {
    "id": "bea983a3"
   },
   "outputs": [
    {
     "name": "stdout",
     "output_type": "stream",
     "text": [
      "True\n",
      "False\n"
     ]
    }
   ],
   "source": [
    "def greater_than_100(lst):\n",
    "    for num in lst:\n",
    "        if num > 100:\n",
    "            return True\n",
    "    return False\n",
    "\n",
    "print(greater_than_100([10, 50, 101]))  \n",
    "print( greater_than_100([5, 20, 99]))    \n"
   ]
  },
  {
   "cell_type": "markdown",
   "id": "0eeda734",
   "metadata": {
    "id": "bea983a3"
   },
   "source": [
    "### Exercise 19:\n",
    "Write a Python program that checks if a number is even or odd."
   ]
  },
  {
   "cell_type": "code",
   "execution_count": 30,
   "id": "d9f05216",
   "metadata": {
    "id": "bea983a3"
   },
   "outputs": [
    {
     "name": "stdout",
     "output_type": "stream",
     "text": [
      "Enter a number: 24\n",
      "24 is even.\n"
     ]
    }
   ],
   "source": [
    "def check_even_or_odd(number):\n",
    "    if number % 2 == 0:\n",
    "        print(f\"{number} is even.\")\n",
    "    else:\n",
    "        print(f\"{number} is odd.\")\n",
    "\n",
    "num = int(input(\"Enter a number: \"))\n",
    "check_even_or_odd(num)\n"
   ]
  },
  {
   "cell_type": "markdown",
   "id": "67478a0e",
   "metadata": {
    "id": "bea983a3"
   },
   "source": [
    "### Exercise 20:\n",
    "Write a Python function that checks if a string ends with a punctuation mark."
   ]
  },
  {
   "cell_type": "code",
   "execution_count": 31,
   "id": "e381ba65",
   "metadata": {
    "id": "bea983a3"
   },
   "outputs": [
    {
     "name": "stdout",
     "output_type": "stream",
     "text": [
      "True\n",
      "False\n",
      "False\n"
     ]
    }
   ],
   "source": [
    "import string\n",
    "\n",
    "def punctuation(s):\n",
    "    return s[-1] in string.punctuation if s else False\n",
    "\n",
    "print( punctuation(\"Hello!\"))     \n",
    "print( punctuation(\"Goodbye\"))   \n",
    "print( punctuation(\"\"))           \n"
   ]
  },
  {
   "cell_type": "markdown",
   "id": "30eaefdd",
   "metadata": {
    "id": "bea983a3"
   },
   "source": [
    "### Exercise 21:\n",
    "Write a Python program that prints \"Yes\" if the number is between 1 and 100, otherwise it prints \"No.\"\n"
   ]
  },
  {
   "cell_type": "code",
   "execution_count": 32,
   "id": "8e1a02ff",
   "metadata": {
    "id": "bea983a3"
   },
   "outputs": [
    {
     "name": "stdout",
     "output_type": "stream",
     "text": [
      "Enter a number: 23\n",
      "Yes\n"
     ]
    }
   ],
   "source": [
    "def check_range(num):\n",
    "    if 1 <= num <= 100:\n",
    "        print(\"Yes\")\n",
    "    else:\n",
    "        print(\"No\")\n",
    "\n",
    "number = int(input(\"Enter a number: \"))\n",
    "check_range(number)\n"
   ]
  },
  {
   "cell_type": "markdown",
   "id": "8cd361be",
   "metadata": {
    "id": "bea983a3"
   },
   "source": [
    "### Exercise 22:\n",
    "Write a Python program that checks if two strings have the same length.\n"
   ]
  },
  {
   "cell_type": "code",
   "execution_count": 33,
   "id": "89c5dc13",
   "metadata": {
    "id": "bea983a3"
   },
   "outputs": [
    {
     "name": "stdout",
     "output_type": "stream",
     "text": [
      "Enter the first string: fghjk\n",
      "Enter the second string: fghjk\n",
      "The strings have the same length.\n"
     ]
    }
   ],
   "source": [
    "def have_same_length(str1, str2):\n",
    "    return len(str1) == len(str2)\n",
    "\n",
    "string1 = input(\"Enter the first string: \")\n",
    "string2 = input(\"Enter the second string: \")\n",
    "\n",
    "if have_same_length(string1, string2):\n",
    "    print(\"The strings have the same length.\")\n",
    "else:\n",
    "    print(\"The strings do not have the same length.\")\n"
   ]
  },
  {
   "cell_type": "markdown",
   "id": "2ad51f36",
   "metadata": {
    "id": "bea983a3"
   },
   "source": [
    "### Exercise 23:\n",
    "Write a Python function that checks if a number is greater than its reverse."
   ]
  },
  {
   "cell_type": "code",
   "execution_count": 35,
   "id": "7bfc1b59",
   "metadata": {
    "id": "bea983a3"
   },
   "outputs": [
    {
     "name": "stdout",
     "output_type": "stream",
     "text": [
      "False\n",
      "True\n",
      "True\n"
     ]
    }
   ],
   "source": [
    "def is_greater_than_reverse(n):\n",
    "    reversed_n = int(str(n)[::-1])\n",
    "    return n > reversed_n\n",
    "\n",
    "\n",
    "print(is_greater_than_reverse(123))  \n",
    "print(is_greater_than_reverse(321))  \n",
    "print(is_greater_than_reverse(100))  \n"
   ]
  },
  {
   "cell_type": "markdown",
   "id": "9b3dd85e",
   "metadata": {
    "id": "bea983a3"
   },
   "source": [
    "### Exercise 24:\n",
    "Write a Python program that checks if a password contains both letters and numbers."
   ]
  },
  {
   "cell_type": "code",
   "execution_count": 36,
   "id": "e1b61dae",
   "metadata": {
    "id": "bea983a3"
   },
   "outputs": [
    {
     "name": "stdout",
     "output_type": "stream",
     "text": [
      "Enter your password: azrr1234\n",
      "Valid password: contains both letters and numbers.\n"
     ]
    }
   ],
   "source": [
    "def is_valid_password(password):\n",
    "    has_letter = any(char.isalpha() for char in password)\n",
    "    has_digit = any(char.isdigit() for char in password)\n",
    "    \n",
    "    if has_letter and has_digit:\n",
    "        print(\"Valid password: contains both letters and numbers.\")\n",
    "    else:\n",
    "        print(\"Invalid password: must contain both letters and numbers.\")\n",
    "\n",
    "pwd = input(\"Enter your password: \")\n",
    "is_valid_password(pwd)\n"
   ]
  },
  {
   "cell_type": "markdown",
   "id": "b016bf8c",
   "metadata": {
    "id": "bea983a3"
   },
   "source": [
    "### Exercise 25:\n",
    "Write a Python program that checks if a number is between two given numbers."
   ]
  },
  {
   "cell_type": "code",
   "execution_count": 37,
   "id": "aa10b043",
   "metadata": {
    "id": "bea983a3"
   },
   "outputs": [
    {
     "name": "stdout",
     "output_type": "stream",
     "text": [
      "Enter the number: 234\n",
      "Enter the lower bound: 457\n",
      "Enter the upper bound: 567\n",
      "234.0 is NOT between 457.0 and 567.0.\n"
     ]
    }
   ],
   "source": [
    "def is_between(num, lower, upper):\n",
    "    return lower < num < upper  \n",
    "\n",
    "number = float(input(\"Enter the number: \"))\n",
    "lower_bound = float(input(\"Enter the lower bound: \"))\n",
    "upper_bound = float(input(\"Enter the upper bound: \"))\n",
    "\n",
    "if is_between(number, lower_bound, upper_bound):\n",
    "    print(f\"{number} is between {lower_bound} and {upper_bound}.\")\n",
    "else:\n",
    "    print(f\"{number} is NOT between {lower_bound} and {upper_bound}.\")\n"
   ]
  },
  {
   "cell_type": "markdown",
   "id": "37ea0145",
   "metadata": {
    "id": "bea983a3"
   },
   "source": [
    "### Exercise 26:\n",
    "Write a Python function that checks if all characters in a string are unique."
   ]
  },
  {
   "cell_type": "code",
   "execution_count": 38,
   "id": "c7dba9c9",
   "metadata": {
    "id": "bea983a3"
   },
   "outputs": [
    {
     "name": "stdout",
     "output_type": "stream",
     "text": [
      "True\n",
      "False\n",
      "True\n"
     ]
    }
   ],
   "source": [
    "def all_unique_characters(s):\n",
    "    return len(set(s)) == len(s)\n",
    "\n",
    "print(all_unique_characters(\"abcdef\"))  \n",
    "print(all_unique_characters(\"hello\"))    \n",
    "print(all_unique_characters(\"\"))         \n"
   ]
  },
  {
   "cell_type": "markdown",
   "id": "056595ef",
   "metadata": {
    "id": "bea983a3"
   },
   "source": [
    "### Exercise 27:\n",
    "Write a Python program that checks if a number is a perfect square."
   ]
  },
  {
   "cell_type": "code",
   "execution_count": 39,
   "id": "7463789b",
   "metadata": {
    "id": "bea983a3"
   },
   "outputs": [
    {
     "name": "stdout",
     "output_type": "stream",
     "text": [
      "Enter a number: 49\n",
      "49 is a perfect square.\n"
     ]
    }
   ],
   "source": [
    "import math\n",
    "\n",
    "def is_perfect_square(n):\n",
    "    if n < 0:\n",
    "        return False\n",
    "    root = math.isqrt(n)\n",
    "    return root * root == n\n",
    "\n",
    "number = int(input(\"Enter a number: \"))\n",
    "if is_perfect_square(number):\n",
    "    print(f\"{number} is a perfect square.\")\n",
    "else:\n",
    "    print(f\"{number} is not a perfect square.\")\n"
   ]
  },
  {
   "cell_type": "markdown",
   "id": "1ca56d7d",
   "metadata": {
    "id": "bea983a3"
   },
   "source": [
    "### Exercise 28:\n",
    "Write a Python function that checks if a word is a palindrome."
   ]
  },
  {
   "cell_type": "code",
   "execution_count": 41,
   "id": "672aa9c6",
   "metadata": {
    "id": "bea983a3"
   },
   "outputs": [
    {
     "name": "stdout",
     "output_type": "stream",
     "text": [
      "True\n",
      "False\n",
      "True\n"
     ]
    }
   ],
   "source": [
    "def palindrome(word):\n",
    "    word = word.lower()  \n",
    "    return word == word[::-1]\n",
    "\n",
    "print( palindrome(\"non\"))     \n",
    "print( palindrome(\"Python\"))    \n",
    "print( palindrome(\"Level\"))     \n"
   ]
  },
  {
   "cell_type": "markdown",
   "id": "d93b3541",
   "metadata": {
    "id": "bea983a3"
   },
   "source": [
    "### Exercise 29:\n",
    "Write a Python program that prints \"Fizz\" if a number is divisible by 3, \"Buzz\" if it is divisible by 5, and \"FizzBuzz\" if divisible by both.\n"
   ]
  },
  {
   "cell_type": "code",
   "execution_count": 42,
   "id": "bf44b930",
   "metadata": {
    "id": "bea983a3"
   },
   "outputs": [
    {
     "name": "stdout",
     "output_type": "stream",
     "text": [
      "Enter a number: 15\n",
      "FizzBuzz\n"
     ]
    }
   ],
   "source": [
    "def FizzBuzz(n):\n",
    "    if n % 3 == 0 and n % 5 == 0:\n",
    "        print(\"FizzBuzz\")\n",
    "    elif n % 3 == 0:\n",
    "        print(\"Fizz\")\n",
    "    elif n % 5 == 0:\n",
    "        print(\"Buzz\")\n",
    "    else:\n",
    "        print(n)\n",
    "\n",
    "# Example usage\n",
    "number = int(input(\"Enter a number: \"))\n",
    "FizzBuzz(number)\n"
   ]
  },
  {
   "cell_type": "markdown",
   "id": "8dadaddc",
   "metadata": {
    "id": "bea983a3"
   },
   "source": [
    "### Exercise 30:\n",
    "Write a Python program that checks if the sum of the digits of a number is even."
   ]
  },
  {
   "cell_type": "code",
   "execution_count": 43,
   "id": "db044e50",
   "metadata": {
    "id": "bea983a3"
   },
   "outputs": [
    {
     "name": "stdout",
     "output_type": "stream",
     "text": [
      "Enter a number: 12\n",
      "The sum of the digits is odd.\n"
     ]
    }
   ],
   "source": [
    "def sum_even(n):\n",
    "    digit_sum = sum(int(digit) for digit in str(abs(n)))\n",
    "    return digit_sum % 2 == 0\n",
    "\n",
    "number = int(input(\"Enter a number: \"))\n",
    "if sum_even(number):\n",
    "    print(\"The sum of the digits is even.\")\n",
    "else:\n",
    "    print(\"The sum of the digits is odd.\")\n"
   ]
  },
  {
   "cell_type": "markdown",
   "id": "ce41522a",
   "metadata": {
    "id": "bea983a3"
   },
   "source": [
    "### Exercise 31:\n",
    "Write a Python program that checks if a string is a valid email address."
   ]
  },
  {
   "cell_type": "code",
   "execution_count": 46,
   "id": "e2d2a6f8",
   "metadata": {
    "id": "bea983a3"
   },
   "outputs": [
    {
     "name": "stdout",
     "output_type": "stream",
     "text": [
      "Enter an email address: fatou.b.mbaye@aims-senegal.org\n",
      "Valid email address.\n"
     ]
    }
   ],
   "source": [
    "import re\n",
    "\n",
    "def is_valid_email(email):\n",
    "    pattern = r'^[\\w\\.-]+@[\\w\\.-]+\\.\\w+$'\n",
    "    return re.match(pattern, email) is not None\n",
    "\n",
    "email_input = input(\"Enter an email address: \")\n",
    "if is_valid_email(email_input):\n",
    "    print(\"Valid email address.\")\n",
    "else:\n",
    "    print(\"Invalid email address.\")\n"
   ]
  },
  {
   "cell_type": "markdown",
   "id": "f320d421",
   "metadata": {
    "id": "bea983a3"
   },
   "source": [
    "### Exercise 32:\n",
    "Write a Python function that checks if a number is within 10 of 100 or 200."
   ]
  },
  {
   "cell_type": "code",
   "execution_count": 47,
   "id": "6d54db5b",
   "metadata": {
    "id": "bea983a3"
   },
   "outputs": [
    {
     "name": "stdout",
     "output_type": "stream",
     "text": [
      "True\n",
      "True\n",
      "False\n"
     ]
    }
   ],
   "source": [
    "def distance(n):\n",
    "    return abs(n - 100) <= 10 or abs(n - 200) <= 10\n",
    "\n",
    "print(distance(95))   \n",
    "print(distance(210))  \n",
    "print(distance(85))   \n"
   ]
  },
  {
   "cell_type": "markdown",
   "id": "2c787235",
   "metadata": {
    "id": "bea983a3"
   },
   "source": [
    "### Exercise 33:\n",
    "Write a Python program that checks if a given string is a valid URL."
   ]
  },
  {
   "cell_type": "markdown",
   "id": "ac89ecdf",
   "metadata": {
    "id": "bea983a3"
   },
   "source": []
  },
  {
   "cell_type": "markdown",
   "id": "81f723d6",
   "metadata": {
    "id": "bea983a3"
   },
   "source": [
    "### Exercise 34:\n",
    "Write a Python program that checks if a list contains all even numbers."
   ]
  },
  {
   "cell_type": "code",
   "execution_count": 50,
   "id": "ae3ee4f5",
   "metadata": {
    "id": "bea983a3"
   },
   "outputs": [
    {
     "name": "stdout",
     "output_type": "stream",
     "text": [
      "Enter numbers separated by spaces: 2 4 6 8 10\n",
      "All numbers in the list are even.\n"
     ]
    }
   ],
   "source": [
    "def all_even(numbers):\n",
    "    return all(num % 2 == 0 for num in numbers)\n",
    "\n",
    "user_input = input(\"Enter numbers separated by spaces: \")\n",
    "number_list = [int(n) for n in user_input.split()]\n",
    "\n",
    "if all_even(number_list):\n",
    "    print(\"All numbers in the list are even.\")\n",
    "else:\n",
    "    print(\"Not all numbers in the list are even.\")\n"
   ]
  },
  {
   "cell_type": "markdown",
   "id": "c7647e86",
   "metadata": {
    "id": "bea983a3"
   },
   "source": [
    "### Exercise 35:\n",
    "Write a Python program that checks if a word is longer than a given length."
   ]
  },
  {
   "cell_type": "code",
   "execution_count": 51,
   "id": "f2b63577",
   "metadata": {
    "id": "bea983a3"
   },
   "outputs": [
    {
     "name": "stdout",
     "output_type": "stream",
     "text": [
      "Enter a word: fatou\n",
      "Enter the minimum length: 5\n",
      "The word 'fatou' is not longer than 5 characters.\n"
     ]
    }
   ],
   "source": [
    "def comparative(word, length):\n",
    "    return len(word) > length\n",
    "\n",
    "word_input = input(\"Enter a word: \")\n",
    "length_input = int(input(\"Enter the minimum length: \"))\n",
    "\n",
    "if comparative(word_input, length_input):\n",
    "    print(f\"The word '{word_input}' is longer than {length_input} characters.\")\n",
    "else:\n",
    "    print(f\"The word '{word_input}' is not longer than {length_input} characters.\")\n"
   ]
  },
  {
   "cell_type": "markdown",
   "id": "da9113e8",
   "metadata": {
    "id": "bea983a3"
   },
   "source": [
    "### Exercise 36:\n",
    "Write a Python program that checks if a list contains only positive numbers."
   ]
  },
  {
   "cell_type": "code",
   "execution_count": 52,
   "id": "6f7c63ca",
   "metadata": {
    "id": "bea983a3"
   },
   "outputs": [
    {
     "name": "stdout",
     "output_type": "stream",
     "text": [
      "Enter numbers separated by spaces: 23 45 87 1 4\n",
      "All numbers in the list are positive.\n"
     ]
    }
   ],
   "source": [
    "def all_positive(numbers):\n",
    "    return all(num > 0 for num in numbers)\n",
    "\n",
    "user_input = input(\"Enter numbers separated by spaces: \")\n",
    "number_list = [float(n) for n in user_input.split()]\n",
    "\n",
    "if all_positive(number_list):\n",
    "    print(\"All numbers in the list are positive.\")\n",
    "else:\n",
    "    print(\"Not all numbers in the list are positive.\")\n"
   ]
  },
  {
   "cell_type": "markdown",
   "id": "bfb95868",
   "metadata": {
    "id": "bea983a3"
   },
   "source": [
    "### Exercise 37:\n",
    "Write a Python function that checks if a year is a century year (i.e., divisible by 100)."
   ]
  },
  {
   "cell_type": "code",
   "execution_count": 53,
   "id": "096f0957",
   "metadata": {
    "id": "bea983a3"
   },
   "outputs": [
    {
     "name": "stdout",
     "output_type": "stream",
     "text": [
      "True\n",
      "False\n",
      "True\n"
     ]
    }
   ],
   "source": [
    "def century_year(year):\n",
    "    return year % 100 == 0\n",
    "\n",
    "print( century_year(1800))  \n",
    "print( century_year(2004))  \n",
    "print( century_year(2000))  \n"
   ]
  },
  {
   "cell_type": "markdown",
   "id": "a6b62850",
   "metadata": {
    "id": "bea983a3"
   },
   "source": [
    "### Exercise 38:\n",
    "Write a Python program that checks if the sum of a list of numbers is greater than 100."
   ]
  },
  {
   "cell_type": "code",
   "execution_count": 54,
   "id": "889690e8",
   "metadata": {
    "id": "bea983a3"
   },
   "outputs": [
    {
     "name": "stdout",
     "output_type": "stream",
     "text": [
      "Enter numbers separated by spaces: 2 4 7 76 9\n",
      "The sum of the numbers is not greater than 100.\n"
     ]
    }
   ],
   "source": [
    "def sum_greater_than_100(numbers):\n",
    "    return sum(numbers) > 100\n",
    "\n",
    "user_input = input(\"Enter numbers separated by spaces: \")\n",
    "number_list = [float(n) for n in user_input.split()]\n",
    "\n",
    "if  sum_greater_than_100(number_list):\n",
    "    print(\"The sum of the numbers is greater than 100.\")\n",
    "else:\n",
    "    print(\"The sum of the numbers is not greater than 100.\")\n"
   ]
  },
  {
   "cell_type": "markdown",
   "id": "bbaace97",
   "metadata": {
    "id": "bea983a3"
   },
   "source": [
    "### Exercise 39:\n",
    "Write a Python function that checks if a given word is a substring of another string."
   ]
  },
  {
   "cell_type": "code",
   "execution_count": 57,
   "id": "261ab226",
   "metadata": {
    "id": "bea983a3"
   },
   "outputs": [
    {
     "name": "stdout",
     "output_type": "stream",
     "text": [
      "False\n",
      "True\n"
     ]
    }
   ],
   "source": [
    "def is_substring(word, text):\n",
    "    return word in text\n",
    "\n",
    "print(is_substring(\"cas\", \"courte\"))  \n",
    "print(is_substring(\"danger\", \"dangereux\"))  \n"
   ]
  },
  {
   "cell_type": "markdown",
   "id": "a0e05853",
   "metadata": {
    "id": "bea983a3"
   },
   "source": [
    "### Exercise 40:\n",
    "Write a Python program that checks if a number is a power of 2."
   ]
  },
  {
   "cell_type": "code",
   "execution_count": 58,
   "id": "982c080d",
   "metadata": {
    "id": "bea983a3"
   },
   "outputs": [
    {
     "name": "stdout",
     "output_type": "stream",
     "text": [
      "Enter a number: 4\n",
      "4 is a power of 2.\n"
     ]
    }
   ],
   "source": [
    "def is_power_of_2(n):\n",
    "    if n <= 0:\n",
    "        return False\n",
    "    return (n & (n - 1)) == 0\n",
    "\n",
    "number = int(input(\"Enter a number: \"))\n",
    "if is_power_of_2(number):\n",
    "    print(f\"{number} is a power of 2.\")\n",
    "else:\n",
    "    print(f\"{number} is NOT a power of 2.\")\n"
   ]
  },
  {
   "cell_type": "markdown",
   "id": "57fa48b8",
   "metadata": {
    "id": "bea983a3"
   },
   "source": [
    "### Exercise 41:\n",
    "Write a Python function that checks if a string contains no spaces."
   ]
  },
  {
   "cell_type": "code",
   "execution_count": 59,
   "id": "791933ab",
   "metadata": {
    "id": "bea983a3"
   },
   "outputs": [
    {
     "name": "stdout",
     "output_type": "stream",
     "text": [
      "True\n",
      "False\n"
     ]
    }
   ],
   "source": [
    "def no_spaces(text):\n",
    "    return ' ' not in text\n",
    "\n",
    "print( no_spaces(\"HelloWorld\"))     \n",
    "print( no_spaces(\"Hello World\"))    \n"
   ]
  },
  {
   "cell_type": "markdown",
   "id": "ac56c640",
   "metadata": {
    "id": "bea983a3"
   },
   "source": [
    "### Exercise 42:\n",
    "Write a Python program that prints \"Yes\" if a number is divisible by both 2 and 3, otherwise it prints \"No.\""
   ]
  },
  {
   "cell_type": "code",
   "execution_count": 60,
   "id": "58fa1a25",
   "metadata": {
    "id": "bea983a3"
   },
   "outputs": [
    {
     "name": "stdout",
     "output_type": "stream",
     "text": [
      "Enter a number: 23\n",
      "No\n"
     ]
    }
   ],
   "source": [
    "def check_divisibility(n):\n",
    "    if n % 2 == 0 and n % 3 == 0:\n",
    "        print(\"Yes\")\n",
    "    else:\n",
    "        print(\"No\")\n",
    "\n",
    "number = int(input(\"Enter a number: \"))\n",
    "check_divisibility(number)\n"
   ]
  },
  {
   "cell_type": "markdown",
   "id": "e50cc31f",
   "metadata": {
    "id": "bea983a3"
   },
   "source": [
    "### Exercise 43:\n",
    "Write a Python program that checks if a number is a palindrome."
   ]
  },
  {
   "cell_type": "code",
   "execution_count": 62,
   "id": "9613b506",
   "metadata": {
    "id": "bea983a3"
   },
   "outputs": [
    {
     "name": "stdout",
     "output_type": "stream",
     "text": [
      "Enter a number: 22\n",
      "22 is a palindrome.\n"
     ]
    }
   ],
   "source": [
    "def palindrome_number(n):\n",
    "    number = str(n)\n",
    "    reversed_num = number[::-1]\n",
    "    return number == reversed_num\n",
    "\n",
    "\n",
    "num = int(input(\"Enter a number: \"))\n",
    "if palindrome_number(num):\n",
    "    print(f\"{num } is a palindrome.\")\n",
    "else:\n",
    "    print(f\"{num } is not a palindrome.\")\n"
   ]
  },
  {
   "cell_type": "markdown",
   "id": "f2db498b",
   "metadata": {
    "id": "bea983a3"
   },
   "source": [
    "### Exercise 44:\n",
    "Write a Python function that checks if a string is made of only lowercase letters."
   ]
  },
  {
   "cell_type": "code",
   "execution_count": 63,
   "id": "61b59a43",
   "metadata": {
    "id": "bea983a3"
   },
   "outputs": [
    {
     "name": "stdout",
     "output_type": "stream",
     "text": [
      "True\n",
      "False\n",
      "True\n"
     ]
    }
   ],
   "source": [
    "def  all_lowercase(s):\n",
    "    return s.islower()\n",
    "\n",
    "print( all_lowercase(\"hello\"))     \n",
    "print( all_lowercase(\"Hello\"))     \n",
    "print( all_lowercase(\"hello123\"))  \n"
   ]
  },
  {
   "cell_type": "markdown",
   "id": "d2700d29",
   "metadata": {
    "id": "bea983a3"
   },
   "source": [
    "### Exercise 45:\n",
    "Write a Python program that checks if a string starts with a specific prefix."
   ]
  },
  {
   "cell_type": "code",
   "execution_count": 65,
   "id": "c4b52e05",
   "metadata": {
    "id": "bea983a3"
   },
   "outputs": [
    {
     "name": "stdout",
     "output_type": "stream",
     "text": [
      "Enter a string: ertyui\n",
      "Enter the prefix to check: kjhf\n",
      "The string does not start with 'kjhf'.\n"
     ]
    }
   ],
   "source": [
    "def starts_with_prefix(text, prefix):\n",
    "    return text.startswith(prefix)\n",
    "\n",
    "text_input = input(\"Enter a string: \")\n",
    "prefix_input = input(\"Enter the prefix to check: \")\n",
    "\n",
    "if starts_with_prefix(text_input, prefix_input):\n",
    "    print(f\"The string starts with '{prefix_input}'.\")\n",
    "else:\n",
    "    print(f\"The string does not start with '{prefix_input}'.\")\n"
   ]
  },
  {
   "cell_type": "markdown",
   "id": "3926fd6f",
   "metadata": {
    "id": "bea983a3"
   },
   "source": [
    "### Exercise 46:\n",
    "Write a Python function that checks if a number is divisible by any number in a given list.\n"
   ]
  },
  {
   "cell_type": "code",
   "execution_count": 67,
   "id": "f4b68ca8",
   "metadata": {
    "id": "bea983a3"
   },
   "outputs": [
    {
     "name": "stdout",
     "output_type": "stream",
     "text": [
      "True\n",
      "False\n",
      "True\n"
     ]
    }
   ],
   "source": [
    "def is_divisible_by_any(n, divisors):\n",
    "    return any(n % d == 0 for d in divisors if d != 0)\n",
    "\n",
    "print(is_divisible_by_any(20, [3, 5, 7]))   \n",
    "print(is_divisible_by_any(13, [2, 4, 6]))   \n",
    "print(is_divisible_by_any(10, [0, 2]))      \n"
   ]
  },
  {
   "cell_type": "markdown",
   "id": "2b7c88b6",
   "metadata": {
    "id": "bea983a3"
   },
   "source": [
    "### Exercise 47:\n",
    "Write a Python program that prints \"Yes\" if a string has more than one occurrence of the same letter."
   ]
  },
  {
   "cell_type": "code",
   "execution_count": 68,
   "id": "ffbdc2b9",
   "metadata": {
    "id": "bea983a3"
   },
   "outputs": [
    {
     "name": "stdout",
     "output_type": "stream",
     "text": [
      "Enter a string: rereretyuoiokbvg\n",
      "Yes\n"
     ]
    }
   ],
   "source": [
    "def occurence(s):\n",
    "    seen = set()\n",
    "    for char in s:\n",
    "        if char.isalpha():  # Only consider letters\n",
    "            if char in seen:\n",
    "                return True\n",
    "            seen.add(char)\n",
    "    return False\n",
    "\n",
    "text = input(\"Enter a string: \")\n",
    "if occurence(text):\n",
    "    print(\"Yes\")\n",
    "else:\n",
    "    print(\"No\")\n"
   ]
  },
  {
   "cell_type": "markdown",
   "id": "9d94906a",
   "metadata": {
    "id": "bea983a3"
   },
   "source": [
    "### Exercise 48:\n",
    "Write a Python function that checks if a number is prime by dividing it by numbers up to its square root."
   ]
  },
  {
   "cell_type": "code",
   "execution_count": 70,
   "id": "adb2c0d4",
   "metadata": {
    "id": "bea983a3"
   },
   "outputs": [
    {
     "name": "stdout",
     "output_type": "stream",
     "text": [
      "True\n",
      "False\n",
      "True\n"
     ]
    }
   ],
   "source": [
    "import math\n",
    "\n",
    "def is_prime(n):\n",
    "    if n <= 1:\n",
    "        return False\n",
    "    if n == 2:\n",
    "        return True\n",
    "    if n % 2 == 0:\n",
    "        return False\n",
    "\n",
    "    max_divisor = int(math.sqrt(n)) + 1\n",
    "    for i in range(3, max_divisor, 2):\n",
    "        if n % i == 0:\n",
    "            return False\n",
    "    return True\n",
    "\n",
    "print(is_prime(29))  \n",
    "print(is_prime(30))  \n",
    "print(is_prime(2))  \n"
   ]
  },
  {
   "cell_type": "markdown",
   "id": "c8953558",
   "metadata": {
    "id": "bea983a3"
   },
   "source": [
    "### Exercise 49:\n",
    "Write a Python program that checks if a number is within 1 of a multiple of 10."
   ]
  },
  {
   "cell_type": "code",
   "execution_count": 71,
   "id": "946ecacb",
   "metadata": {
    "id": "bea983a3"
   },
   "outputs": [
    {
     "name": "stdout",
     "output_type": "stream",
     "text": [
      "Enter a number: 120\n",
      "No\n"
     ]
    }
   ],
   "source": [
    "def  multiple_of_10(n):\n",
    "    remainder = n % 10\n",
    "    return remainder == 1 or remainder == 9\n",
    "\n",
    "number = int(input(\"Enter a number: \"))\n",
    "if  multiple_of_10(number):\n",
    "    print(\"Yes\")\n",
    "else:\n",
    "    print(\"No\")\n"
   ]
  },
  {
   "cell_type": "markdown",
   "id": "6a7a69ca",
   "metadata": {
    "id": "bea983a3"
   },
   "source": [
    "### Exercise 50:\n",
    "Write a Python program that prints \"In range\" if a number is between 10 and 20 (inclusive), otherwise it prints \"Out of range.\""
   ]
  },
  {
   "cell_type": "code",
   "execution_count": 72,
   "id": "dd0323e5",
   "metadata": {
    "id": "bea983a3"
   },
   "outputs": [
    {
     "name": "stdout",
     "output_type": "stream",
     "text": [
      "Enter a number: 11\n",
      "In range\n"
     ]
    }
   ],
   "source": [
    "def check_range(n):\n",
    "    if 10 <= n <= 20:\n",
    "        print(\"In range\")\n",
    "    else:\n",
    "        print(\"Out of range\")\n",
    "\n",
    "number = int(input(\"Enter a number: \"))\n",
    "check_range(number)\n"
   ]
  },
  {
   "cell_type": "markdown",
   "id": "bea983a3",
   "metadata": {
    "id": "bea983a3"
   },
   "source": []
  }
 ],
 "metadata": {
  "colab": {
   "provenance": []
  },
  "kernelspec": {
   "display_name": "Python 3 (ipykernel)",
   "language": "python",
   "name": "python3"
  },
  "language_info": {
   "codemirror_mode": {
    "name": "ipython",
    "version": 3
   },
   "file_extension": ".py",
   "mimetype": "text/x-python",
   "name": "python",
   "nbconvert_exporter": "python",
   "pygments_lexer": "ipython3",
   "version": "3.12.3"
  }
 },
 "nbformat": 4,
 "nbformat_minor": 5
}
